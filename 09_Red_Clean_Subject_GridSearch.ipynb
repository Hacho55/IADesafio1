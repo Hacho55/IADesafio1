{
 "cells": [
  {
   "cell_type": "markdown",
   "metadata": {},
   "source": [
    "## Entrenamiento con redes neuronales\n",
    "\n",
    "---\n",
    "\n",
    "### Con limpieza específica basada en el analisis preliminar"
   ]
  },
  {
   "cell_type": "code",
   "execution_count": 1,
   "metadata": {},
   "outputs": [],
   "source": [
    "%run \"Funciones.py\"\n",
    "%matplotlib inline"
   ]
  },
  {
   "cell_type": "code",
   "execution_count": 2,
   "metadata": {},
   "outputs": [],
   "source": [
    "# Importo los datos como dataframe de pandas\n",
    "real = pd.read_csv(\"Data/True.csv\")\n",
    "fake = pd.read_csv(\"Data/Fake.csv\")"
   ]
  },
  {
   "cell_type": "markdown",
   "metadata": {},
   "source": [
    "### Aplicamos alguna limpieza previa"
   ]
  },
  {
   "cell_type": "markdown",
   "metadata": {},
   "source": [
    "Difference in Text\n",
    "\n",
    "Real news seems to have source of publication which is not present in fake news set\n",
    "\n",
    "Looking at the data:\n",
    "\n",
    "*most of text contains reuters information such as \"WASHINGTON (Reuters)\"\n",
    "\n",
    "*Some text are tweets from Twitter\n",
    "\n",
    "*Few text do not contain any publication info"
   ]
  },
  {
   "cell_type": "code",
   "execution_count": 3,
   "metadata": {},
   "outputs": [],
   "source": [
    "# First Creating list of index that do not have publication part\n",
    "unknown_publishers = []\n",
    "for index,row in enumerate(real.text.values):\n",
    "    try:\n",
    "        record = row.split(\" -\", maxsplit=1)\n",
    "        #if no text part is present, following will give error\n",
    "        record[1]\n",
    "        #if len of piblication part is greater than 260\n",
    "        #following will give error, ensuring no text having \"-\" in between is counted\n",
    "        assert(len(record[0]) < 260)\n",
    "    except:\n",
    "        unknown_publishers.append(index)"
   ]
  },
  {
   "cell_type": "code",
   "execution_count": 4,
   "metadata": {},
   "outputs": [
    {
     "data": {
      "text/plain": [
       "3488     The White House on Wednesday disclosed a group...\n",
       "4358     Neil Gorsuch, President Donald Trump’s appoint...\n",
       "4465     WASHINGTON The clock began running out this we...\n",
       "5784     Federal appeals court judge Neil Gorsuch, the ...\n",
       "6660     Republican members of Congress are complaining...\n",
       "6823     Over the course of the U.S. presidential campa...\n",
       "7922     After going through a week reminiscent of Napo...\n",
       "8194     The following timeline charts the origin and s...\n",
       "8195     Global health officials are racing to better u...\n",
       "8247     U.S. President Barack Obama visited a street m...\n",
       "8465     ALGONAC, MICH.—Parker Fox drifted out of the D...\n",
       "8481     Global health officials are racing to better u...\n",
       "8482     The following timeline charts the origin and s...\n",
       "8505     Global health officials are racing to better u...\n",
       "8506     The following timeline charts the origin and s...\n",
       "8771     In a speech weighted with America’s complicate...\n",
       "8970                                                      \n",
       "9008     The following timeline charts the origin and s...\n",
       "9009     Global health officials are racing to better u...\n",
       "9307     It’s the near future, and North Korea’s regime...\n",
       "9618     GOP leaders have unleashed a stunning level of...\n",
       "9737     Caitlyn Jenner posted a video on Wednesday (Ap...\n",
       "10479    The Democratic and Republican nominees for the...\n",
       "Name: text, dtype: object"
      ]
     },
     "execution_count": 4,
     "metadata": {},
     "output_type": "execute_result"
    }
   ],
   "source": [
    "# Thus we have list of indices where publisher is not mentioned\n",
    "# lets check\n",
    "real.iloc[unknown_publishers].text\n",
    "# true, they do not have text like \"WASHINGTON (Reuters)\""
   ]
  },
  {
   "cell_type": "code",
   "execution_count": 5,
   "metadata": {},
   "outputs": [],
   "source": [
    "# Seperating Publication info, from actual text\n",
    "publisher = []\n",
    "tmp_text = []\n",
    "for index,row in enumerate(real.text.values):\n",
    "    if index in unknown_publishers:\n",
    "        #Add unknown of publisher not mentioned\n",
    "        tmp_text.append(row)\n",
    "        \n",
    "        publisher.append(\"Unknown\")\n",
    "        continue\n",
    "    record = row.split(\" -\", maxsplit=1)\n",
    "    publisher.append(record[0])\n",
    "    tmp_text.append(record[1])"
   ]
  },
  {
   "cell_type": "code",
   "execution_count": 6,
   "metadata": {},
   "outputs": [],
   "source": [
    "# Replace existing text column with new text\n",
    "# add seperate column for publication info\n",
    "# real[\"publisher\"] = publisher\n",
    "real[\"text\"] = tmp_text\n",
    "\n",
    "del publisher, tmp_text, record, unknown_publishers"
   ]
  },
  {
   "cell_type": "code",
   "execution_count": 7,
   "metadata": {},
   "outputs": [
    {
     "data": {
      "text/html": [
       "<div>\n",
       "<style scoped>\n",
       "    .dataframe tbody tr th:only-of-type {\n",
       "        vertical-align: middle;\n",
       "    }\n",
       "\n",
       "    .dataframe tbody tr th {\n",
       "        vertical-align: top;\n",
       "    }\n",
       "\n",
       "    .dataframe thead th {\n",
       "        text-align: right;\n",
       "    }\n",
       "</style>\n",
       "<table border=\"1\" class=\"dataframe\">\n",
       "  <thead>\n",
       "    <tr style=\"text-align: right;\">\n",
       "      <th></th>\n",
       "      <th>title</th>\n",
       "      <th>text</th>\n",
       "      <th>subject</th>\n",
       "      <th>date</th>\n",
       "    </tr>\n",
       "  </thead>\n",
       "  <tbody>\n",
       "    <tr>\n",
       "      <th>0</th>\n",
       "      <td>As U.S. budget fight looms, Republicans flip t...</td>\n",
       "      <td>The head of a conservative Republican faction...</td>\n",
       "      <td>politicsNews</td>\n",
       "      <td>December 31, 2017</td>\n",
       "    </tr>\n",
       "    <tr>\n",
       "      <th>1</th>\n",
       "      <td>U.S. military to accept transgender recruits o...</td>\n",
       "      <td>Transgender people will be allowed for the fi...</td>\n",
       "      <td>politicsNews</td>\n",
       "      <td>December 29, 2017</td>\n",
       "    </tr>\n",
       "    <tr>\n",
       "      <th>2</th>\n",
       "      <td>Senior U.S. Republican senator: 'Let Mr. Muell...</td>\n",
       "      <td>The special counsel investigation of links be...</td>\n",
       "      <td>politicsNews</td>\n",
       "      <td>December 31, 2017</td>\n",
       "    </tr>\n",
       "    <tr>\n",
       "      <th>3</th>\n",
       "      <td>FBI Russia probe helped by Australian diplomat...</td>\n",
       "      <td>Trump campaign adviser George Papadopoulos to...</td>\n",
       "      <td>politicsNews</td>\n",
       "      <td>December 30, 2017</td>\n",
       "    </tr>\n",
       "    <tr>\n",
       "      <th>4</th>\n",
       "      <td>Trump wants Postal Service to charge 'much mor...</td>\n",
       "      <td>President Donald Trump called on the U.S. Pos...</td>\n",
       "      <td>politicsNews</td>\n",
       "      <td>December 29, 2017</td>\n",
       "    </tr>\n",
       "  </tbody>\n",
       "</table>\n",
       "</div>"
      ],
      "text/plain": [
       "                                               title  \\\n",
       "0  As U.S. budget fight looms, Republicans flip t...   \n",
       "1  U.S. military to accept transgender recruits o...   \n",
       "2  Senior U.S. Republican senator: 'Let Mr. Muell...   \n",
       "3  FBI Russia probe helped by Australian diplomat...   \n",
       "4  Trump wants Postal Service to charge 'much mor...   \n",
       "\n",
       "                                                text       subject  \\\n",
       "0   The head of a conservative Republican faction...  politicsNews   \n",
       "1   Transgender people will be allowed for the fi...  politicsNews   \n",
       "2   The special counsel investigation of links be...  politicsNews   \n",
       "3   Trump campaign adviser George Papadopoulos to...  politicsNews   \n",
       "4   President Donald Trump called on the U.S. Pos...  politicsNews   \n",
       "\n",
       "                 date  \n",
       "0  December 31, 2017   \n",
       "1  December 29, 2017   \n",
       "2  December 31, 2017   \n",
       "3  December 30, 2017   \n",
       "4  December 29, 2017   "
      ]
     },
     "execution_count": 7,
     "metadata": {},
     "output_type": "execute_result"
    }
   ],
   "source": [
    "real.head()"
   ]
  },
  {
   "cell_type": "code",
   "execution_count": 8,
   "metadata": {},
   "outputs": [],
   "source": [
    "# dropping this record\n",
    "real = real.drop(8970, axis=0)"
   ]
  },
  {
   "cell_type": "markdown",
   "metadata": {},
   "source": [
    "#### Hasta aca se elimino la agencia que solo esta presente en las noticias reales"
   ]
  },
  {
   "cell_type": "code",
   "execution_count": 9,
   "metadata": {},
   "outputs": [
    {
     "data": {
      "text/html": [
       "<div>\n",
       "<style scoped>\n",
       "    .dataframe tbody tr th:only-of-type {\n",
       "        vertical-align: middle;\n",
       "    }\n",
       "\n",
       "    .dataframe tbody tr th {\n",
       "        vertical-align: top;\n",
       "    }\n",
       "\n",
       "    .dataframe thead th {\n",
       "        text-align: right;\n",
       "    }\n",
       "</style>\n",
       "<table border=\"1\" class=\"dataframe\">\n",
       "  <thead>\n",
       "    <tr style=\"text-align: right;\">\n",
       "      <th></th>\n",
       "      <th>title</th>\n",
       "      <th>text</th>\n",
       "      <th>subject</th>\n",
       "      <th>date</th>\n",
       "    </tr>\n",
       "  </thead>\n",
       "  <tbody>\n",
       "    <tr>\n",
       "      <th>4093</th>\n",
       "      <td>Trump's push to fund wall may be delayed as go...</td>\n",
       "      <td>U.S. President Donald Trump indicated an open...</td>\n",
       "      <td>politicsNews</td>\n",
       "      <td>April 24, 2017</td>\n",
       "    </tr>\n",
       "    <tr>\n",
       "      <th>2077</th>\n",
       "      <td>Bruising debate brings a reluctant Trump aroun...</td>\n",
       "      <td>U.S. President Donald Trump came around to th...</td>\n",
       "      <td>politicsNews</td>\n",
       "      <td>August 22, 2017</td>\n",
       "    </tr>\n",
       "    <tr>\n",
       "      <th>43722</th>\n",
       "      <td>THIS YEAR: Let’s Make Christmas Great Again…</td>\n",
       "      <td>This year, let s try something a little differ...</td>\n",
       "      <td>US_News</td>\n",
       "      <td>December 25, 2016</td>\n",
       "    </tr>\n",
       "    <tr>\n",
       "      <th>6525</th>\n",
       "      <td>Schumer on Republican Obamacare repeal: it's t...</td>\n",
       "      <td>U.S. Senate Democratic leader Chuck Schumer s...</td>\n",
       "      <td>politicsNews</td>\n",
       "      <td>January 4, 2017</td>\n",
       "    </tr>\n",
       "    <tr>\n",
       "      <th>2955</th>\n",
       "      <td>Senate bill would cut Medicaid spending 35 per...</td>\n",
       "      <td>Spending on the Medicaid healthcare program f...</td>\n",
       "      <td>politicsNews</td>\n",
       "      <td>June 29, 2017</td>\n",
       "    </tr>\n",
       "    <tr>\n",
       "      <th>...</th>\n",
       "      <td>...</td>\n",
       "      <td>...</td>\n",
       "      <td>...</td>\n",
       "      <td>...</td>\n",
       "    </tr>\n",
       "    <tr>\n",
       "      <th>2617</th>\n",
       "      <td>The Sean Spicer Show: White House spokesman's ...</td>\n",
       "      <td>Sean Spicer burst onto the public stage six m...</td>\n",
       "      <td>politicsNews</td>\n",
       "      <td>July 21, 2017</td>\n",
       "    </tr>\n",
       "    <tr>\n",
       "      <th>27128</th>\n",
       "      <td>Trump’s Flip-Flop: Now He’s Complaining That ...</td>\n",
       "      <td>Donald Trump appears to be backing off on his ...</td>\n",
       "      <td>News</td>\n",
       "      <td>June 26, 2016</td>\n",
       "    </tr>\n",
       "    <tr>\n",
       "      <th>22676</th>\n",
       "      <td>London Mayor Demands UK Cancel Trump’s State ...</td>\n",
       "      <td>Trump picked a petty, embarrassing fight with ...</td>\n",
       "      <td>News</td>\n",
       "      <td>June 5, 2017</td>\n",
       "    </tr>\n",
       "    <tr>\n",
       "      <th>31963</th>\n",
       "      <td>UPDATE: DEM OFFICIAL CAUGHT ON TAPE: “I’m Glad...</td>\n",
       "      <td>THE UPDATE TO THIS NEBRASKA DEMOCRATIC PARTY O...</td>\n",
       "      <td>politics</td>\n",
       "      <td>Jun 23, 2017</td>\n",
       "    </tr>\n",
       "    <tr>\n",
       "      <th>26250</th>\n",
       "      <td>WATCH: Trump Campaign Manager Blames Women Fo...</td>\n",
       "      <td>Once again, a Republican rape comment surfaces...</td>\n",
       "      <td>News</td>\n",
       "      <td>August 31, 2016</td>\n",
       "    </tr>\n",
       "  </tbody>\n",
       "</table>\n",
       "<p>44897 rows × 4 columns</p>\n",
       "</div>"
      ],
      "text/plain": [
       "                                                   title  \\\n",
       "4093   Trump's push to fund wall may be delayed as go...   \n",
       "2077   Bruising debate brings a reluctant Trump aroun...   \n",
       "43722       THIS YEAR: Let’s Make Christmas Great Again…   \n",
       "6525   Schumer on Republican Obamacare repeal: it's t...   \n",
       "2955   Senate bill would cut Medicaid spending 35 per...   \n",
       "...                                                  ...   \n",
       "2617   The Sean Spicer Show: White House spokesman's ...   \n",
       "27128   Trump’s Flip-Flop: Now He’s Complaining That ...   \n",
       "22676   London Mayor Demands UK Cancel Trump’s State ...   \n",
       "31963  UPDATE: DEM OFFICIAL CAUGHT ON TAPE: “I’m Glad...   \n",
       "26250   WATCH: Trump Campaign Manager Blames Women Fo...   \n",
       "\n",
       "                                                    text       subject  \\\n",
       "4093    U.S. President Donald Trump indicated an open...  politicsNews   \n",
       "2077    U.S. President Donald Trump came around to th...  politicsNews   \n",
       "43722  This year, let s try something a little differ...       US_News   \n",
       "6525    U.S. Senate Democratic leader Chuck Schumer s...  politicsNews   \n",
       "2955    Spending on the Medicaid healthcare program f...  politicsNews   \n",
       "...                                                  ...           ...   \n",
       "2617    Sean Spicer burst onto the public stage six m...  politicsNews   \n",
       "27128  Donald Trump appears to be backing off on his ...          News   \n",
       "22676  Trump picked a petty, embarrassing fight with ...          News   \n",
       "31963  THE UPDATE TO THIS NEBRASKA DEMOCRATIC PARTY O...      politics   \n",
       "26250  Once again, a Republican rape comment surfaces...          News   \n",
       "\n",
       "                    date  \n",
       "4093     April 24, 2017   \n",
       "2077    August 22, 2017   \n",
       "43722  December 25, 2016  \n",
       "6525    January 4, 2017   \n",
       "2955      June 29, 2017   \n",
       "...                  ...  \n",
       "2617      July 21, 2017   \n",
       "27128      June 26, 2016  \n",
       "22676       June 5, 2017  \n",
       "31963       Jun 23, 2017  \n",
       "26250    August 31, 2016  \n",
       "\n",
       "[44897 rows x 4 columns]"
      ]
     },
     "execution_count": 9,
     "metadata": {},
     "output_type": "execute_result"
    }
   ],
   "source": [
    "# Mezclamos los 2 dataframes y los ramdomisamos el orden\n",
    "news = real.append(fake, ignore_index=True)\n",
    "news = shuffle(news)\n",
    "news"
   ]
  },
  {
   "cell_type": "code",
   "execution_count": 10,
   "metadata": {},
   "outputs": [
    {
     "data": {
      "text/plain": [
       "[Text(0, 0, 'politicsNews'),\n",
       " Text(1, 0, 'US_News'),\n",
       " Text(2, 0, 'News'),\n",
       " Text(3, 0, 'Government News'),\n",
       " Text(4, 0, 'worldnews'),\n",
       " Text(5, 0, 'politics'),\n",
       " Text(6, 0, 'left-news'),\n",
       " Text(7, 0, 'Middle-east')]"
      ]
     },
     "execution_count": 10,
     "metadata": {},
     "output_type": "execute_result"
    },
    {
     "data": {
      "image/png": "[encoded data removed]",
      "text/plain": [
       "<Figure size 864x576 with 1 Axes>"
      ]
     },
     "metadata": {
      "needs_background": "light"
     },
     "output_type": "display_data"
    }
   ],
   "source": [
    "plt.figure(figsize = (12,8))\n",
    "sns.set(style = \"whitegrid\",font_scale = 1.2)\n",
    "chart = sns.countplot(x = \"subject\", data = news)\n",
    "chart.set_xticklabels(chart.get_xticklabels(),rotation=90)"
   ]
  },
  {
   "cell_type": "code",
   "execution_count": 11,
   "metadata": {},
   "outputs": [
    {
     "data": {
      "text/html": [
       "<div>\n",
       "<style scoped>\n",
       "    .dataframe tbody tr th:only-of-type {\n",
       "        vertical-align: middle;\n",
       "    }\n",
       "\n",
       "    .dataframe tbody tr th {\n",
       "        vertical-align: top;\n",
       "    }\n",
       "\n",
       "    .dataframe thead th {\n",
       "        text-align: right;\n",
       "    }\n",
       "</style>\n",
       "<table border=\"1\" class=\"dataframe\">\n",
       "  <thead>\n",
       "    <tr style=\"text-align: right;\">\n",
       "      <th></th>\n",
       "      <th>text</th>\n",
       "      <th>subject</th>\n",
       "    </tr>\n",
       "  </thead>\n",
       "  <tbody>\n",
       "    <tr>\n",
       "      <th>18751</th>\n",
       "      <td>Cuts hurt Mexico quake response, outlook ahead...</td>\n",
       "      <td>worldnews</td>\n",
       "    </tr>\n",
       "    <tr>\n",
       "      <th>43323</th>\n",
       "      <td>NO TOILET PAPER?! SOCIALISM IS IN ITS FINAL ST...</td>\n",
       "      <td>left-news</td>\n",
       "    </tr>\n",
       "    <tr>\n",
       "      <th>38677</th>\n",
       "      <td>$110K STOLEN FROM ‘At Risk Kids’ Fund By DC Ci...</td>\n",
       "      <td>Government News</td>\n",
       "    </tr>\n",
       "    <tr>\n",
       "      <th>21058</th>\n",
       "      <td>Libyan forces attack Islamic State near former...</td>\n",
       "      <td>worldnews</td>\n",
       "    </tr>\n",
       "    <tr>\n",
       "      <th>29293</th>\n",
       "      <td>You Won’t Believe Who Scalia Spent His Final ...</td>\n",
       "      <td>News</td>\n",
       "    </tr>\n",
       "  </tbody>\n",
       "</table>\n",
       "</div>"
      ],
      "text/plain": [
       "                                                    text          subject\n",
       "18751  Cuts hurt Mexico quake response, outlook ahead...        worldnews\n",
       "43323  NO TOILET PAPER?! SOCIALISM IS IN ITS FINAL ST...        left-news\n",
       "38677  $110K STOLEN FROM ‘At Risk Kids’ Fund By DC Ci...  Government News\n",
       "21058  Libyan forces attack Islamic State near former...        worldnews\n",
       "29293   You Won’t Believe Who Scalia Spent His Final ...             News"
      ]
     },
     "execution_count": 11,
     "metadata": {},
     "output_type": "execute_result"
    }
   ],
   "source": [
    "#Combinamos columnas de texto\n",
    "news['text'] = news['title'] + \" \" + news['text']\n",
    "news.drop(['title', 'date'], axis=1, inplace=True)\n",
    "news.sample(5)"
   ]
  },
  {
   "cell_type": "code",
   "execution_count": 12,
   "metadata": {},
   "outputs": [
    {
     "data": {
      "text/plain": [
       "(44897, 2)"
      ]
     },
     "execution_count": 12,
     "metadata": {},
     "output_type": "execute_result"
    }
   ],
   "source": [
    "news.shape"
   ]
  },
  {
   "cell_type": "markdown",
   "metadata": {},
   "source": [
    "### Codificamos etiquetas"
   ]
  },
  {
   "cell_type": "code",
   "execution_count": 13,
   "metadata": {},
   "outputs": [
    {
     "data": {
      "text/plain": [
       "6    11271\n",
       "7    10145\n",
       "2     9050\n",
       "5     6841\n",
       "4     4459\n",
       "0     1570\n",
       "3      783\n",
       "1      778\n",
       "Name: subject, dtype: int64"
      ]
     },
     "execution_count": 13,
     "metadata": {},
     "output_type": "execute_result"
    }
   ],
   "source": [
    "le = preprocessing.LabelEncoder()\n",
    "news['subject'] = le.fit_transform(news['subject'])\n",
    "news['subject'].value_counts()"
   ]
  },
  {
   "cell_type": "markdown",
   "metadata": {},
   "source": [
    "### Continuamos proceso de limpieza"
   ]
  },
  {
   "cell_type": "code",
   "execution_count": 14,
   "metadata": {},
   "outputs": [],
   "source": [
    "news['text']=news['text'].apply(denoise_text)"
   ]
  },
  {
   "cell_type": "code",
   "execution_count": 15,
   "metadata": {},
   "outputs": [
    {
     "data": {
      "text/html": [
       "<div>\n",
       "<style scoped>\n",
       "    .dataframe tbody tr th:only-of-type {\n",
       "        vertical-align: middle;\n",
       "    }\n",
       "\n",
       "    .dataframe tbody tr th {\n",
       "        vertical-align: top;\n",
       "    }\n",
       "\n",
       "    .dataframe thead th {\n",
       "        text-align: right;\n",
       "    }\n",
       "</style>\n",
       "<table border=\"1\" class=\"dataframe\">\n",
       "  <thead>\n",
       "    <tr style=\"text-align: right;\">\n",
       "      <th></th>\n",
       "      <th>text</th>\n",
       "      <th>subject</th>\n",
       "    </tr>\n",
       "  </thead>\n",
       "  <tbody>\n",
       "    <tr>\n",
       "      <th>5973</th>\n",
       "      <td>britain becoming u.s. vassal state, says frenc...</td>\n",
       "      <td>6</td>\n",
       "    </tr>\n",
       "    <tr>\n",
       "      <th>13188</th>\n",
       "      <td>bosnia must make reforms eu window could close...</td>\n",
       "      <td>7</td>\n",
       "    </tr>\n",
       "    <tr>\n",
       "      <th>8324</th>\n",
       "      <td>senators press mylan 'exorbitantly expensive' ...</td>\n",
       "      <td>6</td>\n",
       "    </tr>\n",
       "  </tbody>\n",
       "</table>\n",
       "</div>"
      ],
      "text/plain": [
       "                                                    text  subject\n",
       "5973   britain becoming u.s. vassal state, says frenc...        6\n",
       "13188  bosnia must make reforms eu window could close...        7\n",
       "8324   senators press mylan 'exorbitantly expensive' ...        6"
      ]
     },
     "execution_count": 15,
     "metadata": {},
     "output_type": "execute_result"
    }
   ],
   "source": [
    "news.sample(3)"
   ]
  },
  {
   "cell_type": "markdown",
   "metadata": {},
   "source": [
    "Hasta aqui se hizo limpieza general de formato\n",
    "\n",
    "---"
   ]
  },
  {
   "cell_type": "markdown",
   "metadata": {},
   "source": [
    "### Separación de sets para entrenamiento, testeo"
   ]
  },
  {
   "cell_type": "code",
   "execution_count": 16,
   "metadata": {},
   "outputs": [],
   "source": [
    "train, test = train_test_split(news, test_size=0.3, random_state=42, stratify=news['subject'])"
   ]
  },
  {
   "cell_type": "code",
   "execution_count": 17,
   "metadata": {},
   "outputs": [],
   "source": [
    "vocabulario_max = 20000\n",
    "filtrar = \"!#$%&()*+,-./':;<=>?@[\\\\]^_`{|}~\\t\\n\\'\"\n",
    "tokenizer = Tokenizer(num_words=vocabulario_max, filters=filtrar, lower=True, split=\" \")\n",
    "tokenizer.fit_on_texts(train.text)\n",
    "word_index = tokenizer.word_index"
   ]
  },
  {
   "cell_type": "code",
   "execution_count": 18,
   "metadata": {},
   "outputs": [],
   "source": [
    "train_matrix = tokenizer.texts_to_matrix(np.array(train.text))\n",
    "test_matrix = tokenizer.texts_to_matrix(np.array(test.text))"
   ]
  },
  {
   "cell_type": "code",
   "execution_count": 19,
   "metadata": {},
   "outputs": [],
   "source": [
    "x_train = np.copy(train_matrix)\n",
    "x_test = np.copy(test_matrix)\n",
    "y_train = train['subject'].values\n",
    "y_test = test['subject'].values"
   ]
  },
  {
   "cell_type": "code",
   "execution_count": 20,
   "metadata": {},
   "outputs": [],
   "source": [
    "y_train = to_categorical(y_train, num_classes=8)"
   ]
  },
  {
   "cell_type": "code",
   "execution_count": 21,
   "metadata": {},
   "outputs": [],
   "source": [
    "def build_model(input_shape, layers, optimizer):\n",
    "    # Instanciamos la clase del modelo secuencial\n",
    "    model = Sequential()\n",
    "    # Aplanamos los datos de entrada, sabemos que vamos a recibir imágenes\n",
    "    model.add(Flatten(input_shape=input_shape))\n",
    "    # Agregamos el resto de las capas con activación ReLU con excepción de la última\n",
    "    for l in layers[:-1]:\n",
    "        model.add(Dense(units=l, activation='relu'))\n",
    "    # Agregamos la última capa con activación softmax\n",
    "    model.add(Dense(units=layers[-1], activation='softmax'))\n",
    "    # Compilamos el modelo con el optimizador seleccionado\n",
    "    model.compile(optimizer=optimizer, loss='categorical_crossentropy', metrics=['accuracy'])\n",
    "    # Retornamos el modelo compilado\n",
    "    return model"
   ]
  },
  {
   "cell_type": "code",
   "execution_count": 22,
   "metadata": {},
   "outputs": [],
   "source": [
    "# Creamos la lista de callbacks\n",
    "\n",
    "# Instanciamos nuestro objeto early_stopping y definimos una lista de callbacks\n",
    "early_stopping = EarlyStopping(monitor='val_loss', min_delta=0.01, patience=8, restore_best_weights=True, verbose=1)\n",
    "callbacks_list = [early_stopping]\n",
    "\n",
    "# Instanciamos nuestro objeto reduce_lr y definimos una lista de callbacks\n",
    "reduce_lr = ReduceLROnPlateau(monitor='val_loss', factor=0.1, patience=4, verbose=1)\n",
    "callbacks_list.append(reduce_lr)"
   ]
  },
  {
   "cell_type": "code",
   "execution_count": 23,
   "metadata": {},
   "outputs": [],
   "source": [
    "# Definimos la \"grilla\" de parámetros que vamos a explorar\n",
    "layers = [[256, 8],\n",
    "          [64, 32, 8]]\n",
    "\n",
    "optimizers_list = [optimizers.Adam(), optimizers.SGD(momentum=0.9, nesterov=True)]"
   ]
  },
  {
   "cell_type": "code",
   "execution_count": 24,
   "metadata": {},
   "outputs": [
    {
     "data": {
      "text/plain": [
       "[([256, 8], <tensorflow.python.keras.optimizer_v2.adam.Adam at 0x129d1f24308>),\n",
       " ([256, 8],\n",
       "  <tensorflow.python.keras.optimizer_v2.gradient_descent.SGD at 0x129aebcb8c8>),\n",
       " ([64, 32, 8],\n",
       "  <tensorflow.python.keras.optimizer_v2.adam.Adam at 0x129d1f24308>),\n",
       " ([64, 32, 8],\n",
       "  <tensorflow.python.keras.optimizer_v2.gradient_descent.SGD at 0x129aebcb8c8>)]"
      ]
     },
     "execution_count": 24,
     "metadata": {},
     "output_type": "execute_result"
    }
   ],
   "source": [
    "combinaciones = list(itertools.product(layers, optimizers_list))\n",
    "combinaciones"
   ]
  },
  {
   "cell_type": "code",
   "execution_count": 27,
   "metadata": {},
   "outputs": [],
   "source": [
    "# Definamos algunas variables\n",
    "n_splits = 3\n",
    "batch_size = 512\n",
    "epochs = 3\n",
    "verbose = 1\n",
    "input_shape = (vocabulario_max, )"
   ]
  },
  {
   "cell_type": "code",
   "execution_count": 28,
   "metadata": {},
   "outputs": [],
   "source": [
    "global_history = []\n",
    "modelos = []\n",
    "modelo_indice = 0"
   ]
  },
  {
   "cell_type": "code",
   "execution_count": 29,
   "metadata": {},
   "outputs": [
    {
     "name": "stdout",
     "output_type": "stream",
     "text": [
      "\n",
      "\n",
      "Ensayando modelo con estructura [256, 8] y optimizador <tensorflow.python.keras.optimizer_v2.adam.Adam object at 0x00000129D1F24308>\n",
      "Epoch 1/3\n",
      "41/41 [==============================] - 8s 191ms/step - loss: 0.8197 - accuracy: 0.7348 - val_loss: 0.5415 - val_accuracy: 0.7914\n",
      "Epoch 2/3\n",
      "41/41 [==============================] - 5s 133ms/step - loss: 0.3200 - accuracy: 0.8788 - val_loss: 0.5542 - val_accuracy: 0.7847\n",
      "Epoch 3/3\n",
      "41/41 [==============================] - 5s 131ms/step - loss: 0.2523 - accuracy: 0.9007 - val_loss: 0.5659 - val_accuracy: 0.7793\n",
      "655/655 [==============================] - 5s 8ms/step - loss: 0.1922 - accuracy: 0.9243\n",
      "328/328 [==============================] - 2s 5ms/step - loss: 0.5659 - accuracy: 0.7793\n",
      "Epoch 1/3\n",
      "41/41 [==============================] - 8s 200ms/step - loss: 0.8284 - accuracy: 0.7260 - val_loss: 0.4828 - val_accuracy: 0.8032\n",
      "Epoch 2/3\n",
      "41/41 [==============================] - 5s 132ms/step - loss: 0.3134 - accuracy: 0.8780 - val_loss: 0.5016 - val_accuracy: 0.7920\n",
      "Epoch 3/3\n",
      "41/41 [==============================] - 5s 128ms/step - loss: 0.2504 - accuracy: 0.9000 - val_loss: 0.5002 - val_accuracy: 0.7899\n",
      "655/655 [==============================] - 6s 10ms/step - loss: 0.1880 - accuracy: 0.9242\n",
      "328/328 [==============================] - 3s 8ms/step - loss: 0.5002 - accuracy: 0.7899\n",
      "Epoch 1/3\n",
      "41/41 [==============================] - 8s 206ms/step - loss: 0.8259 - accuracy: 0.7291 - val_loss: 0.4939 - val_accuracy: 0.8071\n",
      "Epoch 2/3\n",
      "41/41 [==============================] - 7s 160ms/step - loss: 0.3073 - accuracy: 0.8805 - val_loss: 0.5143 - val_accuracy: 0.7922\n",
      "Epoch 3/3\n",
      "41/41 [==============================] - 6s 137ms/step - loss: 0.2447 - accuracy: 0.9024 - val_loss: 0.5344 - val_accuracy: 0.7890\n",
      "655/655 [==============================] - 6s 10ms/step - loss: 0.1903 - accuracy: 0.9257\n",
      "328/328 [==============================] - 2s 7ms/step - loss: 0.5344 - accuracy: 0.7890\n",
      "\n",
      "\n",
      "Ensayando modelo con estructura [256, 8] y optimizador <tensorflow.python.keras.optimizer_v2.gradient_descent.SGD object at 0x00000129AEBCB8C8>\n",
      "Epoch 1/3\n",
      "41/41 [==============================] - 12s 299ms/step - loss: 1.4966 - accuracy: 0.5298 - val_loss: 1.0037 - val_accuracy: 0.7024\n",
      "Epoch 2/3\n",
      "41/41 [==============================] - 5s 123ms/step - loss: 0.7974 - accuracy: 0.7584 - val_loss: 0.6880 - val_accuracy: 0.7799\n",
      "Epoch 3/3\n",
      "41/41 [==============================] - 6s 139ms/step - loss: 0.5929 - accuracy: 0.8058 - val_loss: 0.5678 - val_accuracy: 0.7970\n",
      "655/655 [==============================] - 5s 8ms/step - loss: 0.5289 - accuracy: 0.8211\n",
      "328/328 [==============================] - 2s 6ms/step - loss: 0.5678 - accuracy: 0.7970\n",
      "Epoch 1/3\n",
      "41/41 [==============================] - 6s 158ms/step - loss: 1.4617 - accuracy: 0.5464 - val_loss: 0.9413 - val_accuracy: 0.7349\n",
      "Epoch 2/3\n",
      "41/41 [==============================] - 5s 129ms/step - loss: 0.7597 - accuracy: 0.7721 - val_loss: 0.6522 - val_accuracy: 0.7884\n",
      "Epoch 3/3\n",
      "41/41 [==============================] - 5s 125ms/step - loss: 0.5692 - accuracy: 0.8132 - val_loss: 0.5467 - val_accuracy: 0.8015\n",
      "655/655 [==============================] - 5s 8ms/step - loss: 0.5107 - accuracy: 0.8265\n",
      "328/328 [==============================] - 2s 7ms/step - loss: 0.5467 - accuracy: 0.8015\n",
      "Epoch 1/3\n",
      "41/41 [==============================] - 7s 163ms/step - loss: 1.4691 - accuracy: 0.5479 - val_loss: 0.9418 - val_accuracy: 0.7306\n",
      "Epoch 2/3\n",
      "41/41 [==============================] - 6s 147ms/step - loss: 0.7637 - accuracy: 0.7694 - val_loss: 0.6465 - val_accuracy: 0.7943\n",
      "Epoch 3/3\n",
      "41/41 [==============================] - 5s 125ms/step - loss: 0.5724 - accuracy: 0.8109 - val_loss: 0.5400 - val_accuracy: 0.8088\n",
      "655/655 [==============================] - 5s 7ms/step - loss: 0.5140 - accuracy: 0.8227\n",
      "328/328 [==============================] - 2s 8ms/step - loss: 0.5400 - accuracy: 0.8088\n",
      "\n",
      "\n",
      "Ensayando modelo con estructura [64, 32, 8] y optimizador <tensorflow.python.keras.optimizer_v2.adam.Adam object at 0x00000129D1F24308>\n",
      "Epoch 1/3\n",
      "41/41 [==============================] - 5s 127ms/step - loss: 0.8222 - accuracy: 0.7227 - val_loss: 0.4522 - val_accuracy: 0.8042\n",
      "Epoch 2/3\n",
      "41/41 [==============================] - 3s 69ms/step - loss: 0.2947 - accuracy: 0.8716 - val_loss: 0.4507 - val_accuracy: 0.7867\n",
      "Epoch 3/3\n",
      "41/41 [==============================] - 3s 65ms/step - loss: 0.2253 - accuracy: 0.8973 - val_loss: 0.4930 - val_accuracy: 0.7802\n",
      "655/655 [==============================] - 2s 3ms/step - loss: 0.1773 - accuracy: 0.9228\n",
      "328/328 [==============================] - 1s 3ms/step - loss: 0.4930 - accuracy: 0.7802\n",
      "Epoch 1/3\n",
      "41/41 [==============================] - 6s 153ms/step - loss: 0.9560 - accuracy: 0.6740 - val_loss: 0.4922 - val_accuracy: 0.8054\n",
      "Epoch 2/3\n",
      "41/41 [==============================] - 2s 58ms/step - loss: 0.3350 - accuracy: 0.8656 - val_loss: 0.4465 - val_accuracy: 0.7970\n",
      "Epoch 3/3\n",
      "41/41 [==============================] - 2s 56ms/step - loss: 0.2482 - accuracy: 0.8939 - val_loss: 0.4846 - val_accuracy: 0.7887\n",
      "655/655 [==============================] - 2s 3ms/step - loss: 0.2090 - accuracy: 0.9159\n",
      "328/328 [==============================] - 1s 3ms/step - loss: 0.4846 - accuracy: 0.7887\n",
      "Epoch 1/3\n",
      "41/41 [==============================] - 3s 67ms/step - loss: 1.0150 - accuracy: 0.6445 - val_loss: 0.5069 - val_accuracy: 0.7988\n",
      "Epoch 2/3\n",
      "41/41 [==============================] - 2s 57ms/step - loss: 0.3521 - accuracy: 0.8607 - val_loss: 0.4525 - val_accuracy: 0.7995\n",
      "Epoch 3/3\n",
      "41/41 [==============================] - 2s 55ms/step - loss: 0.2543 - accuracy: 0.8946 - val_loss: 0.4808 - val_accuracy: 0.7927\n",
      "655/655 [==============================] - 2s 3ms/step - loss: 0.2014 - accuracy: 0.9195\n",
      "328/328 [==============================] - 1s 3ms/step - loss: 0.4808 - accuracy: 0.7927\n",
      "\n",
      "\n",
      "Ensayando modelo con estructura [64, 32, 8] y optimizador <tensorflow.python.keras.optimizer_v2.gradient_descent.SGD object at 0x00000129AEBCB8C8>\n",
      "Epoch 1/3\n",
      "41/41 [==============================] - 13s 307ms/step - loss: 1.7560 - accuracy: 0.4316 - val_loss: 1.1983 - val_accuracy: 0.6410\n",
      "Epoch 2/3\n",
      "41/41 [==============================] - 3s 63ms/step - loss: 0.8581 - accuracy: 0.7161 - val_loss: 0.6857 - val_accuracy: 0.7648\n",
      "Epoch 3/3\n",
      "41/41 [==============================] - 2s 59ms/step - loss: 0.5744 - accuracy: 0.8004 - val_loss: 0.5283 - val_accuracy: 0.7989\n",
      "655/655 [==============================] - 2s 3ms/step - loss: 0.4958 - accuracy: 0.8188\n",
      "328/328 [==============================] - 1s 3ms/step - loss: 0.5283 - accuracy: 0.7989\n",
      "Epoch 1/3\n",
      "41/41 [==============================] - 5s 120ms/step - loss: 1.6871 - accuracy: 0.4706 - val_loss: 1.0370 - val_accuracy: 0.6629\n",
      "Epoch 2/3\n",
      "41/41 [==============================] - 6s 134ms/step - loss: 0.7752 - accuracy: 0.7429 - val_loss: 0.6210 - val_accuracy: 0.7869\n",
      "Epoch 3/3\n",
      "41/41 [==============================] - 2s 39ms/step - loss: 0.5320 - accuracy: 0.8073 - val_loss: 0.4938 - val_accuracy: 0.8094\n",
      "655/655 [==============================] - 2s 4ms/step - loss: 0.4662 - accuracy: 0.8222\n",
      "328/328 [==============================] - 1s 2ms/step - loss: 0.4938 - accuracy: 0.8094\n",
      "Epoch 1/3\n",
      "41/41 [==============================] - 10s 252ms/step - loss: 1.6847 - accuracy: 0.4608 - val_loss: 1.0326 - val_accuracy: 0.6650\n",
      "Epoch 2/3\n",
      "41/41 [==============================] - 3s 65ms/step - loss: 0.7821 - accuracy: 0.7401 - val_loss: 0.6227 - val_accuracy: 0.7905\n",
      "Epoch 3/3\n",
      "41/41 [==============================] - 2s 57ms/step - loss: 0.5386 - accuracy: 0.8059 - val_loss: 0.4939 - val_accuracy: 0.8130\n",
      "655/655 [==============================] - 2s 4ms/step - loss: 0.4722 - accuracy: 0.8210\n",
      "328/328 [==============================] - 1s 3ms/step - loss: 0.4939 - accuracy: 0.8130\n"
     ]
    }
   ],
   "source": [
    "# Instanciamos el objeto KFold\n",
    "kfold = KFold(n_splits=n_splits, shuffle=False)\n",
    "\n",
    "# Recorremos las combinaciones y generamos distintos modelos a ensayar\n",
    "for (layers, optimizer) in combinaciones:\n",
    "    print('\\n\\nEnsayando modelo con estructura {} y optimizador {}'.format(layers, optimizer))\n",
    "    \n",
    "    # Construimos el modelo\n",
    "    model = build_model(input_shape=input_shape, layers=layers, optimizer=optimizer)\n",
    "    modelos.append(model)\n",
    "    \n",
    "    # Guardamos los pesos iniciales para usarlos en cada fold\n",
    "    model.save_weights('initial_weights.h5')\n",
    "    \n",
    "    # Generamos los sets de train y val para ensayar el modelo\n",
    "    for fold, (train_idx, val_idx) in enumerate(kfold.split(x_train)):\n",
    "        \n",
    "        # Reiniciamos los pesos del modelo\n",
    "        model.load_weights('initial_weights.h5')\n",
    "        \n",
    "        # Lo entrenamos con el split de x_train e y_train correspondiente\n",
    "        history = model.fit(x=x_train[train_idx],\n",
    "                            y=y_train[train_idx],\n",
    "                            batch_size=batch_size,\n",
    "                            epochs=epochs,\n",
    "                            validation_data=(x_train[val_idx], y_train[val_idx]),\n",
    "                            verbose=verbose,\n",
    "                            callbacks=callbacks_list\n",
    "                           )\n",
    "        \n",
    "        # Evaluamos en train y en val (estos mismos valores los podemos sacar de history)\n",
    "        train_loss, train_acc = model.evaluate(x_train[train_idx], y_train[train_idx])\n",
    "        val_loss, val_acc = model.evaluate(x_train[val_idx], y_train[val_idx])\n",
    "        \n",
    "        # Agregamos esta corrida a la historia global\n",
    "        global_history.append({'fold':fold, \n",
    "                               'layers':layers, \n",
    "                               'optimizer':optimizer,\n",
    "                               'train_loss':train_loss,\n",
    "                               'train_acc':train_acc,\n",
    "                               'val_loss':val_loss,\n",
    "                               'val_acc':val_acc,\n",
    "                               'history':history,\n",
    "                               'modelo': modelo_indice\n",
    "                              })\n",
    "    \n",
    "    modelo_indice = modelo_indice + 1"
   ]
  },
  {
   "cell_type": "code",
   "execution_count": 32,
   "metadata": {},
   "outputs": [
    {
     "data": {
      "text/html": [
       "<div>\n",
       "<style scoped>\n",
       "    .dataframe tbody tr th:only-of-type {\n",
       "        vertical-align: middle;\n",
       "    }\n",
       "\n",
       "    .dataframe tbody tr th {\n",
       "        vertical-align: top;\n",
       "    }\n",
       "\n",
       "    .dataframe thead th {\n",
       "        text-align: right;\n",
       "    }\n",
       "</style>\n",
       "<table border=\"1\" class=\"dataframe\">\n",
       "  <thead>\n",
       "    <tr style=\"text-align: right;\">\n",
       "      <th></th>\n",
       "      <th>fold</th>\n",
       "      <th>layers</th>\n",
       "      <th>optimizer</th>\n",
       "      <th>train_loss</th>\n",
       "      <th>train_acc</th>\n",
       "      <th>val_loss</th>\n",
       "      <th>val_acc</th>\n",
       "      <th>history</th>\n",
       "      <th>modelo</th>\n",
       "    </tr>\n",
       "  </thead>\n",
       "  <tbody>\n",
       "    <tr>\n",
       "      <th>0</th>\n",
       "      <td>0</td>\n",
       "      <td>[256, 8]</td>\n",
       "      <td>&lt;tensorflow.python.keras.optimizer_v2.adam.Ada...</td>\n",
       "      <td>0.192216</td>\n",
       "      <td>0.924300</td>\n",
       "      <td>0.565925</td>\n",
       "      <td>0.779305</td>\n",
       "      <td>&lt;tensorflow.python.keras.callbacks.History obj...</td>\n",
       "      <td>0</td>\n",
       "    </tr>\n",
       "    <tr>\n",
       "      <th>1</th>\n",
       "      <td>1</td>\n",
       "      <td>[256, 8]</td>\n",
       "      <td>&lt;tensorflow.python.keras.optimizer_v2.adam.Ada...</td>\n",
       "      <td>0.187989</td>\n",
       "      <td>0.924204</td>\n",
       "      <td>0.500247</td>\n",
       "      <td>0.789901</td>\n",
       "      <td>&lt;tensorflow.python.keras.callbacks.History obj...</td>\n",
       "      <td>0</td>\n",
       "    </tr>\n",
       "    <tr>\n",
       "      <th>2</th>\n",
       "      <td>2</td>\n",
       "      <td>[256, 8]</td>\n",
       "      <td>&lt;tensorflow.python.keras.optimizer_v2.adam.Ada...</td>\n",
       "      <td>0.190292</td>\n",
       "      <td>0.925687</td>\n",
       "      <td>0.534439</td>\n",
       "      <td>0.789021</td>\n",
       "      <td>&lt;tensorflow.python.keras.callbacks.History obj...</td>\n",
       "      <td>0</td>\n",
       "    </tr>\n",
       "    <tr>\n",
       "      <th>3</th>\n",
       "      <td>0</td>\n",
       "      <td>[256, 8]</td>\n",
       "      <td>&lt;tensorflow.python.keras.optimizer_v2.gradient...</td>\n",
       "      <td>0.528949</td>\n",
       "      <td>0.821059</td>\n",
       "      <td>0.567769</td>\n",
       "      <td>0.796964</td>\n",
       "      <td>&lt;tensorflow.python.keras.callbacks.History obj...</td>\n",
       "      <td>1</td>\n",
       "    </tr>\n",
       "    <tr>\n",
       "      <th>4</th>\n",
       "      <td>1</td>\n",
       "      <td>[256, 8]</td>\n",
       "      <td>&lt;tensorflow.python.keras.optimizer_v2.gradient...</td>\n",
       "      <td>0.510677</td>\n",
       "      <td>0.826452</td>\n",
       "      <td>0.546681</td>\n",
       "      <td>0.801451</td>\n",
       "      <td>&lt;tensorflow.python.keras.callbacks.History obj...</td>\n",
       "      <td>1</td>\n",
       "    </tr>\n",
       "    <tr>\n",
       "      <th>5</th>\n",
       "      <td>2</td>\n",
       "      <td>[256, 8]</td>\n",
       "      <td>&lt;tensorflow.python.keras.optimizer_v2.gradient...</td>\n",
       "      <td>0.514030</td>\n",
       "      <td>0.822690</td>\n",
       "      <td>0.540033</td>\n",
       "      <td>0.808783</td>\n",
       "      <td>&lt;tensorflow.python.keras.callbacks.History obj...</td>\n",
       "      <td>1</td>\n",
       "    </tr>\n",
       "    <tr>\n",
       "      <th>6</th>\n",
       "      <td>0</td>\n",
       "      <td>[64, 32, 8]</td>\n",
       "      <td>&lt;tensorflow.python.keras.optimizer_v2.adam.Ada...</td>\n",
       "      <td>0.177278</td>\n",
       "      <td>0.922820</td>\n",
       "      <td>0.493010</td>\n",
       "      <td>0.780164</td>\n",
       "      <td>&lt;tensorflow.python.keras.callbacks.History obj...</td>\n",
       "      <td>2</td>\n",
       "    </tr>\n",
       "    <tr>\n",
       "      <th>7</th>\n",
       "      <td>1</td>\n",
       "      <td>[64, 32, 8]</td>\n",
       "      <td>&lt;tensorflow.python.keras.optimizer_v2.adam.Ada...</td>\n",
       "      <td>0.208963</td>\n",
       "      <td>0.915851</td>\n",
       "      <td>0.484577</td>\n",
       "      <td>0.788660</td>\n",
       "      <td>&lt;tensorflow.python.keras.callbacks.History obj...</td>\n",
       "      <td>2</td>\n",
       "    </tr>\n",
       "    <tr>\n",
       "      <th>8</th>\n",
       "      <td>2</td>\n",
       "      <td>[64, 32, 8]</td>\n",
       "      <td>&lt;tensorflow.python.keras.optimizer_v2.adam.Ada...</td>\n",
       "      <td>0.201417</td>\n",
       "      <td>0.919530</td>\n",
       "      <td>0.480756</td>\n",
       "      <td>0.792745</td>\n",
       "      <td>&lt;tensorflow.python.keras.callbacks.History obj...</td>\n",
       "      <td>2</td>\n",
       "    </tr>\n",
       "    <tr>\n",
       "      <th>9</th>\n",
       "      <td>0</td>\n",
       "      <td>[64, 32, 8]</td>\n",
       "      <td>&lt;tensorflow.python.keras.optimizer_v2.gradient...</td>\n",
       "      <td>0.495847</td>\n",
       "      <td>0.818768</td>\n",
       "      <td>0.528335</td>\n",
       "      <td>0.798874</td>\n",
       "      <td>&lt;tensorflow.python.keras.callbacks.History obj...</td>\n",
       "      <td>3</td>\n",
       "    </tr>\n",
       "    <tr>\n",
       "      <th>10</th>\n",
       "      <td>1</td>\n",
       "      <td>[64, 32, 8]</td>\n",
       "      <td>&lt;tensorflow.python.keras.optimizer_v2.gradient...</td>\n",
       "      <td>0.466232</td>\n",
       "      <td>0.822156</td>\n",
       "      <td>0.493807</td>\n",
       "      <td>0.809374</td>\n",
       "      <td>&lt;tensorflow.python.keras.callbacks.History obj...</td>\n",
       "      <td>3</td>\n",
       "    </tr>\n",
       "    <tr>\n",
       "      <th>11</th>\n",
       "      <td>2</td>\n",
       "      <td>[64, 32, 8]</td>\n",
       "      <td>&lt;tensorflow.python.keras.optimizer_v2.gradient...</td>\n",
       "      <td>0.472168</td>\n",
       "      <td>0.820972</td>\n",
       "      <td>0.493851</td>\n",
       "      <td>0.812983</td>\n",
       "      <td>&lt;tensorflow.python.keras.callbacks.History obj...</td>\n",
       "      <td>3</td>\n",
       "    </tr>\n",
       "  </tbody>\n",
       "</table>\n",
       "</div>"
      ],
      "text/plain": [
       "    fold       layers                                          optimizer  \\\n",
       "0      0     [256, 8]  <tensorflow.python.keras.optimizer_v2.adam.Ada...   \n",
       "1      1     [256, 8]  <tensorflow.python.keras.optimizer_v2.adam.Ada...   \n",
       "2      2     [256, 8]  <tensorflow.python.keras.optimizer_v2.adam.Ada...   \n",
       "3      0     [256, 8]  <tensorflow.python.keras.optimizer_v2.gradient...   \n",
       "4      1     [256, 8]  <tensorflow.python.keras.optimizer_v2.gradient...   \n",
       "5      2     [256, 8]  <tensorflow.python.keras.optimizer_v2.gradient...   \n",
       "6      0  [64, 32, 8]  <tensorflow.python.keras.optimizer_v2.adam.Ada...   \n",
       "7      1  [64, 32, 8]  <tensorflow.python.keras.optimizer_v2.adam.Ada...   \n",
       "8      2  [64, 32, 8]  <tensorflow.python.keras.optimizer_v2.adam.Ada...   \n",
       "9      0  [64, 32, 8]  <tensorflow.python.keras.optimizer_v2.gradient...   \n",
       "10     1  [64, 32, 8]  <tensorflow.python.keras.optimizer_v2.gradient...   \n",
       "11     2  [64, 32, 8]  <tensorflow.python.keras.optimizer_v2.gradient...   \n",
       "\n",
       "    train_loss  train_acc  val_loss   val_acc  \\\n",
       "0     0.192216   0.924300  0.565925  0.779305   \n",
       "1     0.187989   0.924204  0.500247  0.789901   \n",
       "2     0.190292   0.925687  0.534439  0.789021   \n",
       "3     0.528949   0.821059  0.567769  0.796964   \n",
       "4     0.510677   0.826452  0.546681  0.801451   \n",
       "5     0.514030   0.822690  0.540033  0.808783   \n",
       "6     0.177278   0.922820  0.493010  0.780164   \n",
       "7     0.208963   0.915851  0.484577  0.788660   \n",
       "8     0.201417   0.919530  0.480756  0.792745   \n",
       "9     0.495847   0.818768  0.528335  0.798874   \n",
       "10    0.466232   0.822156  0.493807  0.809374   \n",
       "11    0.472168   0.820972  0.493851  0.812983   \n",
       "\n",
       "                                              history  modelo  \n",
       "0   <tensorflow.python.keras.callbacks.History obj...       0  \n",
       "1   <tensorflow.python.keras.callbacks.History obj...       0  \n",
       "2   <tensorflow.python.keras.callbacks.History obj...       0  \n",
       "3   <tensorflow.python.keras.callbacks.History obj...       1  \n",
       "4   <tensorflow.python.keras.callbacks.History obj...       1  \n",
       "5   <tensorflow.python.keras.callbacks.History obj...       1  \n",
       "6   <tensorflow.python.keras.callbacks.History obj...       2  \n",
       "7   <tensorflow.python.keras.callbacks.History obj...       2  \n",
       "8   <tensorflow.python.keras.callbacks.History obj...       2  \n",
       "9   <tensorflow.python.keras.callbacks.History obj...       3  \n",
       "10  <tensorflow.python.keras.callbacks.History obj...       3  \n",
       "11  <tensorflow.python.keras.callbacks.History obj...       3  "
      ]
     },
     "execution_count": 32,
     "metadata": {},
     "output_type": "execute_result"
    }
   ],
   "source": [
    "df = pd.DataFrame(global_history)\n",
    "df"
   ]
  },
  {
   "cell_type": "code",
   "execution_count": 49,
   "metadata": {},
   "outputs": [],
   "source": [
    "# Obtenemos la referencia al modelo con mejor accuracy en validación\n",
    "mejor_modelo = modelos[df.loc[np.argmax(df['val_acc'].values), 'modelo']]\n",
    "# Obtenemos la referencia a la historia\n",
    "history = df.loc[np.argmax(df['val_acc'].values), 'history']"
   ]
  },
  {
   "cell_type": "code",
   "execution_count": 50,
   "metadata": {},
   "outputs": [
    {
     "data": {
      "image/png": "[encoded data removed]",
      "text/plain": [
       "<Figure size 864x576 with 1 Axes>"
      ]
     },
     "metadata": {},
     "output_type": "display_data"
    },
    {
     "data": {
      "image/png": "[encoded data removed]",
      "text/plain": [
       "<Figure size 864x576 with 1 Axes>"
      ]
     },
     "metadata": {},
     "output_type": "display_data"
    }
   ],
   "source": [
    "import matplotlib.pyplot as plt\n",
    "# El atributo `history` contiene un diccionario de métricas por epoch\n",
    "acc = history.history['accuracy']\n",
    "val_acc = history.history['val_accuracy']\n",
    "loss = history.history['loss']\n",
    "val_loss = history.history['val_loss']\n",
    "epochs = range(1, len(acc) + 1)\n",
    "\n",
    "plt.figure(figsize=(12,8))\n",
    "plt.title('Modelo de base')\n",
    "plt.plot(epochs, loss)\n",
    "plt.plot(epochs, val_loss)\n",
    "plt.xticks(ticks=epochs)\n",
    "plt.ylabel('Loss')\n",
    "plt.legend(['Training loss', 'Validation loss'])\n",
    "\n",
    "plt.figure(figsize=(12,8))\n",
    "plt.plot(epochs, acc)\n",
    "plt.plot(epochs, val_acc)\n",
    "plt.xticks(ticks=list(epochs))\n",
    "plt.xlabel('Epochs')\n",
    "plt.ylabel('Accuracy')\n",
    "plt.legend(['Training accuracy', 'Validation accuracy']);"
   ]
  },
  {
   "cell_type": "code",
   "execution_count": 61,
   "metadata": {},
   "outputs": [],
   "source": [
    "epochs = 3"
   ]
  },
  {
   "cell_type": "code",
   "execution_count": 62,
   "metadata": {},
   "outputs": [
    {
     "name": "stdout",
     "output_type": "stream",
     "text": [
      "Epoch 1/3\n",
      "61/62 [============================>.] - ETA: 0s - loss: 0.4374 - accuracy: 0.8235WARNING:tensorflow:Early stopping conditioned on metric `val_loss` which is not available. Available metrics are: loss,accuracy\n",
      "WARNING:tensorflow:Reduce LR on plateau conditioned on metric `val_loss` which is not available. Available metrics are: loss,accuracy,lr\n",
      "62/62 [==============================] - 2s 30ms/step - loss: 0.4373 - accuracy: 0.8235\n",
      "Epoch 2/3\n",
      "62/62 [==============================] - ETA: 0s - loss: 0.3802 - accuracy: 0.8350WARNING:tensorflow:Early stopping conditioned on metric `val_loss` which is not available. Available metrics are: loss,accuracy\n",
      "WARNING:tensorflow:Reduce LR on plateau conditioned on metric `val_loss` which is not available. Available metrics are: loss,accuracy,lr\n",
      "62/62 [==============================] - 2s 40ms/step - loss: 0.3802 - accuracy: 0.8350\n",
      "Epoch 3/3\n",
      "62/62 [==============================] - ETA: 0s - loss: 0.3497 - accuracy: 0.8435WARNING:tensorflow:Early stopping conditioned on metric `val_loss` which is not available. Available metrics are: loss,accuracy\n",
      "WARNING:tensorflow:Reduce LR on plateau conditioned on metric `val_loss` which is not available. Available metrics are: loss,accuracy,lr\n",
      "62/62 [==============================] - 2s 32ms/step - loss: 0.3497 - accuracy: 0.8435\n"
     ]
    },
    {
     "data": {
      "text/plain": [
       "<tensorflow.python.keras.callbacks.History at 0x12d355dde08>"
      ]
     },
     "execution_count": 62,
     "metadata": {},
     "output_type": "execute_result"
    }
   ],
   "source": [
    "# Entrenamos el mejor modelo para luego validar en testeo\n",
    "mejor_modelo.fit(\n",
    "x=x_train,\n",
    "y=y_train,\n",
    "batch_size=batch_size,\n",
    "epochs=epochs,\n",
    "verbose=verbose,\n",
    "callbacks=callbacks_list)"
   ]
  },
  {
   "cell_type": "markdown",
   "metadata": {},
   "source": [
    "### Testeo"
   ]
  },
  {
   "cell_type": "code",
   "execution_count": 63,
   "metadata": {},
   "outputs": [
    {
     "name": "stdout",
     "output_type": "stream",
     "text": [
      "WARNING:tensorflow:From <ipython-input-63-e783e037d04d>:1: Sequential.predict_classes (from tensorflow.python.keras.engine.sequential) is deprecated and will be removed after 2021-01-01.\n",
      "Instructions for updating:\n",
      "Please use instead:* `np.argmax(model.predict(x), axis=-1)`,   if your model does multi-class classification   (e.g. if it uses a `softmax` last-layer activation).* `(model.predict(x) > 0.5).astype(\"int32\")`,   if your model does binary classification   (e.g. if it uses a `sigmoid` last-layer activation).\n"
     ]
    }
   ],
   "source": [
    "y_pred = mejor_modelo.predict_classes(x_test)"
   ]
  },
  {
   "cell_type": "code",
   "execution_count": 64,
   "metadata": {},
   "outputs": [
    {
     "data": {
      "text/plain": [
       "((13470,), (13470,))"
      ]
     },
     "execution_count": 64,
     "metadata": {},
     "output_type": "execute_result"
    }
   ],
   "source": [
    "y_pred.shape, y_test.shape"
   ]
  },
  {
   "cell_type": "code",
   "execution_count": 65,
   "metadata": {},
   "outputs": [
    {
     "data": {
      "text/plain": [
       "array([7, 6, 5, ..., 5, 2, 5], dtype=int64)"
      ]
     },
     "execution_count": 65,
     "metadata": {},
     "output_type": "execute_result"
    }
   ],
   "source": [
    "y_pred"
   ]
  },
  {
   "cell_type": "code",
   "execution_count": 66,
   "metadata": {},
   "outputs": [
    {
     "data": {
      "text/plain": [
       "array([7, 6, 5, ..., 4, 2, 5])"
      ]
     },
     "execution_count": 66,
     "metadata": {},
     "output_type": "execute_result"
    }
   ],
   "source": [
    "y_test"
   ]
  },
  {
   "cell_type": "code",
   "execution_count": 67,
   "metadata": {},
   "outputs": [
    {
     "name": "stdout",
     "output_type": "stream",
     "text": [
      "              precision    recall  f1-score   support\n",
      "\n",
      "           0       0.27      0.10      0.15       471\n",
      "           1       0.43      0.65      0.52       233\n",
      "           2       0.98      0.99      0.99      2715\n",
      "           3       0.22      0.09      0.12       235\n",
      "           4       0.39      0.21      0.27      1338\n",
      "           5       0.53      0.75      0.62      2052\n",
      "           6       0.97      0.98      0.97      3382\n",
      "           7       0.97      0.97      0.97      3044\n",
      "\n",
      "    accuracy                           0.82     13470\n",
      "   macro avg       0.59      0.59      0.58     13470\n",
      "weighted avg       0.80      0.82      0.80     13470\n",
      "\n"
     ]
    }
   ],
   "source": [
    "print(classification_report(y_test, y_pred))"
   ]
  },
  {
   "cell_type": "code",
   "execution_count": 68,
   "metadata": {},
   "outputs": [],
   "source": [
    "cm = confusion_matrix(y_test, y_pred)"
   ]
  },
  {
   "cell_type": "code",
   "execution_count": 69,
   "metadata": {},
   "outputs": [
    {
     "data": {
      "image/png": "[encoded data removed]",
      "text/plain": [
       "<Figure size 432x288 with 2 Axes>"
      ]
     },
     "metadata": {},
     "output_type": "display_data"
    }
   ],
   "source": [
    "sns.heatmap(cm, annot=True, fmt='.0f')\n",
    "plt.ylabel('Verdaderos')\n",
    "plt.title('Cofusion Matrix - Clean Model')\n",
    "plt.xlabel('Predichos');"
   ]
  },
  {
   "cell_type": "code",
   "execution_count": null,
   "metadata": {},
   "outputs": [],
   "source": []
  }
 ],
 "metadata": {
  "kernelspec": {
   "display_name": "Python 3",
   "language": "python",
   "name": "python3"
  },
  "language_info": {
   "codemirror_mode": {
    "name": "ipython",
    "version": 3
   },
   "file_extension": ".py",
   "mimetype": "text/x-python",
   "name": "python",
   "nbconvert_exporter": "python",
   "pygments_lexer": "ipython3",
   "version": "3.7.9"
  }
 },
 "nbformat": 4,
 "nbformat_minor": 4
}
