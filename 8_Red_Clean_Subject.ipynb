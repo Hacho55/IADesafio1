{
 "cells": [
  {
   "cell_type": "markdown",
   "metadata": {},
   "source": [
    "## Entrenamiento con redes neuronales\n",
    "\n",
    "---\n",
    "\n",
    "### Con limpieza específica basada en el analisis preliminar"
   ]
  },
  {
   "cell_type": "code",
   "execution_count": 44,
   "metadata": {},
   "outputs": [],
   "source": [
    "import pandas as pd\n",
    "import numpy as np\n"
   ]
  },
  {
   "cell_type": "code",
   "execution_count": 45,
   "metadata": {},
   "outputs": [],
   "source": [
    "# Importo los datos como dataframe de pandas\n",
    "real = pd.read_csv(\"../Data/True.csv\")\n",
    "fake = pd.read_csv(\"../Data/Fake.csv\")"
   ]
  },
  {
   "cell_type": "markdown",
   "metadata": {},
   "source": [
    "### Aplicamos alguna limpieza previa"
   ]
  },
  {
   "cell_type": "markdown",
   "metadata": {},
   "source": [
    "Difference in Text\n",
    "\n",
    "Real news seems to have source of publication which is not present in fake news set\n",
    "\n",
    "Looking at the data:\n",
    "\n",
    "*most of text contains reuters information such as \"WASHINGTON (Reuters)\"\n",
    "\n",
    "*Some text are tweets from Twitter\n",
    "\n",
    "*Few text do not contain any publication info"
   ]
  },
  {
   "cell_type": "code",
   "execution_count": 46,
   "metadata": {},
   "outputs": [],
   "source": [
    "#First Creating list of index that do not have publication part\n",
    "unknown_publishers = []\n",
    "for index,row in enumerate(real.text.values):\n",
    "    try:\n",
    "        record = row.split(\" -\", maxsplit=1)\n",
    "        #if no text part is present, following will give error\n",
    "        record[1]\n",
    "        #if len of piblication part is greater than 260\n",
    "        #following will give error, ensuring no text having \"-\" in between is counted\n",
    "        assert(len(record[0]) < 260)\n",
    "    except:\n",
    "        unknown_publishers.append(index)"
   ]
  },
  {
   "cell_type": "code",
   "execution_count": 47,
   "metadata": {},
   "outputs": [
    {
     "data": {
      "text/plain": [
       "3488     The White House on Wednesday disclosed a group...\n",
       "4358     Neil Gorsuch, President Donald Trump’s appoint...\n",
       "4465     WASHINGTON The clock began running out this we...\n",
       "5784     Federal appeals court judge Neil Gorsuch, the ...\n",
       "6660     Republican members of Congress are complaining...\n",
       "6823     Over the course of the U.S. presidential campa...\n",
       "7922     After going through a week reminiscent of Napo...\n",
       "8194     The following timeline charts the origin and s...\n",
       "8195     Global health officials are racing to better u...\n",
       "8247     U.S. President Barack Obama visited a street m...\n",
       "8465     ALGONAC, MICH.—Parker Fox drifted out of the D...\n",
       "8481     Global health officials are racing to better u...\n",
       "8482     The following timeline charts the origin and s...\n",
       "8505     Global health officials are racing to better u...\n",
       "8506     The following timeline charts the origin and s...\n",
       "8771     In a speech weighted with America’s complicate...\n",
       "8970                                                      \n",
       "9008     The following timeline charts the origin and s...\n",
       "9009     Global health officials are racing to better u...\n",
       "9307     It’s the near future, and North Korea’s regime...\n",
       "9618     GOP leaders have unleashed a stunning level of...\n",
       "9737     Caitlyn Jenner posted a video on Wednesday (Ap...\n",
       "10479    The Democratic and Republican nominees for the...\n",
       "Name: text, dtype: object"
      ]
     },
     "execution_count": 47,
     "metadata": {},
     "output_type": "execute_result"
    }
   ],
   "source": [
    "#Thus we have list of indices where publisher is not mentioned\n",
    "#lets check\n",
    "real.iloc[unknown_publishers].text\n",
    "#true, they do not have text like \"WASHINGTON (Reuters)\""
   ]
  },
  {
   "cell_type": "code",
   "execution_count": 48,
   "metadata": {},
   "outputs": [],
   "source": [
    "#Seperating Publication info, from actual text\n",
    "publisher = []\n",
    "tmp_text = []\n",
    "for index,row in enumerate(real.text.values):\n",
    "    if index in unknown_publishers:\n",
    "        #Add unknown of publisher not mentioned\n",
    "        tmp_text.append(row)\n",
    "        \n",
    "        publisher.append(\"Unknown\")\n",
    "        continue\n",
    "    record = row.split(\" -\", maxsplit=1)\n",
    "    publisher.append(record[0])\n",
    "    tmp_text.append(record[1])"
   ]
  },
  {
   "cell_type": "code",
   "execution_count": 49,
   "metadata": {},
   "outputs": [],
   "source": [
    "#Replace existing text column with new text\n",
    "#add seperate column for publication info\n",
    "#real[\"publisher\"] = publisher\n",
    "real[\"text\"] = tmp_text\n",
    "\n",
    "del publisher, tmp_text, record, unknown_publishers"
   ]
  },
  {
   "cell_type": "code",
   "execution_count": 50,
   "metadata": {},
   "outputs": [
    {
     "data": {
      "text/html": [
       "<div>\n",
       "<style scoped>\n",
       "    .dataframe tbody tr th:only-of-type {\n",
       "        vertical-align: middle;\n",
       "    }\n",
       "\n",
       "    .dataframe tbody tr th {\n",
       "        vertical-align: top;\n",
       "    }\n",
       "\n",
       "    .dataframe thead th {\n",
       "        text-align: right;\n",
       "    }\n",
       "</style>\n",
       "<table border=\"1\" class=\"dataframe\">\n",
       "  <thead>\n",
       "    <tr style=\"text-align: right;\">\n",
       "      <th></th>\n",
       "      <th>title</th>\n",
       "      <th>text</th>\n",
       "      <th>subject</th>\n",
       "      <th>date</th>\n",
       "    </tr>\n",
       "  </thead>\n",
       "  <tbody>\n",
       "    <tr>\n",
       "      <th>0</th>\n",
       "      <td>As U.S. budget fight looms, Republicans flip t...</td>\n",
       "      <td>The head of a conservative Republican faction...</td>\n",
       "      <td>politicsNews</td>\n",
       "      <td>December 31, 2017</td>\n",
       "    </tr>\n",
       "    <tr>\n",
       "      <th>1</th>\n",
       "      <td>U.S. military to accept transgender recruits o...</td>\n",
       "      <td>Transgender people will be allowed for the fi...</td>\n",
       "      <td>politicsNews</td>\n",
       "      <td>December 29, 2017</td>\n",
       "    </tr>\n",
       "    <tr>\n",
       "      <th>2</th>\n",
       "      <td>Senior U.S. Republican senator: 'Let Mr. Muell...</td>\n",
       "      <td>The special counsel investigation of links be...</td>\n",
       "      <td>politicsNews</td>\n",
       "      <td>December 31, 2017</td>\n",
       "    </tr>\n",
       "    <tr>\n",
       "      <th>3</th>\n",
       "      <td>FBI Russia probe helped by Australian diplomat...</td>\n",
       "      <td>Trump campaign adviser George Papadopoulos to...</td>\n",
       "      <td>politicsNews</td>\n",
       "      <td>December 30, 2017</td>\n",
       "    </tr>\n",
       "    <tr>\n",
       "      <th>4</th>\n",
       "      <td>Trump wants Postal Service to charge 'much mor...</td>\n",
       "      <td>President Donald Trump called on the U.S. Pos...</td>\n",
       "      <td>politicsNews</td>\n",
       "      <td>December 29, 2017</td>\n",
       "    </tr>\n",
       "  </tbody>\n",
       "</table>\n",
       "</div>"
      ],
      "text/plain": [
       "                                               title  \\\n",
       "0  As U.S. budget fight looms, Republicans flip t...   \n",
       "1  U.S. military to accept transgender recruits o...   \n",
       "2  Senior U.S. Republican senator: 'Let Mr. Muell...   \n",
       "3  FBI Russia probe helped by Australian diplomat...   \n",
       "4  Trump wants Postal Service to charge 'much mor...   \n",
       "\n",
       "                                                text       subject  \\\n",
       "0   The head of a conservative Republican faction...  politicsNews   \n",
       "1   Transgender people will be allowed for the fi...  politicsNews   \n",
       "2   The special counsel investigation of links be...  politicsNews   \n",
       "3   Trump campaign adviser George Papadopoulos to...  politicsNews   \n",
       "4   President Donald Trump called on the U.S. Pos...  politicsNews   \n",
       "\n",
       "                 date  \n",
       "0  December 31, 2017   \n",
       "1  December 29, 2017   \n",
       "2  December 31, 2017   \n",
       "3  December 30, 2017   \n",
       "4  December 29, 2017   "
      ]
     },
     "execution_count": 50,
     "metadata": {},
     "output_type": "execute_result"
    }
   ],
   "source": [
    "real.head()"
   ]
  },
  {
   "cell_type": "code",
   "execution_count": 51,
   "metadata": {},
   "outputs": [],
   "source": [
    "#dropping this record\n",
    "real = real.drop(8970, axis=0)"
   ]
  },
  {
   "cell_type": "markdown",
   "metadata": {},
   "source": [
    "#### Hasta aca se elimino la agencia que solo esta presente en las noticias reales"
   ]
  },
  {
   "cell_type": "code",
   "execution_count": null,
   "metadata": {},
   "outputs": [],
   "source": []
  },
  {
   "cell_type": "code",
   "execution_count": null,
   "metadata": {},
   "outputs": [],
   "source": []
  },
  {
   "cell_type": "code",
   "execution_count": 52,
   "metadata": {},
   "outputs": [
    {
     "data": {
      "text/html": [
       "<div>\n",
       "<style scoped>\n",
       "    .dataframe tbody tr th:only-of-type {\n",
       "        vertical-align: middle;\n",
       "    }\n",
       "\n",
       "    .dataframe tbody tr th {\n",
       "        vertical-align: top;\n",
       "    }\n",
       "\n",
       "    .dataframe thead th {\n",
       "        text-align: right;\n",
       "    }\n",
       "</style>\n",
       "<table border=\"1\" class=\"dataframe\">\n",
       "  <thead>\n",
       "    <tr style=\"text-align: right;\">\n",
       "      <th></th>\n",
       "      <th>title</th>\n",
       "      <th>text</th>\n",
       "      <th>subject</th>\n",
       "      <th>date</th>\n",
       "    </tr>\n",
       "  </thead>\n",
       "  <tbody>\n",
       "    <tr>\n",
       "      <th>40642</th>\n",
       "      <td>TRUMP BLASTS John McCain and Lindsey Graham: T...</td>\n",
       "      <td>Two of the most despicable RINO s (Republicans...</td>\n",
       "      <td>left-news</td>\n",
       "      <td>Jan 30, 2017</td>\n",
       "    </tr>\n",
       "    <tr>\n",
       "      <th>26424</th>\n",
       "      <td>Ivanka Trump Ordered Some Jewelry And Got OWN...</td>\n",
       "      <td>Ivanka Trump enjoys what someone from that fam...</td>\n",
       "      <td>News</td>\n",
       "      <td>August 17, 2016</td>\n",
       "    </tr>\n",
       "    <tr>\n",
       "      <th>39291</th>\n",
       "      <td>DEFIANT NFL PLAYERS All Over The Place With Pr...</td>\n",
       "      <td>NFL players were pretty much all over the plac...</td>\n",
       "      <td>left-news</td>\n",
       "      <td>Oct 1, 2017</td>\n",
       "    </tr>\n",
       "    <tr>\n",
       "      <th>21648</th>\n",
       "      <td>White House Confirms Resident Nazi Stephen Mi...</td>\n",
       "      <td>White house Nazi Stephen Miller is a scumbag. ...</td>\n",
       "      <td>News</td>\n",
       "      <td>October 11, 2017</td>\n",
       "    </tr>\n",
       "    <tr>\n",
       "      <th>29426</th>\n",
       "      <td>Photographer Captures Horrific Effects Of Cli...</td>\n",
       "      <td>There are many who want to claim that Climate ...</td>\n",
       "      <td>News</td>\n",
       "      <td>February 18, 2016</td>\n",
       "    </tr>\n",
       "    <tr>\n",
       "      <th>...</th>\n",
       "      <td>...</td>\n",
       "      <td>...</td>\n",
       "      <td>...</td>\n",
       "      <td>...</td>\n",
       "    </tr>\n",
       "    <tr>\n",
       "      <th>38662</th>\n",
       "      <td>Judge Napolitano Slams SCOTUS Ruling on Obamacare</td>\n",
       "      <td></td>\n",
       "      <td>Government News</td>\n",
       "      <td>Jun 25, 2015</td>\n",
       "    </tr>\n",
       "    <tr>\n",
       "      <th>20648</th>\n",
       "      <td>U.N. says 270,000 Rohingya fled Myanmar in pas...</td>\n",
       "      <td>An estimated 270,000 Rohingya refugees have f...</td>\n",
       "      <td>worldnews</td>\n",
       "      <td>September 8, 2017</td>\n",
       "    </tr>\n",
       "    <tr>\n",
       "      <th>24919</th>\n",
       "      <td>Prominent Holocaust Attorney Files MASSIVE La...</td>\n",
       "      <td>Donald Trump is NOT going to like this at all....</td>\n",
       "      <td>News</td>\n",
       "      <td>December 8, 2016</td>\n",
       "    </tr>\n",
       "    <tr>\n",
       "      <th>31910</th>\n",
       "      <td>NUMEROUS PUBLIC Rapes Of Teenage Girls Reporte...</td>\n",
       "      <td>Last year, we reported about women who attende...</td>\n",
       "      <td>politics</td>\n",
       "      <td>Jul 1, 2017</td>\n",
       "    </tr>\n",
       "    <tr>\n",
       "      <th>1998</th>\n",
       "      <td>Trump's firm sought Moscow real estate deal du...</td>\n",
       "      <td>Donald Trump’s company was pursuing a Moscow ...</td>\n",
       "      <td>politicsNews</td>\n",
       "      <td>August 28, 2017</td>\n",
       "    </tr>\n",
       "  </tbody>\n",
       "</table>\n",
       "<p>44897 rows × 4 columns</p>\n",
       "</div>"
      ],
      "text/plain": [
       "                                                   title  \\\n",
       "40642  TRUMP BLASTS John McCain and Lindsey Graham: T...   \n",
       "26424   Ivanka Trump Ordered Some Jewelry And Got OWN...   \n",
       "39291  DEFIANT NFL PLAYERS All Over The Place With Pr...   \n",
       "21648   White House Confirms Resident Nazi Stephen Mi...   \n",
       "29426   Photographer Captures Horrific Effects Of Cli...   \n",
       "...                                                  ...   \n",
       "38662  Judge Napolitano Slams SCOTUS Ruling on Obamacare   \n",
       "20648  U.N. says 270,000 Rohingya fled Myanmar in pas...   \n",
       "24919   Prominent Holocaust Attorney Files MASSIVE La...   \n",
       "31910  NUMEROUS PUBLIC Rapes Of Teenage Girls Reporte...   \n",
       "1998   Trump's firm sought Moscow real estate deal du...   \n",
       "\n",
       "                                                    text          subject  \\\n",
       "40642  Two of the most despicable RINO s (Republicans...        left-news   \n",
       "26424  Ivanka Trump enjoys what someone from that fam...             News   \n",
       "39291  NFL players were pretty much all over the plac...        left-news   \n",
       "21648  White house Nazi Stephen Miller is a scumbag. ...             News   \n",
       "29426  There are many who want to claim that Climate ...             News   \n",
       "...                                                  ...              ...   \n",
       "38662                                                     Government News   \n",
       "20648   An estimated 270,000 Rohingya refugees have f...        worldnews   \n",
       "24919  Donald Trump is NOT going to like this at all....             News   \n",
       "31910  Last year, we reported about women who attende...         politics   \n",
       "1998    Donald Trump’s company was pursuing a Moscow ...     politicsNews   \n",
       "\n",
       "                     date  \n",
       "40642        Jan 30, 2017  \n",
       "26424     August 17, 2016  \n",
       "39291         Oct 1, 2017  \n",
       "21648    October 11, 2017  \n",
       "29426   February 18, 2016  \n",
       "...                   ...  \n",
       "38662        Jun 25, 2015  \n",
       "20648  September 8, 2017   \n",
       "24919    December 8, 2016  \n",
       "31910         Jul 1, 2017  \n",
       "1998     August 28, 2017   \n",
       "\n",
       "[44897 rows x 4 columns]"
      ]
     },
     "execution_count": 52,
     "metadata": {},
     "output_type": "execute_result"
    }
   ],
   "source": [
    "# Mezclamos los 2 dataframes y los ramdomisamos el orden\n",
    "from sklearn.utils import shuffle\n",
    "\n",
    "news = real.append(fake, ignore_index=True)\n",
    "news = shuffle(news)\n",
    "news"
   ]
  },
  {
   "cell_type": "code",
   "execution_count": 53,
   "metadata": {},
   "outputs": [],
   "source": [
    "#news_mask = news['text'] == ' '\n",
    "#news = news.drop(news[news_mask].index)\n",
    "#news"
   ]
  },
  {
   "cell_type": "code",
   "execution_count": 54,
   "metadata": {},
   "outputs": [
    {
     "data": {
      "text/plain": [
       "[Text(0, 0, 'left-news'),\n",
       " Text(1, 0, 'News'),\n",
       " Text(2, 0, 'worldnews'),\n",
       " Text(3, 0, 'politicsNews'),\n",
       " Text(4, 0, 'politics'),\n",
       " Text(5, 0, 'Middle-east'),\n",
       " Text(6, 0, 'US_News'),\n",
       " Text(7, 0, 'Government News')]"
      ]
     },
     "execution_count": 54,
     "metadata": {},
     "output_type": "execute_result"
    },
    {
     "data": {
      "image/png": "[encoded data removed]",
      "text/plain": [
       "<Figure size 864x576 with 1 Axes>"
      ]
     },
     "metadata": {},
     "output_type": "display_data"
    }
   ],
   "source": [
    "import seaborn as sns\n",
    "import matplotlib.pyplot as plt\n",
    "\n",
    "plt.figure(figsize = (12,8))\n",
    "sns.set(style = \"whitegrid\",font_scale = 1.2)\n",
    "chart = sns.countplot(x = \"subject\", data = news)\n",
    "chart.set_xticklabels(chart.get_xticklabels(),rotation=90)"
   ]
  },
  {
   "cell_type": "code",
   "execution_count": 55,
   "metadata": {},
   "outputs": [
    {
     "data": {
      "text/html": [
       "<div>\n",
       "<style scoped>\n",
       "    .dataframe tbody tr th:only-of-type {\n",
       "        vertical-align: middle;\n",
       "    }\n",
       "\n",
       "    .dataframe tbody tr th {\n",
       "        vertical-align: top;\n",
       "    }\n",
       "\n",
       "    .dataframe thead th {\n",
       "        text-align: right;\n",
       "    }\n",
       "</style>\n",
       "<table border=\"1\" class=\"dataframe\">\n",
       "  <thead>\n",
       "    <tr style=\"text-align: right;\">\n",
       "      <th></th>\n",
       "      <th>text</th>\n",
       "      <th>subject</th>\n",
       "    </tr>\n",
       "  </thead>\n",
       "  <tbody>\n",
       "    <tr>\n",
       "      <th>4518</th>\n",
       "      <td>ADVISORY: Story on Kushner visiting Iraq withd...</td>\n",
       "      <td>politicsNews</td>\n",
       "    </tr>\n",
       "    <tr>\n",
       "      <th>17285</th>\n",
       "      <td>Britain's Johnson says as May heads to Brussel...</td>\n",
       "      <td>worldnews</td>\n",
       "    </tr>\n",
       "    <tr>\n",
       "      <th>14644</th>\n",
       "      <td>Iran factions use earthquake relief effort to ...</td>\n",
       "      <td>worldnews</td>\n",
       "    </tr>\n",
       "    <tr>\n",
       "      <th>10468</th>\n",
       "      <td>Pennsylvania governor raises minimum wage for ...</td>\n",
       "      <td>politicsNews</td>\n",
       "    </tr>\n",
       "    <tr>\n",
       "      <th>23959</th>\n",
       "      <td>Trump Wants More White House Staffers, What H...</td>\n",
       "      <td>News</td>\n",
       "    </tr>\n",
       "  </tbody>\n",
       "</table>\n",
       "</div>"
      ],
      "text/plain": [
       "                                                    text       subject\n",
       "4518   ADVISORY: Story on Kushner visiting Iraq withd...  politicsNews\n",
       "17285  Britain's Johnson says as May heads to Brussel...     worldnews\n",
       "14644  Iran factions use earthquake relief effort to ...     worldnews\n",
       "10468  Pennsylvania governor raises minimum wage for ...  politicsNews\n",
       "23959   Trump Wants More White House Staffers, What H...          News"
      ]
     },
     "execution_count": 55,
     "metadata": {},
     "output_type": "execute_result"
    }
   ],
   "source": [
    "#Combinamos columnas de texto\n",
    "news['text'] = news['title'] + \" \" + news['text']\n",
    "news.drop(['title', 'date'], axis=1, inplace=True)\n",
    "news.sample(5)"
   ]
  },
  {
   "cell_type": "code",
   "execution_count": 56,
   "metadata": {},
   "outputs": [
    {
     "data": {
      "text/plain": [
       "(44897, 2)"
      ]
     },
     "execution_count": 56,
     "metadata": {},
     "output_type": "execute_result"
    }
   ],
   "source": [
    "news.shape"
   ]
  },
  {
   "cell_type": "markdown",
   "metadata": {},
   "source": [
    "### Codificamos etiquetas"
   ]
  },
  {
   "cell_type": "code",
   "execution_count": 57,
   "metadata": {},
   "outputs": [
    {
     "data": {
      "text/plain": [
       "6    11271\n",
       "7    10145\n",
       "2     9050\n",
       "5     6841\n",
       "4     4459\n",
       "0     1570\n",
       "3      783\n",
       "1      778\n",
       "Name: subject, dtype: int64"
      ]
     },
     "execution_count": 57,
     "metadata": {},
     "output_type": "execute_result"
    }
   ],
   "source": [
    "from sklearn import preprocessing\n",
    "le = preprocessing.LabelEncoder()\n",
    "news['subject'] = le.fit_transform(news['subject'])\n",
    "news['subject'].value_counts()"
   ]
  },
  {
   "cell_type": "markdown",
   "metadata": {},
   "source": [
    "### Continuamos proceso de limpieza"
   ]
  },
  {
   "cell_type": "code",
   "execution_count": 58,
   "metadata": {},
   "outputs": [],
   "source": [
    "from bs4 import BeautifulSoup\n",
    "import re,string,unicodedata\n",
    "from nltk.corpus import stopwords"
   ]
  },
  {
   "cell_type": "code",
   "execution_count": 59,
   "metadata": {},
   "outputs": [],
   "source": [
    "#Todo en lower\n",
    "def to_lower(texto):\n",
    "    lower_text = texto.lower()\n",
    "    return lower_text\n",
    "\n",
    "#Html parser\n",
    "def strip_html(text):\n",
    "    soup = BeautifulSoup(text, \"html.parser\")\n",
    "    return soup.get_text()\n",
    "\n",
    "#Borrar corchetes\n",
    "def remove_between_square_brackets(text):\n",
    "    return re.sub('\\[[^]]*\\]', '', text)\n",
    "\n",
    "# Borrar urls\n",
    "def remove_urls(text):\n",
    "    return re.sub(r'http\\S+', '', text)\n",
    "\n",
    "# Borrar stopwords\n",
    "def remove_stopwords(text):\n",
    "    stop = set(stopwords.words('english'))\n",
    "    punctuation = list(string.punctuation)\n",
    "    stop.update(punctuation)    \n",
    "    \n",
    "    final_text = []\n",
    "    for i in text.split():\n",
    "        if i.strip().lower() not in stop:\n",
    "            final_text.append(i.strip())\n",
    "    return \" \".join(final_text)\n",
    "\n",
    "def denoise_text(text):\n",
    "    text = to_lower(text)\n",
    "    text = strip_html(text)\n",
    "    text = remove_between_square_brackets(text)\n",
    "    text = remove_urls(text)\n",
    "    text = remove_stopwords(text)\n",
    "    text = text.strip()\n",
    "    return text"
   ]
  },
  {
   "cell_type": "code",
   "execution_count": 60,
   "metadata": {},
   "outputs": [],
   "source": [
    "news['text']=news['text'].apply(denoise_text)"
   ]
  },
  {
   "cell_type": "code",
   "execution_count": 61,
   "metadata": {},
   "outputs": [
    {
     "data": {
      "text/html": [
       "<div>\n",
       "<style scoped>\n",
       "    .dataframe tbody tr th:only-of-type {\n",
       "        vertical-align: middle;\n",
       "    }\n",
       "\n",
       "    .dataframe tbody tr th {\n",
       "        vertical-align: top;\n",
       "    }\n",
       "\n",
       "    .dataframe thead th {\n",
       "        text-align: right;\n",
       "    }\n",
       "</style>\n",
       "<table border=\"1\" class=\"dataframe\">\n",
       "  <thead>\n",
       "    <tr style=\"text-align: right;\">\n",
       "      <th></th>\n",
       "      <th>text</th>\n",
       "      <th>subject</th>\n",
       "    </tr>\n",
       "  </thead>\n",
       "  <tbody>\n",
       "    <tr>\n",
       "      <th>32194</th>\n",
       "      <td>sick little boy found heart donor hours flotus...</td>\n",
       "      <td>5</td>\n",
       "    </tr>\n",
       "    <tr>\n",
       "      <th>41909</th>\n",
       "      <td>king obama proclaimed month june dedicated cel...</td>\n",
       "      <td>4</td>\n",
       "    </tr>\n",
       "    <tr>\n",
       "      <th>31234</th>\n",
       "      <td>‘kaep– kaep– kaepernick’…pelosi fumbles defend...</td>\n",
       "      <td>5</td>\n",
       "    </tr>\n",
       "  </tbody>\n",
       "</table>\n",
       "</div>"
      ],
      "text/plain": [
       "                                                    text  subject\n",
       "32194  sick little boy found heart donor hours flotus...        5\n",
       "41909  king obama proclaimed month june dedicated cel...        4\n",
       "31234  ‘kaep– kaep– kaepernick’…pelosi fumbles defend...        5"
      ]
     },
     "execution_count": 61,
     "metadata": {},
     "output_type": "execute_result"
    }
   ],
   "source": [
    "news.sample(3)"
   ]
  },
  {
   "cell_type": "markdown",
   "metadata": {},
   "source": [
    "Hasta aqui se hizo limpieza general de formato\n",
    "\n",
    "---"
   ]
  },
  {
   "cell_type": "markdown",
   "metadata": {},
   "source": [
    "### Separación de sets para entrenamiento, validación y testeo"
   ]
  },
  {
   "cell_type": "code",
   "execution_count": 62,
   "metadata": {},
   "outputs": [
    {
     "name": "stdout",
     "output_type": "stream",
     "text": [
      "25141 6286 13470\n"
     ]
    }
   ],
   "source": [
    "# Se separan el dataset en los sets de train (luego el de train en validacion) y el de test\n",
    "# este enfoque se justifica previo a la tokenizacion\n",
    "from sklearn.model_selection import train_test_split\n",
    "\n",
    "train, test = train_test_split(news, test_size=0.3, random_state=42)\n",
    "train, validation = train_test_split(train, test_size = 0.2, random_state=42)\n",
    "print(len(train), len(validation), len(test) )"
   ]
  },
  {
   "cell_type": "markdown",
   "metadata": {},
   "source": [
    "---"
   ]
  },
  {
   "cell_type": "code",
   "execution_count": 63,
   "metadata": {},
   "outputs": [],
   "source": [
    "from tensorflow.keras.preprocessing.text import Tokenizer\n",
    "\n",
    "vocabulario_max = 20000\n",
    "filtrar = \"!#$%&()*+,-./':;<=>?@[\\\\]^_`{|}~\\t\\n\"\n",
    "tokenizer = Tokenizer(num_words=vocabulario_max, filters=filtrar, lower=True, split=\" \")\n",
    "tokenizer.fit_on_texts(train.text)\n",
    "word_index = tokenizer.word_index"
   ]
  },
  {
   "cell_type": "code",
   "execution_count": 64,
   "metadata": {},
   "outputs": [],
   "source": [
    "# summarize what was learned\n",
    "#print(tokenizer.word_counts)\n",
    "#print(tokenizer.document_count)\n",
    "#print(tokenizer.word_index)\n",
    "#print(tokenizer.word_docs)"
   ]
  },
  {
   "cell_type": "code",
   "execution_count": 65,
   "metadata": {},
   "outputs": [],
   "source": [
    "train_matrix = tokenizer.texts_to_matrix(np.array(train.text))\n",
    "val_matrix = tokenizer.texts_to_matrix(np.array(validation.text))\n",
    "test_matrix = tokenizer.texts_to_matrix(np.array(test.text))"
   ]
  },
  {
   "cell_type": "code",
   "execution_count": 66,
   "metadata": {},
   "outputs": [
    {
     "data": {
      "text/plain": [
       "numpy.ndarray"
      ]
     },
     "execution_count": 66,
     "metadata": {},
     "output_type": "execute_result"
    }
   ],
   "source": [
    "type(train_matrix)"
   ]
  },
  {
   "cell_type": "code",
   "execution_count": 67,
   "metadata": {},
   "outputs": [
    {
     "data": {
      "text/plain": [
       "(25141, 20000)"
      ]
     },
     "execution_count": 67,
     "metadata": {},
     "output_type": "execute_result"
    }
   ],
   "source": [
    "train_matrix.shape"
   ]
  },
  {
   "cell_type": "code",
   "execution_count": 68,
   "metadata": {},
   "outputs": [
    {
     "data": {
      "text/plain": [
       "array([[0., 0., 0., 0., 0., 0., 0., 0., 0., 0.],\n",
       "       [0., 1., 1., 0., 0., 1., 1., 1., 0., 0.]])"
      ]
     },
     "execution_count": 68,
     "metadata": {},
     "output_type": "execute_result"
    }
   ],
   "source": [
    "train_matrix[0:2,:10]"
   ]
  },
  {
   "cell_type": "code",
   "execution_count": 69,
   "metadata": {},
   "outputs": [
    {
     "data": {
      "text/plain": [
       "(6286, 20000)"
      ]
     },
     "execution_count": 69,
     "metadata": {},
     "output_type": "execute_result"
    }
   ],
   "source": [
    "val_matrix.shape"
   ]
  },
  {
   "cell_type": "code",
   "execution_count": 70,
   "metadata": {},
   "outputs": [
    {
     "data": {
      "text/plain": [
       "(13470, 20000)"
      ]
     },
     "execution_count": 70,
     "metadata": {},
     "output_type": "execute_result"
    }
   ],
   "source": [
    "test_matrix.shape"
   ]
  },
  {
   "cell_type": "code",
   "execution_count": 71,
   "metadata": {},
   "outputs": [],
   "source": [
    "x_train = np.copy(train_matrix)\n",
    "x_val = np.copy(val_matrix)\n",
    "x_test = np.copy(test_matrix)\n",
    "y_train = train['subject'].values\n",
    "y_val = validation['subject'].values\n",
    "y_test = test['subject'].values\n"
   ]
  },
  {
   "cell_type": "code",
   "execution_count": 72,
   "metadata": {},
   "outputs": [
    {
     "data": {
      "text/plain": [
       "array([4, 5, 5, ..., 2, 5, 5])"
      ]
     },
     "execution_count": 72,
     "metadata": {},
     "output_type": "execute_result"
    }
   ],
   "source": [
    "y_train"
   ]
  },
  {
   "cell_type": "code",
   "execution_count": 73,
   "metadata": {},
   "outputs": [
    {
     "data": {
      "text/plain": [
       "((25141, 8), (6286, 8), (13470,))"
      ]
     },
     "execution_count": 73,
     "metadata": {},
     "output_type": "execute_result"
    }
   ],
   "source": [
    "from tensorflow.keras.utils import to_categorical\n",
    "\n",
    "y_train = to_categorical(y_train, num_classes=8)\n",
    "y_val = to_categorical(y_val, num_classes=8)\n",
    "#y_test = to_categorical(y_test, num_classes=8)\n",
    "\n",
    "y_train.shape, y_val.shape, y_test.shape"
   ]
  },
  {
   "cell_type": "code",
   "execution_count": 74,
   "metadata": {},
   "outputs": [
    {
     "data": {
      "text/plain": [
       "array([7, 6, 4, ..., 6, 7, 2])"
      ]
     },
     "execution_count": 74,
     "metadata": {},
     "output_type": "execute_result"
    }
   ],
   "source": [
    "y_test"
   ]
  },
  {
   "cell_type": "markdown",
   "metadata": {},
   "source": [
    "### Aqui comienza la configuracion y entrenamiento de la red base"
   ]
  },
  {
   "cell_type": "code",
   "execution_count": 102,
   "metadata": {},
   "outputs": [
    {
     "name": "stdout",
     "output_type": "stream",
     "text": [
      "Model: \"modelo_clean\"\n",
      "_________________________________________________________________\n",
      "Layer (type)                 Output Shape              Param #   \n",
      "=================================================================\n",
      "dense_6 (Dense)              (None, 64)                1280064   \n",
      "_________________________________________________________________\n",
      "dropout_4 (Dropout)          (None, 64)                0         \n",
      "_________________________________________________________________\n",
      "dense_7 (Dense)              (None, 32)                2080      \n",
      "_________________________________________________________________\n",
      "batch_normalization_1 (Batch (None, 32)                128       \n",
      "_________________________________________________________________\n",
      "activation_1 (Activation)    (None, 32)                0         \n",
      "_________________________________________________________________\n",
      "dropout_5 (Dropout)          (None, 32)                0         \n",
      "_________________________________________________________________\n",
      "dense_8 (Dense)              (None, 16)                528       \n",
      "_________________________________________________________________\n",
      "batch_normalization_2 (Batch (None, 16)                64        \n",
      "_________________________________________________________________\n",
      "activation_2 (Activation)    (None, 16)                0         \n",
      "_________________________________________________________________\n",
      "dropout_6 (Dropout)          (None, 16)                0         \n",
      "_________________________________________________________________\n",
      "dense_9 (Dense)              (None, 8)                 136       \n",
      "=================================================================\n",
      "Total params: 1,283,000\n",
      "Trainable params: 1,282,904\n",
      "Non-trainable params: 96\n",
      "_________________________________________________________________\n"
     ]
    }
   ],
   "source": [
    "from tensorflow.keras.models import Sequential\n",
    "from tensorflow.keras.layers import Dense\n",
    "from tensorflow.keras.layers import Dropout\n",
    "from tensorflow.keras.callbacks import EarlyStopping\n",
    "from keras.layers import BatchNormalization, Activation\n",
    "\n",
    "# Creamos un modelo con dos capas ocultas de 16 neuronas cada una\n",
    "model = Sequential(name=\"modelo_clean\")\n",
    "model.add(Dense(64, activation='relu', input_shape=(20000,)))\n",
    "model.add(Dropout(0.5))\n",
    "model.add(Dense(32))\n",
    "model.add(BatchNormalization())\n",
    "model.add(Activation('relu'))\n",
    "model.add(Dropout(0.5))\n",
    "model.add(Dense(16))\n",
    "model.add(BatchNormalization())\n",
    "model.add(Activation('relu'))\n",
    "model.add(Dropout(0.5))\n",
    "model.add(Dense(8, activation='sigmoid'))\n",
    "\n",
    "model.summary()"
   ]
  },
  {
   "cell_type": "code",
   "execution_count": 103,
   "metadata": {},
   "outputs": [],
   "source": [
    "# Instanciamos nuestro objeto early_stopping y definimos una lista de callbacks\n",
    "early_stopping = EarlyStopping(monitor='val_loss', min_delta=0.01, patience=8, restore_best_weights=True, verbose=1)\n",
    "callbacks_list = [early_stopping]"
   ]
  },
  {
   "cell_type": "code",
   "execution_count": 104,
   "metadata": {},
   "outputs": [],
   "source": [
    "# Importamos la clase ReduceLROnPlateau\n",
    "from tensorflow.keras.callbacks import ReduceLROnPlateau\n",
    "\n",
    "# Instanciamos nuestro objeto reduce_lr y definimos una lista de callbacks\n",
    "reduce_lr = ReduceLROnPlateau(monitor='val_loss', factor=0.1, patience=4, verbose=1)\n",
    "\n",
    "# Podemos incorporar este callback al listado anterior y trabajar con ambos a la vez\n",
    "callbacks_list.append(reduce_lr)"
   ]
  },
  {
   "cell_type": "code",
   "execution_count": 105,
   "metadata": {},
   "outputs": [],
   "source": [
    "# Compilamos el modelo\n",
    "model.compile(optimizer='rmsprop',\n",
    "              loss='categorical_crossentropy',\n",
    "              metrics=['accuracy'])"
   ]
  },
  {
   "cell_type": "code",
   "execution_count": 106,
   "metadata": {},
   "outputs": [
    {
     "name": "stdout",
     "output_type": "stream",
     "text": [
      "Epoch 1/30\n",
      "50/50 [==============================] - 9s 187ms/step - loss: 1.8950 - accuracy: 0.2550 - val_loss: 1.8086 - val_accuracy: 0.7272\n",
      "Epoch 2/30\n",
      "50/50 [==============================] - 6s 112ms/step - loss: 1.6401 - accuracy: 0.4380 - val_loss: 1.5034 - val_accuracy: 0.7819\n",
      "Epoch 3/30\n",
      "50/50 [==============================] - 4s 83ms/step - loss: 1.4452 - accuracy: 0.5621 - val_loss: 1.2156 - val_accuracy: 0.8067\n",
      "Epoch 4/30\n",
      "50/50 [==============================] - 4s 78ms/step - loss: 1.2835 - accuracy: 0.6310 - val_loss: 0.9660 - val_accuracy: 0.8078\n",
      "Epoch 5/30\n",
      "50/50 [==============================] - 4s 78ms/step - loss: 1.1338 - accuracy: 0.6783 - val_loss: 0.7988 - val_accuracy: 0.8104\n",
      "Epoch 6/30\n",
      "50/50 [==============================] - 4s 82ms/step - loss: 1.0045 - accuracy: 0.7056 - val_loss: 0.6534 - val_accuracy: 0.8140\n",
      "Epoch 7/30\n",
      "50/50 [==============================] - 5s 99ms/step - loss: 0.9005 - accuracy: 0.7220 - val_loss: 0.5504 - val_accuracy: 0.8128\n",
      "Epoch 8/30\n",
      "50/50 [==============================] - 4s 73ms/step - loss: 0.8085 - accuracy: 0.7330 - val_loss: 0.4820 - val_accuracy: 0.8137\n",
      "Epoch 9/30\n",
      "50/50 [==============================] - 5s 91ms/step - loss: 0.7362 - accuracy: 0.7430 - val_loss: 0.4547 - val_accuracy: 0.8139\n",
      "Epoch 10/30\n",
      "50/50 [==============================] - 5s 104ms/step - loss: 0.6842 - accuracy: 0.7498 - val_loss: 0.4345 - val_accuracy: 0.8126\n",
      "Epoch 11/30\n",
      "50/50 [==============================] - 5s 95ms/step - loss: 0.6449 - accuracy: 0.7574 - val_loss: 0.4113 - val_accuracy: 0.8151\n",
      "Epoch 12/30\n",
      "50/50 [==============================] - 5s 98ms/step - loss: 0.6186 - accuracy: 0.7613 - val_loss: 0.4067 - val_accuracy: 0.8145\n",
      "Epoch 13/30\n",
      "50/50 [==============================] - 5s 90ms/step - loss: 0.5922 - accuracy: 0.7650 - val_loss: 0.4046 - val_accuracy: 0.8136\n",
      "Epoch 14/30\n",
      "50/50 [==============================] - 5s 97ms/step - loss: 0.5691 - accuracy: 0.7687 - val_loss: 0.4098 - val_accuracy: 0.8123\n",
      "Epoch 15/30\n",
      "50/50 [==============================] - 5s 96ms/step - loss: 0.5563 - accuracy: 0.7713 - val_loss: 0.3997 - val_accuracy: 0.8131\n",
      "Epoch 16/30\n",
      "50/50 [==============================] - 4s 86ms/step - loss: 0.5383 - accuracy: 0.7740 - val_loss: 0.4018 - val_accuracy: 0.8137\n",
      "Epoch 17/30\n",
      "50/50 [==============================] - 4s 80ms/step - loss: 0.5151 - accuracy: 0.7808 - val_loss: 0.4086 - val_accuracy: 0.8115\n",
      "Epoch 18/30\n",
      "50/50 [==============================] - 5s 98ms/step - loss: 0.5075 - accuracy: 0.7840 - val_loss: 0.4027 - val_accuracy: 0.8128\n",
      "Epoch 19/30\n",
      "49/50 [============================>.] - ETA: 0s - loss: 0.5013 - accuracy: 0.7826\n",
      "Epoch 00019: ReduceLROnPlateau reducing learning rate to 0.00010000000474974513.\n",
      "50/50 [==============================] - 4s 79ms/step - loss: 0.5019 - accuracy: 0.7824 - val_loss: 0.4029 - val_accuracy: 0.8186\n",
      "Epoch 20/30\n",
      "50/50 [==============================] - 5s 94ms/step - loss: 0.4965 - accuracy: 0.7855 - val_loss: 0.3996 - val_accuracy: 0.8186\n",
      "Epoch 21/30\n",
      "50/50 [==============================] - 4s 86ms/step - loss: 0.4938 - accuracy: 0.7882 - val_loss: 0.3994 - val_accuracy: 0.8206\n",
      "Epoch 22/30\n",
      "50/50 [==============================] - 4s 86ms/step - loss: 0.4948 - accuracy: 0.7866 - val_loss: 0.3996 - val_accuracy: 0.8206\n",
      "Epoch 23/30\n",
      "49/50 [============================>.] - ETA: 0s - loss: 0.4869 - accuracy: 0.7889Restoring model weights from the end of the best epoch.\n",
      "50/50 [==============================] - 4s 81ms/step - loss: 0.4870 - accuracy: 0.7890 - val_loss: 0.3996 - val_accuracy: 0.8231\n",
      "Epoch 00023: early stopping\n"
     ]
    }
   ],
   "source": [
    "# Entrenamos\n",
    "history = model.fit(x=x_train, y=y_train,\n",
    "                    epochs=30, batch_size=512, callbacks=callbacks_list, validation_data=(x_val, y_val))"
   ]
  },
  {
   "cell_type": "code",
   "execution_count": 107,
   "metadata": {},
   "outputs": [
    {
     "data": {
      "image/png": "[encoded data removed]",
      "text/plain": [
       "<Figure size 864x576 with 1 Axes>"
      ]
     },
     "metadata": {},
     "output_type": "display_data"
    },
    {
     "data": {
      "image/png": "[encoded data removed]",
      "text/plain": [
       "<Figure size 864x576 with 1 Axes>"
      ]
     },
     "metadata": {},
     "output_type": "display_data"
    }
   ],
   "source": [
    "import matplotlib.pyplot as plt\n",
    "# El atributo `history` contiene un diccionario de métricas por epoch\n",
    "acc = history.history['accuracy']\n",
    "val_acc = history.history['val_accuracy']\n",
    "loss = history.history['loss']\n",
    "val_loss = history.history['val_loss']\n",
    "epochs = range(1, len(acc) + 1)\n",
    "\n",
    "plt.figure(figsize=(12,8))\n",
    "plt.title('Modelo de base')\n",
    "plt.plot(epochs, loss)\n",
    "plt.plot(epochs, val_loss)\n",
    "plt.xticks(ticks=epochs)\n",
    "plt.ylabel('Loss')\n",
    "plt.legend(['Training loss', 'Validation loss'])\n",
    "\n",
    "plt.figure(figsize=(12,8))\n",
    "plt.plot(epochs, acc)\n",
    "plt.plot(epochs, val_acc)\n",
    "plt.xticks(ticks=list(epochs))\n",
    "plt.xlabel('Epochs')\n",
    "plt.ylabel('Accuracy')\n",
    "plt.legend(['Training accuracy', 'Validation accuracy']);"
   ]
  },
  {
   "cell_type": "markdown",
   "metadata": {},
   "source": [
    "### Testeo"
   ]
  },
  {
   "cell_type": "code",
   "execution_count": 108,
   "metadata": {},
   "outputs": [],
   "source": [
    "y_pred = model.predict_classes(x_test)"
   ]
  },
  {
   "cell_type": "code",
   "execution_count": 109,
   "metadata": {},
   "outputs": [
    {
     "data": {
      "text/plain": [
       "((13470,), (13470,))"
      ]
     },
     "execution_count": 109,
     "metadata": {},
     "output_type": "execute_result"
    }
   ],
   "source": [
    "y_pred.shape, y_test.shape"
   ]
  },
  {
   "cell_type": "code",
   "execution_count": 110,
   "metadata": {},
   "outputs": [
    {
     "data": {
      "text/plain": [
       "array([7, 6, 5, ..., 6, 7, 2])"
      ]
     },
     "execution_count": 110,
     "metadata": {},
     "output_type": "execute_result"
    }
   ],
   "source": [
    "y_pred"
   ]
  },
  {
   "cell_type": "code",
   "execution_count": 111,
   "metadata": {},
   "outputs": [
    {
     "data": {
      "text/plain": [
       "array([7, 6, 4, ..., 6, 7, 2])"
      ]
     },
     "execution_count": 111,
     "metadata": {},
     "output_type": "execute_result"
    }
   ],
   "source": [
    "y_test"
   ]
  },
  {
   "cell_type": "code",
   "execution_count": 112,
   "metadata": {},
   "outputs": [
    {
     "name": "stdout",
     "output_type": "stream",
     "text": [
      "              precision    recall  f1-score   support\n",
      "\n",
      "           0       0.00      0.00      0.00       480\n",
      "           1       0.00      0.00      0.00       240\n",
      "           2       1.00      0.99      0.99      2719\n",
      "           3       0.00      0.00      0.00       242\n",
      "           4       0.00      0.00      0.00      1360\n",
      "           5       0.52      0.98      0.68      2056\n",
      "           6       0.97      0.98      0.98      3335\n",
      "           7       0.85      0.98      0.91      3038\n",
      "\n",
      "    accuracy                           0.81     13470\n",
      "   macro avg       0.42      0.49      0.44     13470\n",
      "weighted avg       0.71      0.81      0.75     13470\n",
      "\n"
     ]
    }
   ],
   "source": [
    "from sklearn.metrics import classification_report,confusion_matrix,accuracy_score\n",
    "print(classification_report(y_test, y_pred))"
   ]
  },
  {
   "cell_type": "code",
   "execution_count": 113,
   "metadata": {},
   "outputs": [],
   "source": [
    "cm = confusion_matrix(y_test, y_pred)\n"
   ]
  },
  {
   "cell_type": "code",
   "execution_count": 114,
   "metadata": {},
   "outputs": [
    {
     "data": {
      "image/png": "[encoded data removed]",
      "text/plain": [
       "<Figure size 432x288 with 2 Axes>"
      ]
     },
     "metadata": {},
     "output_type": "display_data"
    }
   ],
   "source": [
    "import seaborn as sns\n",
    "sns.heatmap(cm, annot=True, fmt='.0f')\n",
    "plt.ylabel('Verdaderos')\n",
    "plt.title('Cofusion Matrix - Clean Model')\n",
    "plt.xlabel('Predichos');"
   ]
  },
  {
   "cell_type": "code",
   "execution_count": null,
   "metadata": {},
   "outputs": [],
   "source": []
  }
 ],
 "metadata": {
  "kernelspec": {
   "display_name": "Python 3",
   "language": "python",
   "name": "python3"
  },
  "language_info": {
   "codemirror_mode": {
    "name": "ipython",
    "version": 3
   },
   "file_extension": ".py",
   "mimetype": "text/x-python",
   "name": "python",
   "nbconvert_exporter": "python",
   "pygments_lexer": "ipython3",
   "version": "3.8.5"
  }
 },
 "nbformat": 4,
 "nbformat_minor": 4
}
