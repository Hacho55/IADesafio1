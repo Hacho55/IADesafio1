{
 "cells": [
  {
   "cell_type": "markdown",
   "metadata": {},
   "source": [
    "## Entrenamiento con redes neuronales\n",
    "\n",
    "---\n",
    "\n",
    "### Con limpieza específica basada en el analisis preliminar"
   ]
  },
  {
   "cell_type": "code",
   "execution_count": 1,
   "metadata": {},
   "outputs": [],
   "source": [
    "%run \"Funciones.py\"\n",
    "%matplotlib inline"
   ]
  },
  {
   "cell_type": "code",
   "execution_count": 2,
   "metadata": {},
   "outputs": [],
   "source": [
    "# Importo los datos como dataframe de pandas\n",
    "real = pd.read_csv(\"Data/True.csv\")\n",
    "fake = pd.read_csv(\"Data/Fake.csv\")"
   ]
  },
  {
   "cell_type": "markdown",
   "metadata": {},
   "source": [
    "### Aplicamos alguna limpieza previa"
   ]
  },
  {
   "cell_type": "markdown",
   "metadata": {},
   "source": [
    "Difference in Text\n",
    "\n",
    "Real news seems to have source of publication which is not present in fake news set\n",
    "\n",
    "Looking at the data:\n",
    "\n",
    "*most of text contains reuters information such as \"WASHINGTON (Reuters)\"\n",
    "\n",
    "*Some text are tweets from Twitter\n",
    "\n",
    "*Few text do not contain any publication info"
   ]
  },
  {
   "cell_type": "code",
   "execution_count": 3,
   "metadata": {},
   "outputs": [],
   "source": [
    "# First Creating list of index that do not have publication part\n",
    "unknown_publishers = []\n",
    "for index,row in enumerate(real.text.values):\n",
    "    try:\n",
    "        record = row.split(\" -\", maxsplit=1)\n",
    "        #if no text part is present, following will give error\n",
    "        record[1]\n",
    "        #if len of piblication part is greater than 260\n",
    "        #following will give error, ensuring no text having \"-\" in between is counted\n",
    "        assert(len(record[0]) < 260)\n",
    "    except:\n",
    "        unknown_publishers.append(index)"
   ]
  },
  {
   "cell_type": "code",
   "execution_count": 4,
   "metadata": {},
   "outputs": [
    {
     "data": {
      "text/plain": [
       "3488     The White House on Wednesday disclosed a group...\n",
       "4358     Neil Gorsuch, President Donald Trump’s appoint...\n",
       "4465     WASHINGTON The clock began running out this we...\n",
       "5784     Federal appeals court judge Neil Gorsuch, the ...\n",
       "6660     Republican members of Congress are complaining...\n",
       "6823     Over the course of the U.S. presidential campa...\n",
       "7922     After going through a week reminiscent of Napo...\n",
       "8194     The following timeline charts the origin and s...\n",
       "8195     Global health officials are racing to better u...\n",
       "8247     U.S. President Barack Obama visited a street m...\n",
       "8465     ALGONAC, MICH.—Parker Fox drifted out of the D...\n",
       "8481     Global health officials are racing to better u...\n",
       "8482     The following timeline charts the origin and s...\n",
       "8505     Global health officials are racing to better u...\n",
       "8506     The following timeline charts the origin and s...\n",
       "8771     In a speech weighted with America’s complicate...\n",
       "8970                                                      \n",
       "9008     The following timeline charts the origin and s...\n",
       "9009     Global health officials are racing to better u...\n",
       "9307     It’s the near future, and North Korea’s regime...\n",
       "9618     GOP leaders have unleashed a stunning level of...\n",
       "9737     Caitlyn Jenner posted a video on Wednesday (Ap...\n",
       "10479    The Democratic and Republican nominees for the...\n",
       "Name: text, dtype: object"
      ]
     },
     "execution_count": 4,
     "metadata": {},
     "output_type": "execute_result"
    }
   ],
   "source": [
    "# Thus we have list of indices where publisher is not mentioned\n",
    "# lets check\n",
    "real.iloc[unknown_publishers].text\n",
    "# true, they do not have text like \"WASHINGTON (Reuters)\""
   ]
  },
  {
   "cell_type": "code",
   "execution_count": 5,
   "metadata": {},
   "outputs": [],
   "source": [
    "# Seperating Publication info, from actual text\n",
    "publisher = []\n",
    "tmp_text = []\n",
    "for index,row in enumerate(real.text.values):\n",
    "    if index in unknown_publishers:\n",
    "        #Add unknown of publisher not mentioned\n",
    "        tmp_text.append(row)\n",
    "        \n",
    "        publisher.append(\"Unknown\")\n",
    "        continue\n",
    "    record = row.split(\" -\", maxsplit=1)\n",
    "    publisher.append(record[0])\n",
    "    tmp_text.append(record[1])"
   ]
  },
  {
   "cell_type": "code",
   "execution_count": 6,
   "metadata": {},
   "outputs": [],
   "source": [
    "# Replace existing text column with new text\n",
    "# add seperate column for publication info\n",
    "# real[\"publisher\"] = publisher\n",
    "real[\"text\"] = tmp_text\n",
    "\n",
    "del publisher, tmp_text, record, unknown_publishers"
   ]
  },
  {
   "cell_type": "code",
   "execution_count": 7,
   "metadata": {},
   "outputs": [
    {
     "data": {
      "text/html": [
       "<div>\n",
       "<style scoped>\n",
       "    .dataframe tbody tr th:only-of-type {\n",
       "        vertical-align: middle;\n",
       "    }\n",
       "\n",
       "    .dataframe tbody tr th {\n",
       "        vertical-align: top;\n",
       "    }\n",
       "\n",
       "    .dataframe thead th {\n",
       "        text-align: right;\n",
       "    }\n",
       "</style>\n",
       "<table border=\"1\" class=\"dataframe\">\n",
       "  <thead>\n",
       "    <tr style=\"text-align: right;\">\n",
       "      <th></th>\n",
       "      <th>title</th>\n",
       "      <th>text</th>\n",
       "      <th>subject</th>\n",
       "      <th>date</th>\n",
       "    </tr>\n",
       "  </thead>\n",
       "  <tbody>\n",
       "    <tr>\n",
       "      <th>0</th>\n",
       "      <td>As U.S. budget fight looms, Republicans flip t...</td>\n",
       "      <td>The head of a conservative Republican faction...</td>\n",
       "      <td>politicsNews</td>\n",
       "      <td>December 31, 2017</td>\n",
       "    </tr>\n",
       "    <tr>\n",
       "      <th>1</th>\n",
       "      <td>U.S. military to accept transgender recruits o...</td>\n",
       "      <td>Transgender people will be allowed for the fi...</td>\n",
       "      <td>politicsNews</td>\n",
       "      <td>December 29, 2017</td>\n",
       "    </tr>\n",
       "    <tr>\n",
       "      <th>2</th>\n",
       "      <td>Senior U.S. Republican senator: 'Let Mr. Muell...</td>\n",
       "      <td>The special counsel investigation of links be...</td>\n",
       "      <td>politicsNews</td>\n",
       "      <td>December 31, 2017</td>\n",
       "    </tr>\n",
       "    <tr>\n",
       "      <th>3</th>\n",
       "      <td>FBI Russia probe helped by Australian diplomat...</td>\n",
       "      <td>Trump campaign adviser George Papadopoulos to...</td>\n",
       "      <td>politicsNews</td>\n",
       "      <td>December 30, 2017</td>\n",
       "    </tr>\n",
       "    <tr>\n",
       "      <th>4</th>\n",
       "      <td>Trump wants Postal Service to charge 'much mor...</td>\n",
       "      <td>President Donald Trump called on the U.S. Pos...</td>\n",
       "      <td>politicsNews</td>\n",
       "      <td>December 29, 2017</td>\n",
       "    </tr>\n",
       "  </tbody>\n",
       "</table>\n",
       "</div>"
      ],
      "text/plain": [
       "                                               title  \\\n",
       "0  As U.S. budget fight looms, Republicans flip t...   \n",
       "1  U.S. military to accept transgender recruits o...   \n",
       "2  Senior U.S. Republican senator: 'Let Mr. Muell...   \n",
       "3  FBI Russia probe helped by Australian diplomat...   \n",
       "4  Trump wants Postal Service to charge 'much mor...   \n",
       "\n",
       "                                                text       subject  \\\n",
       "0   The head of a conservative Republican faction...  politicsNews   \n",
       "1   Transgender people will be allowed for the fi...  politicsNews   \n",
       "2   The special counsel investigation of links be...  politicsNews   \n",
       "3   Trump campaign adviser George Papadopoulos to...  politicsNews   \n",
       "4   President Donald Trump called on the U.S. Pos...  politicsNews   \n",
       "\n",
       "                 date  \n",
       "0  December 31, 2017   \n",
       "1  December 29, 2017   \n",
       "2  December 31, 2017   \n",
       "3  December 30, 2017   \n",
       "4  December 29, 2017   "
      ]
     },
     "execution_count": 7,
     "metadata": {},
     "output_type": "execute_result"
    }
   ],
   "source": [
    "real.head()"
   ]
  },
  {
   "cell_type": "code",
   "execution_count": 8,
   "metadata": {},
   "outputs": [],
   "source": [
    "# dropping this record\n",
    "real = real.drop(8970, axis=0)"
   ]
  },
  {
   "cell_type": "markdown",
   "metadata": {},
   "source": [
    "#### Hasta aca se elimino la agencia que solo esta presente en las noticias reales"
   ]
  },
  {
   "cell_type": "code",
   "execution_count": 9,
   "metadata": {},
   "outputs": [
    {
     "data": {
      "text/html": [
       "<div>\n",
       "<style scoped>\n",
       "    .dataframe tbody tr th:only-of-type {\n",
       "        vertical-align: middle;\n",
       "    }\n",
       "\n",
       "    .dataframe tbody tr th {\n",
       "        vertical-align: top;\n",
       "    }\n",
       "\n",
       "    .dataframe thead th {\n",
       "        text-align: right;\n",
       "    }\n",
       "</style>\n",
       "<table border=\"1\" class=\"dataframe\">\n",
       "  <thead>\n",
       "    <tr style=\"text-align: right;\">\n",
       "      <th></th>\n",
       "      <th>title</th>\n",
       "      <th>text</th>\n",
       "      <th>subject</th>\n",
       "      <th>date</th>\n",
       "    </tr>\n",
       "  </thead>\n",
       "  <tbody>\n",
       "    <tr>\n",
       "      <th>25405</th>\n",
       "      <td>Veteran Spy: Trump Trading Secret Info With R...</td>\n",
       "      <td>The connection between Donald Trump s presiden...</td>\n",
       "      <td>News</td>\n",
       "      <td>October 31, 2016</td>\n",
       "    </tr>\n",
       "    <tr>\n",
       "      <th>10791</th>\n",
       "      <td>Obama to make historic trip to Cuba in coming ...</td>\n",
       "      <td>President Barack Obama will visit Cuba in the...</td>\n",
       "      <td>politicsNews</td>\n",
       "      <td>February 18, 2016</td>\n",
       "    </tr>\n",
       "    <tr>\n",
       "      <th>8563</th>\n",
       "      <td>The Big Squeeze: This election year, it’s all ...</td>\n",
       "      <td>Two years ago, Judy Konopka and Craig Diangel...</td>\n",
       "      <td>politicsNews</td>\n",
       "      <td>August 2, 2016</td>\n",
       "    </tr>\n",
       "    <tr>\n",
       "      <th>20850</th>\n",
       "      <td>France's Macron plans end to retire-young rail...</td>\n",
       "      <td>President Emmanuel Macron wants to scrap rule...</td>\n",
       "      <td>worldnews</td>\n",
       "      <td>September 6, 2017</td>\n",
       "    </tr>\n",
       "    <tr>\n",
       "      <th>33747</th>\n",
       "      <td>DONALD TRUMP Calls Meeting With Press…Dresses ...</td>\n",
       "      <td>They had to know they had it coming Donald Tru...</td>\n",
       "      <td>politics</td>\n",
       "      <td>Nov 22, 2016</td>\n",
       "    </tr>\n",
       "    <tr>\n",
       "      <th>...</th>\n",
       "      <td>...</td>\n",
       "      <td>...</td>\n",
       "      <td>...</td>\n",
       "      <td>...</td>\n",
       "    </tr>\n",
       "    <tr>\n",
       "      <th>34327</th>\n",
       "      <td>REPORTER SHOCKS HILLARY BY SHOWING UP: Watch T...</td>\n",
       "      <td>Clinton just left  Apple Seeds  kids center in...</td>\n",
       "      <td>politics</td>\n",
       "      <td>Sep 26, 2016</td>\n",
       "    </tr>\n",
       "    <tr>\n",
       "      <th>4766</th>\n",
       "      <td>Black lawmakers meet with Trump about infrastr...</td>\n",
       "      <td>Leaders of the Congressional Black Caucus met...</td>\n",
       "      <td>politicsNews</td>\n",
       "      <td>March 22, 2017</td>\n",
       "    </tr>\n",
       "    <tr>\n",
       "      <th>18587</th>\n",
       "      <td>Austrian chancellor pledges to get to the bott...</td>\n",
       "      <td>Austria s Social Democratic (SPO) Chancellor ...</td>\n",
       "      <td>worldnews</td>\n",
       "      <td>October 1, 2017</td>\n",
       "    </tr>\n",
       "    <tr>\n",
       "      <th>36390</th>\n",
       "      <td>“G#d d*mn America”: DISTURBING PHOTOS Illustra...</td>\n",
       "      <td>Yes this massive protest against America just ...</td>\n",
       "      <td>politics</td>\n",
       "      <td>Nov 4, 2015</td>\n",
       "    </tr>\n",
       "    <tr>\n",
       "      <th>26267</th>\n",
       "      <td>Trump Is LITERALLY Polling At 0% With Black P...</td>\n",
       "      <td>Donald Trump s recent African-American  outrea...</td>\n",
       "      <td>News</td>\n",
       "      <td>August 30, 2016</td>\n",
       "    </tr>\n",
       "  </tbody>\n",
       "</table>\n",
       "<p>44897 rows × 4 columns</p>\n",
       "</div>"
      ],
      "text/plain": [
       "                                                   title  \\\n",
       "25405   Veteran Spy: Trump Trading Secret Info With R...   \n",
       "10791  Obama to make historic trip to Cuba in coming ...   \n",
       "8563   The Big Squeeze: This election year, it’s all ...   \n",
       "20850  France's Macron plans end to retire-young rail...   \n",
       "33747  DONALD TRUMP Calls Meeting With Press…Dresses ...   \n",
       "...                                                  ...   \n",
       "34327  REPORTER SHOCKS HILLARY BY SHOWING UP: Watch T...   \n",
       "4766   Black lawmakers meet with Trump about infrastr...   \n",
       "18587  Austrian chancellor pledges to get to the bott...   \n",
       "36390  “G#d d*mn America”: DISTURBING PHOTOS Illustra...   \n",
       "26267   Trump Is LITERALLY Polling At 0% With Black P...   \n",
       "\n",
       "                                                    text       subject  \\\n",
       "25405  The connection between Donald Trump s presiden...          News   \n",
       "10791   President Barack Obama will visit Cuba in the...  politicsNews   \n",
       "8563    Two years ago, Judy Konopka and Craig Diangel...  politicsNews   \n",
       "20850   President Emmanuel Macron wants to scrap rule...     worldnews   \n",
       "33747  They had to know they had it coming Donald Tru...      politics   \n",
       "...                                                  ...           ...   \n",
       "34327  Clinton just left  Apple Seeds  kids center in...      politics   \n",
       "4766    Leaders of the Congressional Black Caucus met...  politicsNews   \n",
       "18587   Austria s Social Democratic (SPO) Chancellor ...     worldnews   \n",
       "36390  Yes this massive protest against America just ...      politics   \n",
       "26267  Donald Trump s recent African-American  outrea...          News   \n",
       "\n",
       "                     date  \n",
       "25405    October 31, 2016  \n",
       "10791  February 18, 2016   \n",
       "8563      August 2, 2016   \n",
       "20850  September 6, 2017   \n",
       "33747        Nov 22, 2016  \n",
       "...                   ...  \n",
       "34327        Sep 26, 2016  \n",
       "4766      March 22, 2017   \n",
       "18587    October 1, 2017   \n",
       "36390         Nov 4, 2015  \n",
       "26267     August 30, 2016  \n",
       "\n",
       "[44897 rows x 4 columns]"
      ]
     },
     "execution_count": 9,
     "metadata": {},
     "output_type": "execute_result"
    }
   ],
   "source": [
    "# Mezclamos los 2 dataframes y los ramdomisamos el orden\n",
    "news = real.append(fake, ignore_index=True)\n",
    "news = shuffle(news)\n",
    "news"
   ]
  },
  {
   "cell_type": "code",
   "execution_count": 10,
   "metadata": {},
   "outputs": [
    {
     "data": {
      "text/plain": [
       "[Text(0, 0, 'News'),\n",
       " Text(1, 0, 'politicsNews'),\n",
       " Text(2, 0, 'worldnews'),\n",
       " Text(3, 0, 'politics'),\n",
       " Text(4, 0, 'Middle-east'),\n",
       " Text(5, 0, 'US_News'),\n",
       " Text(6, 0, 'left-news'),\n",
       " Text(7, 0, 'Government News')]"
      ]
     },
     "execution_count": 10,
     "metadata": {},
     "output_type": "execute_result"
    },
    {
     "data": {
      "image/png": "[encoded data removed]",
      "text/plain": [
       "<Figure size 864x576 with 1 Axes>"
      ]
     },
     "metadata": {
      "needs_background": "light"
     },
     "output_type": "display_data"
    }
   ],
   "source": [
    "plt.figure(figsize = (12,8))\n",
    "sns.set(style = \"whitegrid\",font_scale = 1.2)\n",
    "chart = sns.countplot(x = \"subject\", data = news)\n",
    "chart.set_xticklabels(chart.get_xticklabels(),rotation=90)"
   ]
  },
  {
   "cell_type": "code",
   "execution_count": 11,
   "metadata": {},
   "outputs": [
    {
     "data": {
      "text/html": [
       "<div>\n",
       "<style scoped>\n",
       "    .dataframe tbody tr th:only-of-type {\n",
       "        vertical-align: middle;\n",
       "    }\n",
       "\n",
       "    .dataframe tbody tr th {\n",
       "        vertical-align: top;\n",
       "    }\n",
       "\n",
       "    .dataframe thead th {\n",
       "        text-align: right;\n",
       "    }\n",
       "</style>\n",
       "<table border=\"1\" class=\"dataframe\">\n",
       "  <thead>\n",
       "    <tr style=\"text-align: right;\">\n",
       "      <th></th>\n",
       "      <th>text</th>\n",
       "      <th>subject</th>\n",
       "    </tr>\n",
       "  </thead>\n",
       "  <tbody>\n",
       "    <tr>\n",
       "      <th>10008</th>\n",
       "      <td>Colorado lawmaker aims to outlaw pot-laced gum...</td>\n",
       "      <td>politicsNews</td>\n",
       "    </tr>\n",
       "    <tr>\n",
       "      <th>7012</th>\n",
       "      <td>No formal U.S. delegation to Castro memorial: ...</td>\n",
       "      <td>politicsNews</td>\n",
       "    </tr>\n",
       "    <tr>\n",
       "      <th>40128</th>\n",
       "      <td>BREAKING NEWS: NYPD Cracking Down On Anti-Trum...</td>\n",
       "      <td>left-news</td>\n",
       "    </tr>\n",
       "    <tr>\n",
       "      <th>13011</th>\n",
       "      <td>London mayor calls for UK apology over colonia...</td>\n",
       "      <td>worldnews</td>\n",
       "    </tr>\n",
       "    <tr>\n",
       "      <th>32133</th>\n",
       "      <td>NEW NORMAL? MASSIVE MUSIC FESTIVAL In Angela M...</td>\n",
       "      <td>politics</td>\n",
       "    </tr>\n",
       "  </tbody>\n",
       "</table>\n",
       "</div>"
      ],
      "text/plain": [
       "                                                    text       subject\n",
       "10008  Colorado lawmaker aims to outlaw pot-laced gum...  politicsNews\n",
       "7012   No formal U.S. delegation to Castro memorial: ...  politicsNews\n",
       "40128  BREAKING NEWS: NYPD Cracking Down On Anti-Trum...     left-news\n",
       "13011  London mayor calls for UK apology over colonia...     worldnews\n",
       "32133  NEW NORMAL? MASSIVE MUSIC FESTIVAL In Angela M...      politics"
      ]
     },
     "execution_count": 11,
     "metadata": {},
     "output_type": "execute_result"
    }
   ],
   "source": [
    "#Combinamos columnas de texto\n",
    "news['text'] = news['title'] + \" \" + news['text']\n",
    "news.drop(['title', 'date'], axis=1, inplace=True)\n",
    "news.sample(5)"
   ]
  },
  {
   "cell_type": "code",
   "execution_count": 12,
   "metadata": {},
   "outputs": [
    {
     "data": {
      "text/plain": [
       "(44897, 2)"
      ]
     },
     "execution_count": 12,
     "metadata": {},
     "output_type": "execute_result"
    }
   ],
   "source": [
    "news.shape"
   ]
  },
  {
   "cell_type": "markdown",
   "metadata": {},
   "source": [
    "### Codificamos etiquetas"
   ]
  },
  {
   "cell_type": "code",
   "execution_count": 13,
   "metadata": {},
   "outputs": [
    {
     "data": {
      "text/plain": [
       "6    11271\n",
       "7    10145\n",
       "2     9050\n",
       "5     6841\n",
       "4     4459\n",
       "0     1570\n",
       "3      783\n",
       "1      778\n",
       "Name: subject, dtype: int64"
      ]
     },
     "execution_count": 13,
     "metadata": {},
     "output_type": "execute_result"
    }
   ],
   "source": [
    "le = preprocessing.LabelEncoder()\n",
    "news['subject'] = le.fit_transform(news['subject'])\n",
    "news['subject'].value_counts()"
   ]
  },
  {
   "cell_type": "markdown",
   "metadata": {},
   "source": [
    "### Continuamos proceso de limpieza"
   ]
  },
  {
   "cell_type": "code",
   "execution_count": 14,
   "metadata": {},
   "outputs": [],
   "source": [
    "news['text']=news['text'].apply(denoise_text)"
   ]
  },
  {
   "cell_type": "code",
   "execution_count": 15,
   "metadata": {},
   "outputs": [
    {
     "data": {
      "text/html": [
       "<div>\n",
       "<style scoped>\n",
       "    .dataframe tbody tr th:only-of-type {\n",
       "        vertical-align: middle;\n",
       "    }\n",
       "\n",
       "    .dataframe tbody tr th {\n",
       "        vertical-align: top;\n",
       "    }\n",
       "\n",
       "    .dataframe thead th {\n",
       "        text-align: right;\n",
       "    }\n",
       "</style>\n",
       "<table border=\"1\" class=\"dataframe\">\n",
       "  <thead>\n",
       "    <tr style=\"text-align: right;\">\n",
       "      <th></th>\n",
       "      <th>text</th>\n",
       "      <th>subject</th>\n",
       "    </tr>\n",
       "  </thead>\n",
       "  <tbody>\n",
       "    <tr>\n",
       "      <th>41556</th>\n",
       "      <td>nbc busted making embarrassing “gotcha” trump ...</td>\n",
       "      <td>4</td>\n",
       "    </tr>\n",
       "    <tr>\n",
       "      <th>38001</th>\n",
       "      <td>climate change refugees? feds give $1 billion ...</td>\n",
       "      <td>0</td>\n",
       "    </tr>\n",
       "    <tr>\n",
       "      <th>37338</th>\n",
       "      <td>breaking: devin nunes makes huge announcement ...</td>\n",
       "      <td>0</td>\n",
       "    </tr>\n",
       "  </tbody>\n",
       "</table>\n",
       "</div>"
      ],
      "text/plain": [
       "                                                    text  subject\n",
       "41556  nbc busted making embarrassing “gotcha” trump ...        4\n",
       "38001  climate change refugees? feds give $1 billion ...        0\n",
       "37338  breaking: devin nunes makes huge announcement ...        0"
      ]
     },
     "execution_count": 15,
     "metadata": {},
     "output_type": "execute_result"
    }
   ],
   "source": [
    "news.sample(3)"
   ]
  },
  {
   "cell_type": "markdown",
   "metadata": {},
   "source": [
    "Hasta aqui se hizo limpieza general de formato\n",
    "\n",
    "---"
   ]
  },
  {
   "cell_type": "markdown",
   "metadata": {},
   "source": [
    "### Separación de sets para entrenamiento, testeo"
   ]
  },
  {
   "cell_type": "code",
   "execution_count": 16,
   "metadata": {},
   "outputs": [],
   "source": [
    "train, test = train_test_split(news, test_size=0.3, random_state=42, stratify=news['subject'])"
   ]
  },
  {
   "cell_type": "code",
   "execution_count": 17,
   "metadata": {},
   "outputs": [],
   "source": [
    "vocabulario_max = 20000\n",
    "filtrar = \"!#$%&()*+,-./':;<=>?@[\\\\]^_`{|}~\\t\\n\\'\"\n",
    "tokenizer = Tokenizer(num_words=vocabulario_max, filters=filtrar, lower=True, split=\" \")\n",
    "tokenizer.fit_on_texts(train.text)\n",
    "word_index = tokenizer.word_index"
   ]
  },
  {
   "cell_type": "code",
   "execution_count": 18,
   "metadata": {},
   "outputs": [],
   "source": [
    "train_matrix = tokenizer.texts_to_matrix(np.array(train.text))\n",
    "test_matrix = tokenizer.texts_to_matrix(np.array(test.text))"
   ]
  },
  {
   "cell_type": "code",
   "execution_count": 19,
   "metadata": {},
   "outputs": [],
   "source": [
    "x_train = np.copy(train_matrix)\n",
    "x_test = np.copy(test_matrix)\n",
    "y_train = train['subject'].values\n",
    "y_test = test['subject'].values"
   ]
  },
  {
   "cell_type": "code",
   "execution_count": 20,
   "metadata": {},
   "outputs": [],
   "source": [
    "y_train = to_categorical(y_train, num_classes=8)"
   ]
  },
  {
   "cell_type": "code",
   "execution_count": 21,
   "metadata": {},
   "outputs": [],
   "source": [
    "def build_model(input_shape, layers, optimizer):\n",
    "    # Instanciamos la clase del modelo secuencial\n",
    "    model = Sequential()\n",
    "    # Aplanamos los datos de entrada, sabemos que vamos a recibir imágenes\n",
    "    model.add(Flatten(input_shape=input_shape))\n",
    "    # Agregamos el resto de las capas con activación ReLU con excepción de la última\n",
    "    for l in layers[:-1]:\n",
    "        model.add(Dense(units=l, activation='relu'))\n",
    "    # Agregamos la última capa con activación softmax\n",
    "    model.add(Dense(units=layers[-1], activation='softmax'))\n",
    "    # Compilamos el modelo con el optimizador seleccionado\n",
    "    model.compile(optimizer=optimizer, loss='categorical_crossentropy', metrics=['accuracy'])\n",
    "    # Retornamos el modelo compilado\n",
    "    return model"
   ]
  },
  {
   "cell_type": "code",
   "execution_count": 22,
   "metadata": {},
   "outputs": [],
   "source": [
    "# Creamos la lista de callbacks\n",
    "\n",
    "# Instanciamos nuestro objeto early_stopping y definimos una lista de callbacks\n",
    "early_stopping = EarlyStopping(monitor='val_loss', min_delta=0.01, patience=8, restore_best_weights=True, verbose=1)\n",
    "callbacks_list = [early_stopping]\n",
    "\n",
    "# Instanciamos nuestro objeto reduce_lr y definimos una lista de callbacks\n",
    "reduce_lr = ReduceLROnPlateau(monitor='val_loss', factor=0.1, patience=4, verbose=1)\n",
    "callbacks_list.append(reduce_lr)"
   ]
  },
  {
   "cell_type": "code",
   "execution_count": 23,
   "metadata": {},
   "outputs": [],
   "source": [
    "# Definimos la \"grilla\" de parámetros que vamos a explorar\n",
    "layers = [[256, 8],\n",
    "          [64, 32, 8]]\n",
    "\n",
    "optimizers_list = [optimizers.Adam(), optimizers.SGD(momentum=0.9, nesterov=True)]"
   ]
  },
  {
   "cell_type": "code",
   "execution_count": 24,
   "metadata": {},
   "outputs": [
    {
     "data": {
      "text/plain": [
       "[([256, 8], <tensorflow.python.keras.optimizer_v2.adam.Adam at 0x2758f158a48>),\n",
       " ([256, 8],\n",
       "  <tensorflow.python.keras.optimizer_v2.gradient_descent.SGD at 0x27585fba5c8>),\n",
       " ([64, 32, 8],\n",
       "  <tensorflow.python.keras.optimizer_v2.adam.Adam at 0x2758f158a48>),\n",
       " ([64, 32, 8],\n",
       "  <tensorflow.python.keras.optimizer_v2.gradient_descent.SGD at 0x27585fba5c8>)]"
      ]
     },
     "execution_count": 24,
     "metadata": {},
     "output_type": "execute_result"
    }
   ],
   "source": [
    "combinaciones = list(itertools.product(layers, optimizers_list))\n",
    "combinaciones"
   ]
  },
  {
   "cell_type": "code",
   "execution_count": 25,
   "metadata": {},
   "outputs": [],
   "source": [
    "# Definamos algunas variables\n",
    "n_splits = 3\n",
    "batch_size = 512\n",
    "epochs = 3\n",
    "verbose = 1\n",
    "input_shape = (vocabulario_max, )"
   ]
  },
  {
   "cell_type": "code",
   "execution_count": 26,
   "metadata": {},
   "outputs": [],
   "source": [
    "global_history = []\n",
    "modelos = []\n",
    "modelo_indice = 0"
   ]
  },
  {
   "cell_type": "code",
   "execution_count": 27,
   "metadata": {},
   "outputs": [
    {
     "name": "stdout",
     "output_type": "stream",
     "text": [
      "\n",
      "\n",
      "Ensayando modelo con estructura [256, 8] y optimizador <tensorflow.python.keras.optimizer_v2.adam.Adam object at 0x000002758F158A48>\n",
      "Epoch 1/3\n",
      "41/41 [==============================] - 6s 155ms/step - loss: 0.8294 - accuracy: 0.7251 - val_loss: 0.5401 - val_accuracy: 0.7853\n",
      "Epoch 2/3\n",
      "41/41 [==============================] - 6s 139ms/step - loss: 0.3279 - accuracy: 0.8789 - val_loss: 0.5374 - val_accuracy: 0.7794\n",
      "Epoch 3/3\n",
      "41/41 [==============================] - 5s 129ms/step - loss: 0.2536 - accuracy: 0.9001 - val_loss: 0.5565 - val_accuracy: 0.7761\n",
      "655/655 [==============================] - 4s 6ms/step - loss: 0.1921 - accuracy: 0.9288\n",
      "328/328 [==============================] - 1s 4ms/step - loss: 0.5565 - accuracy: 0.7761\n",
      "Epoch 1/3\n",
      "41/41 [==============================] - 8s 186ms/step - loss: 0.8467 - accuracy: 0.7197 - val_loss: 0.5213 - val_accuracy: 0.7977\n",
      "Epoch 2/3\n",
      "41/41 [==============================] - 5s 130ms/step - loss: 0.3187 - accuracy: 0.8804 - val_loss: 0.5056 - val_accuracy: 0.7885\n",
      "Epoch 3/3\n",
      "41/41 [==============================] - 5s 127ms/step - loss: 0.2447 - accuracy: 0.9022 - val_loss: 0.5315 - val_accuracy: 0.7820\n",
      "655/655 [==============================] - 5s 8ms/step - loss: 0.1862 - accuracy: 0.9279\n",
      "328/328 [==============================] - 2s 8ms/step - loss: 0.5315 - accuracy: 0.7820\n",
      "Epoch 1/3\n",
      "41/41 [==============================] - 6s 151ms/step - loss: 0.8447 - accuracy: 0.7133 - val_loss: 0.4903 - val_accuracy: 0.8061\n",
      "Epoch 2/3\n",
      "41/41 [==============================] - 5s 132ms/step - loss: 0.3205 - accuracy: 0.8790 - val_loss: 0.4981 - val_accuracy: 0.8005\n",
      "Epoch 3/3\n",
      "41/41 [==============================] - 5s 128ms/step - loss: 0.2523 - accuracy: 0.8976 - val_loss: 0.5268 - val_accuracy: 0.7890\n",
      "655/655 [==============================] - 5s 8ms/step - loss: 0.1978 - accuracy: 0.9260\n",
      "328/328 [==============================] - 2s 6ms/step - loss: 0.5268 - accuracy: 0.7890\n",
      "\n",
      "\n",
      "Ensayando modelo con estructura [256, 8] y optimizador <tensorflow.python.keras.optimizer_v2.gradient_descent.SGD object at 0x0000027585FBA5C8>\n",
      "Epoch 1/3\n",
      "41/41 [==============================] - 10s 255ms/step - loss: 1.4834 - accuracy: 0.5354 - val_loss: 0.9892 - val_accuracy: 0.7216\n",
      "Epoch 2/3\n",
      "41/41 [==============================] - 6s 136ms/step - loss: 0.7831 - accuracy: 0.7688 - val_loss: 0.6784 - val_accuracy: 0.7793\n",
      "Epoch 3/3\n",
      "41/41 [==============================] - 5s 126ms/step - loss: 0.5797 - accuracy: 0.8067 - val_loss: 0.5625 - val_accuracy: 0.7958\n",
      "655/655 [==============================] - 4s 6ms/step - loss: 0.5173 - accuracy: 0.8236\n",
      "328/328 [==============================] - 2s 6ms/step - loss: 0.5625 - accuracy: 0.7958\n",
      "Epoch 1/3\n",
      "41/41 [==============================] - 9s 218ms/step - loss: 1.4390 - accuracy: 0.5593 - val_loss: 0.9428 - val_accuracy: 0.7472\n",
      "Epoch 2/3\n",
      "41/41 [==============================] - 5s 132ms/step - loss: 0.7483 - accuracy: 0.7774 - val_loss: 0.6502 - val_accuracy: 0.7887\n",
      "Epoch 3/3\n",
      "41/41 [==============================] - 5s 128ms/step - loss: 0.5598 - accuracy: 0.8139 - val_loss: 0.5449 - val_accuracy: 0.8007\n",
      "655/655 [==============================] - 5s 7ms/step - loss: 0.5032 - accuracy: 0.8276\n",
      "328/328 [==============================] - 2s 5ms/step - loss: 0.5449 - accuracy: 0.8007\n",
      "Epoch 1/3\n",
      "41/41 [==============================] - 8s 190ms/step - loss: 1.4562 - accuracy: 0.5559 - val_loss: 0.9216 - val_accuracy: 0.7530\n",
      "Epoch 2/3\n",
      "41/41 [==============================] - 5s 130ms/step - loss: 0.7588 - accuracy: 0.7712 - val_loss: 0.6291 - val_accuracy: 0.7994\n",
      "Epoch 3/3\n",
      "41/41 [==============================] - 5s 127ms/step - loss: 0.5687 - accuracy: 0.8092 - val_loss: 0.5255 - val_accuracy: 0.8083\n",
      "655/655 [==============================] - 5s 8ms/step - loss: 0.5114 - accuracy: 0.8252\n",
      "328/328 [==============================] - 2s 6ms/step - loss: 0.5255 - accuracy: 0.8083\n",
      "\n",
      "\n",
      "Ensayando modelo con estructura [64, 32, 8] y optimizador <tensorflow.python.keras.optimizer_v2.adam.Adam object at 0x000002758F158A48>\n",
      "Epoch 1/3\n",
      "41/41 [==============================] - 3s 79ms/step - loss: 0.8214 - accuracy: 0.7296 - val_loss: 0.4431 - val_accuracy: 0.8094\n",
      "Epoch 2/3\n",
      "41/41 [==============================] - 2s 60ms/step - loss: 0.2885 - accuracy: 0.8752 - val_loss: 0.4493 - val_accuracy: 0.7952\n",
      "Epoch 3/3\n",
      "41/41 [==============================] - 2s 57ms/step - loss: 0.2216 - accuracy: 0.8969 - val_loss: 0.5002 - val_accuracy: 0.7826\n",
      "655/655 [==============================] - 2s 3ms/step - loss: 0.1744 - accuracy: 0.9248\n",
      "328/328 [==============================] - 1s 4ms/step - loss: 0.5002 - accuracy: 0.7826\n",
      "Epoch 1/3\n",
      "41/41 [==============================] - 6s 143ms/step - loss: 0.9675 - accuracy: 0.6793 - val_loss: 0.5033 - val_accuracy: 0.7989\n",
      "Epoch 2/3\n",
      "41/41 [==============================] - 3s 71ms/step - loss: 0.3305 - accuracy: 0.8663 - val_loss: 0.4675 - val_accuracy: 0.7897\n",
      "Epoch 3/3\n",
      "41/41 [==============================] - 3s 67ms/step - loss: 0.2434 - accuracy: 0.8964 - val_loss: 0.5084 - val_accuracy: 0.7856\n",
      "655/655 [==============================] - 2s 3ms/step - loss: 0.1873 - accuracy: 0.9224\n",
      "328/328 [==============================] - 1s 3ms/step - loss: 0.5084 - accuracy: 0.7856\n",
      "Epoch 1/3\n",
      "41/41 [==============================] - 6s 153ms/step - loss: 1.0628 - accuracy: 0.6700 - val_loss: 0.5161 - val_accuracy: 0.8155\n",
      "Epoch 2/3\n",
      "41/41 [==============================] - 3s 72ms/step - loss: 0.3654 - accuracy: 0.8590 - val_loss: 0.4573 - val_accuracy: 0.8103\n",
      "Epoch 3/3\n",
      "41/41 [==============================] - 3s 67ms/step - loss: 0.2604 - accuracy: 0.8939 - val_loss: 0.4839 - val_accuracy: 0.7995\n",
      "655/655 [==============================] - 3s 4ms/step - loss: 0.2018 - accuracy: 0.9182\n",
      "328/328 [==============================] - 1s 2ms/step - loss: 0.4839 - accuracy: 0.7995\n",
      "\n",
      "\n",
      "Ensayando modelo con estructura [64, 32, 8] y optimizador <tensorflow.python.keras.optimizer_v2.gradient_descent.SGD object at 0x0000027585FBA5C8>\n",
      "Epoch 1/3\n",
      "41/41 [==============================] - 8s 199ms/step - loss: 1.5227 - accuracy: 0.4963 - val_loss: 0.9887 - val_accuracy: 0.6797\n",
      "Epoch 2/3\n",
      "41/41 [==============================] - 2s 49ms/step - loss: 0.7815 - accuracy: 0.7539 - val_loss: 0.6598 - val_accuracy: 0.7823\n",
      "Epoch 3/3\n",
      "41/41 [==============================] - 2s 56ms/step - loss: 0.5464 - accuracy: 0.8098 - val_loss: 0.5195 - val_accuracy: 0.8016\n",
      "655/655 [==============================] - 2s 3ms/step - loss: 0.4751 - accuracy: 0.8250\n",
      "328/328 [==============================] - 1s 4ms/step - loss: 0.5195 - accuracy: 0.8016\n",
      "Epoch 1/3\n",
      "41/41 [==============================] - 3s 68ms/step - loss: 1.4682 - accuracy: 0.5231 - val_loss: 0.9254 - val_accuracy: 0.7178\n",
      "Epoch 2/3\n",
      "41/41 [==============================] - 2s 58ms/step - loss: 0.7280 - accuracy: 0.7702 - val_loss: 0.6094 - val_accuracy: 0.7951\n",
      "Epoch 3/3\n",
      "41/41 [==============================] - 2s 57ms/step - loss: 0.5119 - accuracy: 0.8156 - val_loss: 0.4892 - val_accuracy: 0.8075\n",
      "655/655 [==============================] - 1s 2ms/step - loss: 0.4494 - accuracy: 0.8293\n",
      "328/328 [==============================] - 1s 3ms/step - loss: 0.4892 - accuracy: 0.8075\n",
      "Epoch 1/3\n",
      "41/41 [==============================] - 5s 126ms/step - loss: 1.4927 - accuracy: 0.5052 - val_loss: 0.9135 - val_accuracy: 0.7139\n",
      "Epoch 2/3\n",
      "41/41 [==============================] - 3s 70ms/step - loss: 0.7468 - accuracy: 0.7605 - val_loss: 0.5890 - val_accuracy: 0.8037\n",
      "Epoch 3/3\n",
      "41/41 [==============================] - 2s 59ms/step - loss: 0.5208 - accuracy: 0.8106 - val_loss: 0.4705 - val_accuracy: 0.8163\n",
      "655/655 [==============================] - 2s 3ms/step - loss: 0.4573 - accuracy: 0.8277\n",
      "328/328 [==============================] - 1s 2ms/step - loss: 0.4705 - accuracy: 0.8163\n"
     ]
    }
   ],
   "source": [
    "# Instanciamos el objeto KFold\n",
    "kfold = KFold(n_splits=n_splits, shuffle=False)\n",
    "\n",
    "# Recorremos las combinaciones y generamos distintos modelos a ensayar\n",
    "for (layers, optimizer) in combinaciones:\n",
    "    print('\\n\\nEnsayando modelo con estructura {} y optimizador {}'.format(layers, optimizer))\n",
    "    \n",
    "    # Construimos el modelo\n",
    "    model = build_model(input_shape=input_shape, layers=layers, optimizer=optimizer)\n",
    "    modelos.append(model)\n",
    "    \n",
    "    # Guardamos los pesos iniciales para usarlos en cada fold\n",
    "    model.save_weights('initial_weights.h5')\n",
    "    \n",
    "    # Generamos los sets de train y val para ensayar el modelo\n",
    "    for fold, (train_idx, val_idx) in enumerate(kfold.split(x_train)):\n",
    "        \n",
    "        # Reiniciamos los pesos del modelo\n",
    "        model.load_weights('initial_weights.h5')\n",
    "        \n",
    "        # Lo entrenamos con el split de x_train e y_train correspondiente\n",
    "        history = model.fit(x=x_train[train_idx],\n",
    "                            y=y_train[train_idx],\n",
    "                            batch_size=batch_size,\n",
    "                            epochs=epochs,\n",
    "                            validation_data=(x_train[val_idx], y_train[val_idx]),\n",
    "                            verbose=verbose,\n",
    "                            callbacks=callbacks_list\n",
    "                           )\n",
    "        \n",
    "        # Evaluamos en train y en val (estos mismos valores los podemos sacar de history)\n",
    "        train_loss, train_acc = model.evaluate(x_train[train_idx], y_train[train_idx])\n",
    "        val_loss, val_acc = model.evaluate(x_train[val_idx], y_train[val_idx])\n",
    "        \n",
    "        # Agregamos esta corrida a la historia global\n",
    "        global_history.append({'fold':fold, \n",
    "                               'layers':layers, \n",
    "                               'optimizer':optimizer,\n",
    "                               'train_loss':train_loss,\n",
    "                               'train_acc':train_acc,\n",
    "                               'val_loss':val_loss,\n",
    "                               'val_acc':val_acc,\n",
    "                               'history':history,\n",
    "                               'modelo': modelo_indice\n",
    "                              })\n",
    "    \n",
    "    modelo_indice = modelo_indice + 1"
   ]
  },
  {
   "cell_type": "code",
   "execution_count": 28,
   "metadata": {},
   "outputs": [
    {
     "data": {
      "text/html": [
       "<div>\n",
       "<style scoped>\n",
       "    .dataframe tbody tr th:only-of-type {\n",
       "        vertical-align: middle;\n",
       "    }\n",
       "\n",
       "    .dataframe tbody tr th {\n",
       "        vertical-align: top;\n",
       "    }\n",
       "\n",
       "    .dataframe thead th {\n",
       "        text-align: right;\n",
       "    }\n",
       "</style>\n",
       "<table border=\"1\" class=\"dataframe\">\n",
       "  <thead>\n",
       "    <tr style=\"text-align: right;\">\n",
       "      <th></th>\n",
       "      <th>fold</th>\n",
       "      <th>layers</th>\n",
       "      <th>optimizer</th>\n",
       "      <th>train_loss</th>\n",
       "      <th>train_acc</th>\n",
       "      <th>val_loss</th>\n",
       "      <th>val_acc</th>\n",
       "      <th>history</th>\n",
       "      <th>modelo</th>\n",
       "    </tr>\n",
       "  </thead>\n",
       "  <tbody>\n",
       "    <tr>\n",
       "      <th>0</th>\n",
       "      <td>0</td>\n",
       "      <td>[256, 8]</td>\n",
       "      <td>&lt;tensorflow.python.keras.optimizer_v2.adam.Ada...</td>\n",
       "      <td>0.192052</td>\n",
       "      <td>0.928834</td>\n",
       "      <td>0.556473</td>\n",
       "      <td>0.776060</td>\n",
       "      <td>&lt;tensorflow.python.keras.callbacks.History obj...</td>\n",
       "      <td>0</td>\n",
       "    </tr>\n",
       "    <tr>\n",
       "      <th>1</th>\n",
       "      <td>1</td>\n",
       "      <td>[256, 8]</td>\n",
       "      <td>&lt;tensorflow.python.keras.optimizer_v2.adam.Ada...</td>\n",
       "      <td>0.186189</td>\n",
       "      <td>0.927879</td>\n",
       "      <td>0.531489</td>\n",
       "      <td>0.781978</td>\n",
       "      <td>&lt;tensorflow.python.keras.callbacks.History obj...</td>\n",
       "      <td>0</td>\n",
       "    </tr>\n",
       "    <tr>\n",
       "      <th>2</th>\n",
       "      <td>2</td>\n",
       "      <td>[256, 8]</td>\n",
       "      <td>&lt;tensorflow.python.keras.optimizer_v2.adam.Ada...</td>\n",
       "      <td>0.197818</td>\n",
       "      <td>0.926021</td>\n",
       "      <td>0.526821</td>\n",
       "      <td>0.789021</td>\n",
       "      <td>&lt;tensorflow.python.keras.callbacks.History obj...</td>\n",
       "      <td>0</td>\n",
       "    </tr>\n",
       "    <tr>\n",
       "      <th>3</th>\n",
       "      <td>0</td>\n",
       "      <td>[256, 8]</td>\n",
       "      <td>&lt;tensorflow.python.keras.optimizer_v2.gradient...</td>\n",
       "      <td>0.517335</td>\n",
       "      <td>0.823588</td>\n",
       "      <td>0.562454</td>\n",
       "      <td>0.795819</td>\n",
       "      <td>&lt;tensorflow.python.keras.callbacks.History obj...</td>\n",
       "      <td>1</td>\n",
       "    </tr>\n",
       "    <tr>\n",
       "      <th>4</th>\n",
       "      <td>1</td>\n",
       "      <td>[256, 8]</td>\n",
       "      <td>&lt;tensorflow.python.keras.optimizer_v2.gradient...</td>\n",
       "      <td>0.503163</td>\n",
       "      <td>0.827598</td>\n",
       "      <td>0.544863</td>\n",
       "      <td>0.800687</td>\n",
       "      <td>&lt;tensorflow.python.keras.callbacks.History obj...</td>\n",
       "      <td>1</td>\n",
       "    </tr>\n",
       "    <tr>\n",
       "      <th>5</th>\n",
       "      <td>2</td>\n",
       "      <td>[256, 8]</td>\n",
       "      <td>&lt;tensorflow.python.keras.optimizer_v2.gradient...</td>\n",
       "      <td>0.511394</td>\n",
       "      <td>0.825220</td>\n",
       "      <td>0.525483</td>\n",
       "      <td>0.808306</td>\n",
       "      <td>&lt;tensorflow.python.keras.callbacks.History obj...</td>\n",
       "      <td>1</td>\n",
       "    </tr>\n",
       "    <tr>\n",
       "      <th>6</th>\n",
       "      <td>0</td>\n",
       "      <td>[64, 32, 8]</td>\n",
       "      <td>&lt;tensorflow.python.keras.optimizer_v2.adam.Ada...</td>\n",
       "      <td>0.174419</td>\n",
       "      <td>0.924777</td>\n",
       "      <td>0.500240</td>\n",
       "      <td>0.782551</td>\n",
       "      <td>&lt;tensorflow.python.keras.callbacks.History obj...</td>\n",
       "      <td>2</td>\n",
       "    </tr>\n",
       "    <tr>\n",
       "      <th>7</th>\n",
       "      <td>1</td>\n",
       "      <td>[64, 32, 8]</td>\n",
       "      <td>&lt;tensorflow.python.keras.optimizer_v2.adam.Ada...</td>\n",
       "      <td>0.187341</td>\n",
       "      <td>0.922390</td>\n",
       "      <td>0.508414</td>\n",
       "      <td>0.785605</td>\n",
       "      <td>&lt;tensorflow.python.keras.callbacks.History obj...</td>\n",
       "      <td>2</td>\n",
       "    </tr>\n",
       "    <tr>\n",
       "      <th>8</th>\n",
       "      <td>2</td>\n",
       "      <td>[64, 32, 8]</td>\n",
       "      <td>&lt;tensorflow.python.keras.optimizer_v2.adam.Ada...</td>\n",
       "      <td>0.201751</td>\n",
       "      <td>0.918242</td>\n",
       "      <td>0.483874</td>\n",
       "      <td>0.799523</td>\n",
       "      <td>&lt;tensorflow.python.keras.callbacks.History obj...</td>\n",
       "      <td>2</td>\n",
       "    </tr>\n",
       "    <tr>\n",
       "      <th>9</th>\n",
       "      <td>0</td>\n",
       "      <td>[64, 32, 8]</td>\n",
       "      <td>&lt;tensorflow.python.keras.optimizer_v2.gradient...</td>\n",
       "      <td>0.475053</td>\n",
       "      <td>0.825020</td>\n",
       "      <td>0.519525</td>\n",
       "      <td>0.801642</td>\n",
       "      <td>&lt;tensorflow.python.keras.callbacks.History obj...</td>\n",
       "      <td>3</td>\n",
       "    </tr>\n",
       "    <tr>\n",
       "      <th>10</th>\n",
       "      <td>1</td>\n",
       "      <td>[64, 32, 8]</td>\n",
       "      <td>&lt;tensorflow.python.keras.optimizer_v2.gradient...</td>\n",
       "      <td>0.449410</td>\n",
       "      <td>0.829268</td>\n",
       "      <td>0.489165</td>\n",
       "      <td>0.807465</td>\n",
       "      <td>&lt;tensorflow.python.keras.callbacks.History obj...</td>\n",
       "      <td>3</td>\n",
       "    </tr>\n",
       "    <tr>\n",
       "      <th>11</th>\n",
       "      <td>2</td>\n",
       "      <td>[64, 32, 8]</td>\n",
       "      <td>&lt;tensorflow.python.keras.optimizer_v2.gradient...</td>\n",
       "      <td>0.457283</td>\n",
       "      <td>0.827749</td>\n",
       "      <td>0.470455</td>\n",
       "      <td>0.816325</td>\n",
       "      <td>&lt;tensorflow.python.keras.callbacks.History obj...</td>\n",
       "      <td>3</td>\n",
       "    </tr>\n",
       "  </tbody>\n",
       "</table>\n",
       "</div>"
      ],
      "text/plain": [
       "    fold       layers                                          optimizer  \\\n",
       "0      0     [256, 8]  <tensorflow.python.keras.optimizer_v2.adam.Ada...   \n",
       "1      1     [256, 8]  <tensorflow.python.keras.optimizer_v2.adam.Ada...   \n",
       "2      2     [256, 8]  <tensorflow.python.keras.optimizer_v2.adam.Ada...   \n",
       "3      0     [256, 8]  <tensorflow.python.keras.optimizer_v2.gradient...   \n",
       "4      1     [256, 8]  <tensorflow.python.keras.optimizer_v2.gradient...   \n",
       "5      2     [256, 8]  <tensorflow.python.keras.optimizer_v2.gradient...   \n",
       "6      0  [64, 32, 8]  <tensorflow.python.keras.optimizer_v2.adam.Ada...   \n",
       "7      1  [64, 32, 8]  <tensorflow.python.keras.optimizer_v2.adam.Ada...   \n",
       "8      2  [64, 32, 8]  <tensorflow.python.keras.optimizer_v2.adam.Ada...   \n",
       "9      0  [64, 32, 8]  <tensorflow.python.keras.optimizer_v2.gradient...   \n",
       "10     1  [64, 32, 8]  <tensorflow.python.keras.optimizer_v2.gradient...   \n",
       "11     2  [64, 32, 8]  <tensorflow.python.keras.optimizer_v2.gradient...   \n",
       "\n",
       "    train_loss  train_acc  val_loss   val_acc  \\\n",
       "0     0.192052   0.928834  0.556473  0.776060   \n",
       "1     0.186189   0.927879  0.531489  0.781978   \n",
       "2     0.197818   0.926021  0.526821  0.789021   \n",
       "3     0.517335   0.823588  0.562454  0.795819   \n",
       "4     0.503163   0.827598  0.544863  0.800687   \n",
       "5     0.511394   0.825220  0.525483  0.808306   \n",
       "6     0.174419   0.924777  0.500240  0.782551   \n",
       "7     0.187341   0.922390  0.508414  0.785605   \n",
       "8     0.201751   0.918242  0.483874  0.799523   \n",
       "9     0.475053   0.825020  0.519525  0.801642   \n",
       "10    0.449410   0.829268  0.489165  0.807465   \n",
       "11    0.457283   0.827749  0.470455  0.816325   \n",
       "\n",
       "                                              history  modelo  \n",
       "0   <tensorflow.python.keras.callbacks.History obj...       0  \n",
       "1   <tensorflow.python.keras.callbacks.History obj...       0  \n",
       "2   <tensorflow.python.keras.callbacks.History obj...       0  \n",
       "3   <tensorflow.python.keras.callbacks.History obj...       1  \n",
       "4   <tensorflow.python.keras.callbacks.History obj...       1  \n",
       "5   <tensorflow.python.keras.callbacks.History obj...       1  \n",
       "6   <tensorflow.python.keras.callbacks.History obj...       2  \n",
       "7   <tensorflow.python.keras.callbacks.History obj...       2  \n",
       "8   <tensorflow.python.keras.callbacks.History obj...       2  \n",
       "9   <tensorflow.python.keras.callbacks.History obj...       3  \n",
       "10  <tensorflow.python.keras.callbacks.History obj...       3  \n",
       "11  <tensorflow.python.keras.callbacks.History obj...       3  "
      ]
     },
     "execution_count": 28,
     "metadata": {},
     "output_type": "execute_result"
    }
   ],
   "source": [
    "df = pd.DataFrame(global_history)\n",
    "df"
   ]
  },
  {
   "cell_type": "code",
   "execution_count": 29,
   "metadata": {},
   "outputs": [],
   "source": [
    "# Obtenemos la referencia al modelo con mejor accuracy en validación\n",
    "mejor_modelo = modelos[df.loc[np.argmax(df['val_acc'].values), 'modelo']]\n",
    "# Obtenemos la referencia a la historia\n",
    "history = df.loc[np.argmax(df['val_acc'].values), 'history']"
   ]
  },
  {
   "cell_type": "code",
   "execution_count": 30,
   "metadata": {},
   "outputs": [
    {
     "data": {
      "image/png": "[encoded data removed]",
      "text/plain": [
       "<Figure size 864x576 with 1 Axes>"
      ]
     },
     "metadata": {},
     "output_type": "display_data"
    },
    {
     "data": {
      "image/png": "[encoded data removed]",
      "text/plain": [
       "<Figure size 864x576 with 1 Axes>"
      ]
     },
     "metadata": {},
     "output_type": "display_data"
    }
   ],
   "source": [
    "# El atributo `history` contiene un diccionario de métricas por epoch\n",
    "acc = history.history['accuracy']\n",
    "val_acc = history.history['val_accuracy']\n",
    "loss = history.history['loss']\n",
    "val_loss = history.history['val_loss']\n",
    "epochs = range(1, len(acc) + 1)\n",
    "\n",
    "plt.figure(figsize=(12,8))\n",
    "plt.title('Modelo de base')\n",
    "plt.plot(epochs, loss)\n",
    "plt.plot(epochs, val_loss)\n",
    "plt.xticks(ticks=epochs)\n",
    "plt.ylabel('Loss')\n",
    "plt.legend(['Training loss', 'Validation loss'])\n",
    "\n",
    "plt.figure(figsize=(12,8))\n",
    "plt.plot(epochs, acc)\n",
    "plt.plot(epochs, val_acc)\n",
    "plt.xticks(ticks=list(epochs))\n",
    "plt.xlabel('Epochs')\n",
    "plt.ylabel('Accuracy')\n",
    "plt.legend(['Training accuracy', 'Validation accuracy']);"
   ]
  },
  {
   "cell_type": "code",
   "execution_count": 31,
   "metadata": {},
   "outputs": [],
   "source": [
    "epochs = 3"
   ]
  },
  {
   "cell_type": "code",
   "execution_count": 32,
   "metadata": {},
   "outputs": [
    {
     "name": "stdout",
     "output_type": "stream",
     "text": [
      "Epoch 1/3\n",
      "62/62 [==============================] - ETA: 0s - loss: 0.4251 - accuracy: 0.8273WARNING:tensorflow:Early stopping conditioned on metric `val_loss` which is not available. Available metrics are: loss,accuracy\n",
      "WARNING:tensorflow:Reduce LR on plateau conditioned on metric `val_loss` which is not available. Available metrics are: loss,accuracy,lr\n",
      "62/62 [==============================] - 3s 43ms/step - loss: 0.4251 - accuracy: 0.8273\n",
      "Epoch 2/3\n",
      "62/62 [==============================] - ETA: 0s - loss: 0.3722 - accuracy: 0.8377WARNING:tensorflow:Early stopping conditioned on metric `val_loss` which is not available. Available metrics are: loss,accuracy\n",
      "WARNING:tensorflow:Reduce LR on plateau conditioned on metric `val_loss` which is not available. Available metrics are: loss,accuracy,lr\n",
      "62/62 [==============================] - 2s 38ms/step - loss: 0.3722 - accuracy: 0.8377\n",
      "Epoch 3/3\n",
      "62/62 [==============================] - ETA: 0s - loss: 0.3432 - accuracy: 0.8446WARNING:tensorflow:Early stopping conditioned on metric `val_loss` which is not available. Available metrics are: loss,accuracy\n",
      "WARNING:tensorflow:Reduce LR on plateau conditioned on metric `val_loss` which is not available. Available metrics are: loss,accuracy,lr\n",
      "62/62 [==============================] - 3s 42ms/step - loss: 0.3432 - accuracy: 0.8446\n"
     ]
    },
    {
     "data": {
      "text/plain": [
       "<tensorflow.python.keras.callbacks.History at 0x275a8914808>"
      ]
     },
     "execution_count": 32,
     "metadata": {},
     "output_type": "execute_result"
    }
   ],
   "source": [
    "# Entrenamos el mejor modelo para luego validar en testeo\n",
    "mejor_modelo.fit(\n",
    "x=x_train,\n",
    "y=y_train,\n",
    "batch_size=batch_size,\n",
    "epochs=epochs,\n",
    "verbose=verbose,\n",
    "callbacks=callbacks_list)"
   ]
  },
  {
   "cell_type": "markdown",
   "metadata": {},
   "source": [
    "### Testeo"
   ]
  },
  {
   "cell_type": "code",
   "execution_count": 33,
   "metadata": {},
   "outputs": [
    {
     "name": "stdout",
     "output_type": "stream",
     "text": [
      "WARNING:tensorflow:From <ipython-input-33-e783e037d04d>:1: Sequential.predict_classes (from tensorflow.python.keras.engine.sequential) is deprecated and will be removed after 2021-01-01.\n",
      "Instructions for updating:\n",
      "Please use instead:* `np.argmax(model.predict(x), axis=-1)`,   if your model does multi-class classification   (e.g. if it uses a `softmax` last-layer activation).* `(model.predict(x) > 0.5).astype(\"int32\")`,   if your model does binary classification   (e.g. if it uses a `sigmoid` last-layer activation).\n"
     ]
    }
   ],
   "source": [
    "y_pred = mejor_modelo.predict_classes(x_test)"
   ]
  },
  {
   "cell_type": "code",
   "execution_count": 34,
   "metadata": {},
   "outputs": [
    {
     "data": {
      "text/plain": [
       "((13470,), (13470,))"
      ]
     },
     "execution_count": 34,
     "metadata": {},
     "output_type": "execute_result"
    }
   ],
   "source": [
    "y_pred.shape, y_test.shape"
   ]
  },
  {
   "cell_type": "code",
   "execution_count": 35,
   "metadata": {},
   "outputs": [
    {
     "data": {
      "text/plain": [
       "array([7, 6, 5, ..., 5, 2, 5], dtype=int64)"
      ]
     },
     "execution_count": 35,
     "metadata": {},
     "output_type": "execute_result"
    }
   ],
   "source": [
    "y_pred"
   ]
  },
  {
   "cell_type": "code",
   "execution_count": 36,
   "metadata": {},
   "outputs": [
    {
     "data": {
      "text/plain": [
       "array([7, 6, 5, ..., 4, 2, 5])"
      ]
     },
     "execution_count": 36,
     "metadata": {},
     "output_type": "execute_result"
    }
   ],
   "source": [
    "y_test"
   ]
  },
  {
   "cell_type": "code",
   "execution_count": 37,
   "metadata": {},
   "outputs": [
    {
     "name": "stdout",
     "output_type": "stream",
     "text": [
      "              precision    recall  f1-score   support\n",
      "\n",
      "           0       0.22      0.06      0.10       471\n",
      "           1       0.29      0.07      0.12       233\n",
      "           2       0.99      0.99      0.99      2715\n",
      "           3       0.47      0.78      0.58       235\n",
      "           4       0.36      0.15      0.21      1338\n",
      "           5       0.51      0.79      0.62      2052\n",
      "           6       0.98      0.97      0.97      3382\n",
      "           7       0.96      0.98      0.97      3044\n",
      "\n",
      "    accuracy                           0.82     13470\n",
      "   macro avg       0.60      0.60      0.57     13470\n",
      "weighted avg       0.80      0.82      0.79     13470\n",
      "\n"
     ]
    }
   ],
   "source": [
    "print(classification_report(y_test, y_pred))"
   ]
  },
  {
   "cell_type": "code",
   "execution_count": 38,
   "metadata": {},
   "outputs": [],
   "source": [
    "cm = confusion_matrix(y_test, y_pred)"
   ]
  },
  {
   "cell_type": "code",
   "execution_count": 39,
   "metadata": {},
   "outputs": [
    {
     "data": {
      "image/png": "[encoded data removed]",
      "text/plain": [
       "<Figure size 432x288 with 2 Axes>"
      ]
     },
     "metadata": {},
     "output_type": "display_data"
    }
   ],
   "source": [
    "sns.heatmap(cm, annot=True, fmt='.0f')\n",
    "plt.ylabel('Verdaderos')\n",
    "plt.title('Cofusion Matrix - Clean Model')\n",
    "plt.xlabel('Predichos');"
   ]
  },
  {
   "cell_type": "code",
   "execution_count": null,
   "metadata": {},
   "outputs": [],
   "source": []
  }
 ],
 "metadata": {
  "kernelspec": {
   "display_name": "Python 3",
   "language": "python",
   "name": "python3"
  },
  "language_info": {
   "codemirror_mode": {
    "name": "ipython",
    "version": 3
   },
   "file_extension": ".py",
   "mimetype": "text/x-python",
   "name": "python",
   "nbconvert_exporter": "python",
   "pygments_lexer": "ipython3",
   "version": "3.7.9"
  }
 },
 "nbformat": 4,
 "nbformat_minor": 4
}
