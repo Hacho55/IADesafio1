{
 "cells": [
  {
   "cell_type": "markdown",
   "metadata": {},
   "source": [
    "## Entrenamiento con redes neuronales\n",
    "\n",
    "---\n",
    "\n",
    "### Modelo base"
   ]
  },
  {
   "cell_type": "code",
   "execution_count": 56,
   "metadata": {},
   "outputs": [],
   "source": [
    "import pandas as pd\n",
    "import numpy as np\n"
   ]
  },
  {
   "cell_type": "code",
   "execution_count": 57,
   "metadata": {},
   "outputs": [],
   "source": [
    "# Importo los datos como dataframe de pandas\n",
    "real = pd.read_csv(\"../Data/True.csv\")\n",
    "fake = pd.read_csv(\"../Data/Fake.csv\")"
   ]
  },
  {
   "cell_type": "code",
   "execution_count": 58,
   "metadata": {},
   "outputs": [
    {
     "data": {
      "text/html": [
       "<div>\n",
       "<style scoped>\n",
       "    .dataframe tbody tr th:only-of-type {\n",
       "        vertical-align: middle;\n",
       "    }\n",
       "\n",
       "    .dataframe tbody tr th {\n",
       "        vertical-align: top;\n",
       "    }\n",
       "\n",
       "    .dataframe thead th {\n",
       "        text-align: right;\n",
       "    }\n",
       "</style>\n",
       "<table border=\"1\" class=\"dataframe\">\n",
       "  <thead>\n",
       "    <tr style=\"text-align: right;\">\n",
       "      <th></th>\n",
       "      <th>title</th>\n",
       "      <th>text</th>\n",
       "      <th>subject</th>\n",
       "      <th>date</th>\n",
       "    </tr>\n",
       "  </thead>\n",
       "  <tbody>\n",
       "    <tr>\n",
       "      <th>42825</th>\n",
       "      <td>SAY WHAT? Tide Detergent Joins Forces With Ope...</td>\n",
       "      <td>I wish there was some way I could let Tide Det...</td>\n",
       "      <td>left-news</td>\n",
       "      <td>Oct 17, 2015</td>\n",
       "    </tr>\n",
       "    <tr>\n",
       "      <th>19775</th>\n",
       "      <td>U.S. Ambassador Haley: U.N. has exhausted opti...</td>\n",
       "      <td>WASHINGTON (Reuters) - U.S. Ambassador to the ...</td>\n",
       "      <td>worldnews</td>\n",
       "      <td>September 17, 2017</td>\n",
       "    </tr>\n",
       "    <tr>\n",
       "      <th>7524</th>\n",
       "      <td>Fox News poll shows Clinton leading Trump by 4...</td>\n",
       "      <td>WASHINGTON (Reuters) - Democrat Hillary Clinto...</td>\n",
       "      <td>politicsNews</td>\n",
       "      <td>November 7, 2016</td>\n",
       "    </tr>\n",
       "    <tr>\n",
       "      <th>2302</th>\n",
       "      <td>White House considers lower deduction for U.S....</td>\n",
       "      <td>WASHINGTON (Reuters) - The Trump administratio...</td>\n",
       "      <td>politicsNews</td>\n",
       "      <td>August 4, 2017</td>\n",
       "    </tr>\n",
       "    <tr>\n",
       "      <th>641</th>\n",
       "      <td>Q&amp;A: Did Sessions break the law by denying kno...</td>\n",
       "      <td>(Reuters) - U.S. Attorney General Jeff Session...</td>\n",
       "      <td>politicsNews</td>\n",
       "      <td>November 14, 2017</td>\n",
       "    </tr>\n",
       "    <tr>\n",
       "      <th>...</th>\n",
       "      <td>...</td>\n",
       "      <td>...</td>\n",
       "      <td>...</td>\n",
       "      <td>...</td>\n",
       "    </tr>\n",
       "    <tr>\n",
       "      <th>7887</th>\n",
       "      <td>Pressure on Trump likely to be intense at seco...</td>\n",
       "      <td>WASHINGTON (Reuters) - Republican presidentia...</td>\n",
       "      <td>politicsNews</td>\n",
       "      <td>October 9, 2016</td>\n",
       "    </tr>\n",
       "    <tr>\n",
       "      <th>5216</th>\n",
       "      <td>Trump intelligence nominee supports probes on ...</td>\n",
       "      <td>WASHINGTON (Reuters) - President Donald Trump’...</td>\n",
       "      <td>politicsNews</td>\n",
       "      <td>February 28, 2017</td>\n",
       "    </tr>\n",
       "    <tr>\n",
       "      <th>11836</th>\n",
       "      <td>Desperate Venezuelans peddle wares door-to-doo...</td>\n",
       "      <td>CUCUTA, Colombia (Reuters) - Thousands of impo...</td>\n",
       "      <td>worldnews</td>\n",
       "      <td>December 20, 2017</td>\n",
       "    </tr>\n",
       "    <tr>\n",
       "      <th>44423</th>\n",
       "      <td>BREAKING: Trump’s Travel Ban Halt Upheld by 9t...</td>\n",
       "      <td>21st Century Wire says Today the 9th Circuit C...</td>\n",
       "      <td>Middle-east</td>\n",
       "      <td>February 9, 2017</td>\n",
       "    </tr>\n",
       "    <tr>\n",
       "      <th>37175</th>\n",
       "      <td>GUESS WHERE THE BALTIMORE SCHOOL SYSTEM RANKS ...</td>\n",
       "      <td>Holy smokes! Could someone tell Obama he doesn...</td>\n",
       "      <td>politics</td>\n",
       "      <td>Apr 30, 2015</td>\n",
       "    </tr>\n",
       "  </tbody>\n",
       "</table>\n",
       "<p>44898 rows × 4 columns</p>\n",
       "</div>"
      ],
      "text/plain": [
       "                                                   title  \\\n",
       "42825  SAY WHAT? Tide Detergent Joins Forces With Ope...   \n",
       "19775  U.S. Ambassador Haley: U.N. has exhausted opti...   \n",
       "7524   Fox News poll shows Clinton leading Trump by 4...   \n",
       "2302   White House considers lower deduction for U.S....   \n",
       "641    Q&A: Did Sessions break the law by denying kno...   \n",
       "...                                                  ...   \n",
       "7887   Pressure on Trump likely to be intense at seco...   \n",
       "5216   Trump intelligence nominee supports probes on ...   \n",
       "11836  Desperate Venezuelans peddle wares door-to-doo...   \n",
       "44423  BREAKING: Trump’s Travel Ban Halt Upheld by 9t...   \n",
       "37175  GUESS WHERE THE BALTIMORE SCHOOL SYSTEM RANKS ...   \n",
       "\n",
       "                                                    text       subject  \\\n",
       "42825  I wish there was some way I could let Tide Det...     left-news   \n",
       "19775  WASHINGTON (Reuters) - U.S. Ambassador to the ...     worldnews   \n",
       "7524   WASHINGTON (Reuters) - Democrat Hillary Clinto...  politicsNews   \n",
       "2302   WASHINGTON (Reuters) - The Trump administratio...  politicsNews   \n",
       "641    (Reuters) - U.S. Attorney General Jeff Session...  politicsNews   \n",
       "...                                                  ...           ...   \n",
       "7887    WASHINGTON (Reuters) - Republican presidentia...  politicsNews   \n",
       "5216   WASHINGTON (Reuters) - President Donald Trump’...  politicsNews   \n",
       "11836  CUCUTA, Colombia (Reuters) - Thousands of impo...     worldnews   \n",
       "44423  21st Century Wire says Today the 9th Circuit C...   Middle-east   \n",
       "37175  Holy smokes! Could someone tell Obama he doesn...      politics   \n",
       "\n",
       "                      date  \n",
       "42825         Oct 17, 2015  \n",
       "19775  September 17, 2017   \n",
       "7524     November 7, 2016   \n",
       "2302       August 4, 2017   \n",
       "641     November 14, 2017   \n",
       "...                    ...  \n",
       "7887      October 9, 2016   \n",
       "5216    February 28, 2017   \n",
       "11836   December 20, 2017   \n",
       "44423     February 9, 2017  \n",
       "37175         Apr 30, 2015  \n",
       "\n",
       "[44898 rows x 4 columns]"
      ]
     },
     "execution_count": 58,
     "metadata": {},
     "output_type": "execute_result"
    }
   ],
   "source": [
    "# Mezclamos los 2 dataframes y los ramdomisamos el orden\n",
    "from sklearn.utils import shuffle\n",
    "\n",
    "news = real.append(fake, ignore_index=True)\n",
    "news = shuffle(news)\n",
    "news"
   ]
  },
  {
   "cell_type": "code",
   "execution_count": 59,
   "metadata": {},
   "outputs": [
    {
     "data": {
      "text/plain": [
       "[Text(0, 0, 'left-news'),\n",
       " Text(1, 0, 'worldnews'),\n",
       " Text(2, 0, 'politicsNews'),\n",
       " Text(3, 0, 'politics'),\n",
       " Text(4, 0, 'News'),\n",
       " Text(5, 0, 'Government News'),\n",
       " Text(6, 0, 'US_News'),\n",
       " Text(7, 0, 'Middle-east')]"
      ]
     },
     "execution_count": 59,
     "metadata": {},
     "output_type": "execute_result"
    },
    {
     "data": {
      "image/png": "[encoded data removed]",
      "text/plain": [
       "<Figure size 864x576 with 1 Axes>"
      ]
     },
     "metadata": {},
     "output_type": "display_data"
    }
   ],
   "source": [
    "import seaborn as sns\n",
    "import matplotlib.pyplot as plt\n",
    "\n",
    "plt.figure(figsize = (12,8))\n",
    "sns.set(style = \"whitegrid\",font_scale = 1.2)\n",
    "chart = sns.countplot(x = \"subject\", data = news)\n",
    "chart.set_xticklabels(chart.get_xticklabels(),rotation=90)"
   ]
  },
  {
   "cell_type": "code",
   "execution_count": 60,
   "metadata": {},
   "outputs": [
    {
     "data": {
      "text/html": [
       "<div>\n",
       "<style scoped>\n",
       "    .dataframe tbody tr th:only-of-type {\n",
       "        vertical-align: middle;\n",
       "    }\n",
       "\n",
       "    .dataframe tbody tr th {\n",
       "        vertical-align: top;\n",
       "    }\n",
       "\n",
       "    .dataframe thead th {\n",
       "        text-align: right;\n",
       "    }\n",
       "</style>\n",
       "<table border=\"1\" class=\"dataframe\">\n",
       "  <thead>\n",
       "    <tr style=\"text-align: right;\">\n",
       "      <th></th>\n",
       "      <th>text</th>\n",
       "      <th>subject</th>\n",
       "    </tr>\n",
       "  </thead>\n",
       "  <tbody>\n",
       "    <tr>\n",
       "      <th>26498</th>\n",
       "      <td>Alabama Republican Governor BUSTED Lying To C...</td>\n",
       "      <td>News</td>\n",
       "    </tr>\n",
       "    <tr>\n",
       "      <th>16306</th>\n",
       "      <td>Vietnam dissident's daughter calls on Melania ...</td>\n",
       "      <td>worldnews</td>\n",
       "    </tr>\n",
       "    <tr>\n",
       "      <th>26427</th>\n",
       "      <td>You Really Don’t Want To Miss Ana Navarro PUM...</td>\n",
       "      <td>News</td>\n",
       "    </tr>\n",
       "    <tr>\n",
       "      <th>38354</th>\n",
       "      <td>95 YR OLD WWII VETERAN Writes Scathing Letter ...</td>\n",
       "      <td>Government News</td>\n",
       "    </tr>\n",
       "    <tr>\n",
       "      <th>1566</th>\n",
       "      <td>Ex-U.S. Rep. Weiner sentenced to 21 months in ...</td>\n",
       "      <td>politicsNews</td>\n",
       "    </tr>\n",
       "  </tbody>\n",
       "</table>\n",
       "</div>"
      ],
      "text/plain": [
       "                                                    text          subject\n",
       "26498   Alabama Republican Governor BUSTED Lying To C...             News\n",
       "16306  Vietnam dissident's daughter calls on Melania ...        worldnews\n",
       "26427   You Really Don’t Want To Miss Ana Navarro PUM...             News\n",
       "38354  95 YR OLD WWII VETERAN Writes Scathing Letter ...  Government News\n",
       "1566   Ex-U.S. Rep. Weiner sentenced to 21 months in ...     politicsNews"
      ]
     },
     "execution_count": 60,
     "metadata": {},
     "output_type": "execute_result"
    }
   ],
   "source": [
    "#Combinamos columnas de texto\n",
    "news['text'] = news['title'] + \" \" + news['text']\n",
    "news.drop(['title', 'date'], axis=1, inplace=True)\n",
    "news.sample(5)"
   ]
  },
  {
   "cell_type": "code",
   "execution_count": 61,
   "metadata": {},
   "outputs": [
    {
     "data": {
      "text/plain": [
       "(44898, 2)"
      ]
     },
     "execution_count": 61,
     "metadata": {},
     "output_type": "execute_result"
    }
   ],
   "source": [
    "news.shape"
   ]
  },
  {
   "cell_type": "markdown",
   "metadata": {},
   "source": [
    "### Codificamos etiquetas"
   ]
  },
  {
   "cell_type": "code",
   "execution_count": 62,
   "metadata": {},
   "outputs": [
    {
     "data": {
      "text/plain": [
       "6    11272\n",
       "7    10145\n",
       "2     9050\n",
       "5     6841\n",
       "4     4459\n",
       "0     1570\n",
       "3      783\n",
       "1      778\n",
       "Name: subject, dtype: int64"
      ]
     },
     "execution_count": 62,
     "metadata": {},
     "output_type": "execute_result"
    }
   ],
   "source": [
    "from sklearn import preprocessing\n",
    "le = preprocessing.LabelEncoder()\n",
    "news['subject'] = le.fit_transform(news['subject'])\n",
    "news['subject'].value_counts()"
   ]
  },
  {
   "cell_type": "markdown",
   "metadata": {},
   "source": [
    "### Separación de sets para entrenamiento, validación y testeo"
   ]
  },
  {
   "cell_type": "code",
   "execution_count": 63,
   "metadata": {},
   "outputs": [
    {
     "name": "stdout",
     "output_type": "stream",
     "text": [
      "25142 6286 13470\n"
     ]
    }
   ],
   "source": [
    "# Se separan el dataset en los sets de train (luego el de train en validacion) y el de test\n",
    "# este enfoque se justifica previo a la tokenizacion\n",
    "from sklearn.model_selection import train_test_split\n",
    "\n",
    "train, test = train_test_split(news, test_size=0.3, random_state=42, stratify=news['subject'])\n",
    "train, validation = train_test_split(train, test_size = 0.2, random_state=42)\n",
    "print(len(train), len(validation), len(test) )"
   ]
  },
  {
   "cell_type": "markdown",
   "metadata": {},
   "source": [
    "---"
   ]
  },
  {
   "cell_type": "code",
   "execution_count": null,
   "metadata": {},
   "outputs": [],
   "source": []
  },
  {
   "cell_type": "code",
   "execution_count": 64,
   "metadata": {},
   "outputs": [],
   "source": [
    "from tensorflow.keras.preprocessing.text import Tokenizer\n",
    "\n",
    "vocabulario_max = 20000\n",
    "filtrar = '!\"#$%&()*+,-./:;<=>?@[\\\\]^_`{|}~\\t\\n' #Hay un problema con ' quizas se puede resolver en un paso previo\n",
    "\n",
    "tokenizer = Tokenizer(num_words=vocabulario_max, filters=filtrar, lower=True, split=\" \")\n",
    "tokenizer.fit_on_texts(train.text)\n",
    "word_index = tokenizer.word_index"
   ]
  },
  {
   "cell_type": "code",
   "execution_count": 65,
   "metadata": {},
   "outputs": [],
   "source": [
    "# summarize what was learned\n",
    "#print(tokenizer.word_counts)\n",
    "#print(tokenizer.document_count)\n",
    "#print(tokenizer.word_index)\n",
    "#print(tokenizer.word_docs)"
   ]
  },
  {
   "cell_type": "code",
   "execution_count": 66,
   "metadata": {},
   "outputs": [],
   "source": [
    "train_matrix = tokenizer.texts_to_matrix(np.array(train.text))\n",
    "val_matrix = tokenizer.texts_to_matrix(np.array(validation.text))\n",
    "test_matrix = tokenizer.texts_to_matrix(np.array(test.text))"
   ]
  },
  {
   "cell_type": "code",
   "execution_count": 67,
   "metadata": {},
   "outputs": [
    {
     "data": {
      "text/plain": [
       "numpy.ndarray"
      ]
     },
     "execution_count": 67,
     "metadata": {},
     "output_type": "execute_result"
    }
   ],
   "source": [
    "type(train_matrix)"
   ]
  },
  {
   "cell_type": "code",
   "execution_count": 68,
   "metadata": {},
   "outputs": [
    {
     "data": {
      "text/plain": [
       "(25142, 20000)"
      ]
     },
     "execution_count": 68,
     "metadata": {},
     "output_type": "execute_result"
    }
   ],
   "source": [
    "train_matrix.shape"
   ]
  },
  {
   "cell_type": "code",
   "execution_count": 69,
   "metadata": {},
   "outputs": [
    {
     "data": {
      "text/plain": [
       "array([[0., 1., 1., 1., 1., 1., 1., 1., 1., 1.],\n",
       "       [0., 1., 1., 1., 1., 1., 1., 1., 1., 1.]])"
      ]
     },
     "execution_count": 69,
     "metadata": {},
     "output_type": "execute_result"
    }
   ],
   "source": [
    "train_matrix[0:2,:10]"
   ]
  },
  {
   "cell_type": "code",
   "execution_count": 70,
   "metadata": {},
   "outputs": [
    {
     "data": {
      "text/plain": [
       "(6286, 20000)"
      ]
     },
     "execution_count": 70,
     "metadata": {},
     "output_type": "execute_result"
    }
   ],
   "source": [
    "val_matrix.shape"
   ]
  },
  {
   "cell_type": "code",
   "execution_count": 71,
   "metadata": {},
   "outputs": [
    {
     "data": {
      "text/plain": [
       "(13470, 20000)"
      ]
     },
     "execution_count": 71,
     "metadata": {},
     "output_type": "execute_result"
    }
   ],
   "source": [
    "test_matrix.shape"
   ]
  },
  {
   "cell_type": "code",
   "execution_count": 72,
   "metadata": {},
   "outputs": [],
   "source": [
    "x_train = np.copy(train_matrix)\n",
    "x_val = np.copy(val_matrix)\n",
    "x_test = np.copy(test_matrix)\n",
    "y_train = train['subject'].values\n",
    "y_val = validation['subject'].values\n",
    "y_test = test['subject'].values\n"
   ]
  },
  {
   "cell_type": "code",
   "execution_count": 73,
   "metadata": {},
   "outputs": [
    {
     "data": {
      "text/plain": [
       "array([6, 6, 3, ..., 4, 4, 6])"
      ]
     },
     "execution_count": 73,
     "metadata": {},
     "output_type": "execute_result"
    }
   ],
   "source": [
    "y_train"
   ]
  },
  {
   "cell_type": "code",
   "execution_count": 74,
   "metadata": {},
   "outputs": [
    {
     "data": {
      "text/plain": [
       "((25142, 8), (6286, 8), (13470,))"
      ]
     },
     "execution_count": 74,
     "metadata": {},
     "output_type": "execute_result"
    }
   ],
   "source": [
    "from tensorflow.keras.utils import to_categorical\n",
    "\n",
    "y_train = to_categorical(y_train, num_classes=8)\n",
    "y_val = to_categorical(y_val, num_classes=8)\n",
    "#y_test = to_categorical(y_test, num_classes=8)\n",
    "\n",
    "y_train.shape, y_val.shape, y_test.shape"
   ]
  },
  {
   "cell_type": "code",
   "execution_count": 75,
   "metadata": {},
   "outputs": [
    {
     "data": {
      "text/plain": [
       "array([7, 6, 5, ..., 4, 2, 5])"
      ]
     },
     "execution_count": 75,
     "metadata": {},
     "output_type": "execute_result"
    }
   ],
   "source": [
    "y_test"
   ]
  },
  {
   "cell_type": "markdown",
   "metadata": {},
   "source": [
    "### Aqui comienza la configuracion y entrenamiento de la red base"
   ]
  },
  {
   "cell_type": "code",
   "execution_count": 76,
   "metadata": {},
   "outputs": [
    {
     "name": "stdout",
     "output_type": "stream",
     "text": [
      "Model: \"modelo_base\"\n",
      "_________________________________________________________________\n",
      "Layer (type)                 Output Shape              Param #   \n",
      "=================================================================\n",
      "dense_6 (Dense)              (None, 16)                320016    \n",
      "_________________________________________________________________\n",
      "dense_7 (Dense)              (None, 16)                272       \n",
      "_________________________________________________________________\n",
      "dense_8 (Dense)              (None, 8)                 136       \n",
      "=================================================================\n",
      "Total params: 320,424\n",
      "Trainable params: 320,424\n",
      "Non-trainable params: 0\n",
      "_________________________________________________________________\n"
     ]
    }
   ],
   "source": [
    "from tensorflow.keras.models import Sequential\n",
    "from tensorflow.keras.layers import Dense\n",
    "\n",
    "# Creamos un modelo con dos capas ocultas de 16 neuronas cada una\n",
    "model = Sequential(name=\"modelo_base\")\n",
    "model.add(Dense(16, activation='relu', input_shape=(20000,)))\n",
    "model.add(Dense(16, activation='relu'))\n",
    "model.add(Dense(8, activation='sigmoid'))\n",
    "\n",
    "model.summary()"
   ]
  },
  {
   "cell_type": "code",
   "execution_count": 77,
   "metadata": {},
   "outputs": [],
   "source": [
    "# Compilamos el modelo\n",
    "model.compile(optimizer='rmsprop',\n",
    "              loss='categorical_crossentropy',\n",
    "              metrics=['accuracy'])"
   ]
  },
  {
   "cell_type": "code",
   "execution_count": 78,
   "metadata": {},
   "outputs": [
    {
     "name": "stdout",
     "output_type": "stream",
     "text": [
      "Epoch 1/20\n",
      "50/50 [==============================] - 8s 164ms/step - loss: 1.3140 - accuracy: 0.6624 - val_loss: 0.9192 - val_accuracy: 0.7240\n",
      "Epoch 2/20\n",
      "50/50 [==============================] - 4s 83ms/step - loss: 0.7066 - accuracy: 0.8001 - val_loss: 0.6793 - val_accuracy: 0.8035\n",
      "Epoch 3/20\n",
      "50/50 [==============================] - 3s 52ms/step - loss: 0.4857 - accuracy: 0.8390 - val_loss: 0.5484 - val_accuracy: 0.7949\n",
      "Epoch 4/20\n",
      "50/50 [==============================] - 2s 48ms/step - loss: 0.3805 - accuracy: 0.8568 - val_loss: 0.4944 - val_accuracy: 0.7892\n",
      "Epoch 5/20\n",
      "50/50 [==============================] - 2s 45ms/step - loss: 0.3197 - accuracy: 0.8722 - val_loss: 0.4720 - val_accuracy: 0.7927\n",
      "Epoch 6/20\n",
      "50/50 [==============================] - 2s 40ms/step - loss: 0.2848 - accuracy: 0.8785 - val_loss: 0.4773 - val_accuracy: 0.7870\n",
      "Epoch 7/20\n",
      "50/50 [==============================] - 2s 38ms/step - loss: 0.2606 - accuracy: 0.8857 - val_loss: 0.4818 - val_accuracy: 0.7929\n",
      "Epoch 8/20\n",
      "50/50 [==============================] - 2s 46ms/step - loss: 0.2431 - accuracy: 0.8895 - val_loss: 0.5093 - val_accuracy: 0.7894\n",
      "Epoch 9/20\n",
      "50/50 [==============================] - 2s 50ms/step - loss: 0.2293 - accuracy: 0.8939 - val_loss: 0.5265 - val_accuracy: 0.7989\n",
      "Epoch 10/20\n",
      "50/50 [==============================] - 3s 64ms/step - loss: 0.2170 - accuracy: 0.8952 - val_loss: 0.5369 - val_accuracy: 0.7983\n",
      "Epoch 11/20\n",
      "50/50 [==============================] - 2s 49ms/step - loss: 0.2079 - accuracy: 0.8981 - val_loss: 0.5471 - val_accuracy: 0.7825\n",
      "Epoch 12/20\n",
      "50/50 [==============================] - 3s 55ms/step - loss: 0.2027 - accuracy: 0.8991 - val_loss: 0.5533 - val_accuracy: 0.7825\n",
      "Epoch 13/20\n",
      "50/50 [==============================] - 2s 42ms/step - loss: 0.1956 - accuracy: 0.8997 - val_loss: 0.5663 - val_accuracy: 0.7897\n",
      "Epoch 14/20\n",
      "50/50 [==============================] - 3s 50ms/step - loss: 0.1893 - accuracy: 0.9000 - val_loss: 0.5754 - val_accuracy: 0.7843\n",
      "Epoch 15/20\n",
      "50/50 [==============================] - 2s 49ms/step - loss: 0.1855 - accuracy: 0.9015 - val_loss: 0.6484 - val_accuracy: 0.7940\n",
      "Epoch 16/20\n",
      "50/50 [==============================] - 2s 41ms/step - loss: 0.1843 - accuracy: 0.9016 - val_loss: 0.6190 - val_accuracy: 0.7849\n",
      "Epoch 17/20\n",
      "50/50 [==============================] - 2s 39ms/step - loss: 0.1791 - accuracy: 0.9016 - val_loss: 0.6554 - val_accuracy: 0.7871\n",
      "Epoch 18/20\n",
      "50/50 [==============================] - 2s 48ms/step - loss: 0.1776 - accuracy: 0.9018 - val_loss: 0.6252 - val_accuracy: 0.7813\n",
      "Epoch 19/20\n",
      "50/50 [==============================] - 3s 70ms/step - loss: 0.1733 - accuracy: 0.9028 - val_loss: 0.6454 - val_accuracy: 0.7814\n",
      "Epoch 20/20\n",
      "50/50 [==============================] - 4s 70ms/step - loss: 0.1705 - accuracy: 0.9037 - val_loss: 0.6866 - val_accuracy: 0.7862\n"
     ]
    }
   ],
   "source": [
    "# Entrenamos\n",
    "history = model.fit(x=x_train, y=y_train,\n",
    "                    epochs=20, batch_size=512, validation_data=(x_val, y_val))"
   ]
  },
  {
   "cell_type": "code",
   "execution_count": 79,
   "metadata": {},
   "outputs": [
    {
     "data": {
      "image/png": "[encoded data removed]",
      "text/plain": [
       "<Figure size 864x576 with 1 Axes>"
      ]
     },
     "metadata": {},
     "output_type": "display_data"
    },
    {
     "data": {
      "image/png": "[encoded data removed]",
      "text/plain": [
       "<Figure size 864x576 with 1 Axes>"
      ]
     },
     "metadata": {},
     "output_type": "display_data"
    }
   ],
   "source": [
    "import matplotlib.pyplot as plt\n",
    "# El atributo `history` contiene un diccionario de métricas por epoch\n",
    "acc = history.history['accuracy']\n",
    "val_acc = history.history['val_accuracy']\n",
    "loss = history.history['loss']\n",
    "val_loss = history.history['val_loss']\n",
    "epochs = range(1, len(acc) + 1)\n",
    "\n",
    "plt.figure(figsize=(12,8))\n",
    "plt.title('Modelo de base')\n",
    "plt.plot(epochs, loss)\n",
    "plt.plot(epochs, val_loss)\n",
    "plt.xticks(ticks=epochs)\n",
    "plt.ylabel('Loss')\n",
    "plt.legend(['Training loss', 'Validation loss'])\n",
    "\n",
    "plt.figure(figsize=(12,8))\n",
    "plt.plot(epochs, acc)\n",
    "plt.plot(epochs, val_acc)\n",
    "plt.xticks(ticks=list(epochs))\n",
    "plt.xlabel('Epochs')\n",
    "plt.ylabel('Accuracy')\n",
    "plt.legend(['Training accuracy', 'Validation accuracy']);"
   ]
  },
  {
   "cell_type": "markdown",
   "metadata": {},
   "source": [
    "### Testeo"
   ]
  },
  {
   "cell_type": "code",
   "execution_count": 80,
   "metadata": {},
   "outputs": [],
   "source": [
    "y_pred = model.predict_classes(x_test)"
   ]
  },
  {
   "cell_type": "code",
   "execution_count": 81,
   "metadata": {},
   "outputs": [
    {
     "data": {
      "text/plain": [
       "((13470,), (13470,))"
      ]
     },
     "execution_count": 81,
     "metadata": {},
     "output_type": "execute_result"
    }
   ],
   "source": [
    "y_pred.shape, y_test.shape"
   ]
  },
  {
   "cell_type": "code",
   "execution_count": 82,
   "metadata": {},
   "outputs": [
    {
     "data": {
      "text/plain": [
       "array([7, 6, 4, ..., 5, 2, 4])"
      ]
     },
     "execution_count": 82,
     "metadata": {},
     "output_type": "execute_result"
    }
   ],
   "source": [
    "y_pred"
   ]
  },
  {
   "cell_type": "code",
   "execution_count": 83,
   "metadata": {},
   "outputs": [
    {
     "data": {
      "text/plain": [
       "array([7, 6, 5, ..., 4, 2, 5])"
      ]
     },
     "execution_count": 83,
     "metadata": {},
     "output_type": "execute_result"
    }
   ],
   "source": [
    "y_test"
   ]
  },
  {
   "cell_type": "code",
   "execution_count": 84,
   "metadata": {},
   "outputs": [
    {
     "name": "stdout",
     "output_type": "stream",
     "text": [
      "              precision    recall  f1-score   support\n",
      "\n",
      "           0       0.12      0.06      0.08       471\n",
      "           1       0.12      0.08      0.10       233\n",
      "           2       0.99      0.99      0.99      2715\n",
      "           3       0.30      0.36      0.33       235\n",
      "           4       0.13      0.08      0.10      1338\n",
      "           5       0.44      0.62      0.52      2052\n",
      "           6       0.99      0.98      0.98      3382\n",
      "           7       0.98      0.98      0.98      3044\n",
      "\n",
      "    accuracy                           0.78     13470\n",
      "   macro avg       0.51      0.52      0.51     13470\n",
      "weighted avg       0.76      0.78      0.77     13470\n",
      "\n"
     ]
    }
   ],
   "source": [
    "from sklearn.metrics import classification_report,confusion_matrix,accuracy_score\n",
    "print(classification_report(y_test, y_pred))"
   ]
  },
  {
   "cell_type": "code",
   "execution_count": 85,
   "metadata": {},
   "outputs": [],
   "source": [
    "cm = confusion_matrix(y_test, y_pred)\n"
   ]
  },
  {
   "cell_type": "code",
   "execution_count": 86,
   "metadata": {},
   "outputs": [
    {
     "data": {
      "image/png": "[encoded data removed]",
      "text/plain": [
       "<Figure size 432x288 with 2 Axes>"
      ]
     },
     "metadata": {},
     "output_type": "display_data"
    }
   ],
   "source": [
    "import seaborn as sns\n",
    "sns.heatmap(cm, annot=True, fmt='.0f')\n",
    "plt.ylabel('Verdaderos')\n",
    "plt.title('Cofusion Matrix - Base Model')\n",
    "plt.xlabel('Predichos');"
   ]
  },
  {
   "cell_type": "code",
   "execution_count": null,
   "metadata": {},
   "outputs": [],
   "source": []
  }
 ],
 "metadata": {
  "kernelspec": {
   "display_name": "Python 3",
   "language": "python",
   "name": "python3"
  },
  "language_info": {
   "codemirror_mode": {
    "name": "ipython",
    "version": 3
   },
   "file_extension": ".py",
   "mimetype": "text/x-python",
   "name": "python",
   "nbconvert_exporter": "python",
   "pygments_lexer": "ipython3",
   "version": "3.8.5"
  }
 },
 "nbformat": 4,
 "nbformat_minor": 4
}
