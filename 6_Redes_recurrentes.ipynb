{
  "nbformat": 4,
  "nbformat_minor": 0,
  "metadata": {
    "kernelspec": {
      "display_name": "Python 3",
      "language": "python",
      "name": "python3"
    },
    "language_info": {
      "codemirror_mode": {
        "name": "ipython",
        "version": 3
      },
      "file_extension": ".py",
      "mimetype": "text/x-python",
      "name": "python",
      "nbconvert_exporter": "python",
      "pygments_lexer": "ipython3",
      "version": "3.8.5"
    },
    "colab": {
      "name": "6_Redes_recurrentes.ipynb",
      "provenance": [],
      "toc_visible": true
    },
    "accelerator": "GPU"
  },
  "cells": [
    {
      "cell_type": "code",
      "metadata": {
        "id": "hYoza3emKGVT"
      },
      "source": [
        "import pandas as pd\n",
        "import numpy as np"
      ],
      "execution_count": 2,
      "outputs": []
    },
    {
      "cell_type": "code",
      "metadata": {
        "id": "OV0Exyu_KGVZ"
      },
      "source": [
        "# Importo los datos como dataframe de pandas\n",
        "real = pd.read_csv(\"Data/True.csv\")\n",
        "fake = pd.read_csv(\"Data/Fake.csv\")"
      ],
      "execution_count": 3,
      "outputs": []
    },
    {
      "cell_type": "code",
      "metadata": {
        "id": "iIU-5QKdKGVe"
      },
      "source": [
        "# Agrego etiquetas\n",
        "real['fake?'] = 0\n",
        "fake['fake?'] = 1"
      ],
      "execution_count": 4,
      "outputs": []
    },
    {
      "cell_type": "code",
      "metadata": {
        "id": "OE74EtRoKGVh",
        "outputId": "46f42c38-cbfc-41bb-af67-99149338b6c3",
        "colab": {
          "base_uri": "https://localhost:8080/",
          "height": 197
        }
      },
      "source": [
        "fake.head()"
      ],
      "execution_count": 5,
      "outputs": [
        {
          "output_type": "execute_result",
          "data": {
            "text/html": [
              "<div>\n",
              "<style scoped>\n",
              "    .dataframe tbody tr th:only-of-type {\n",
              "        vertical-align: middle;\n",
              "    }\n",
              "\n",
              "    .dataframe tbody tr th {\n",
              "        vertical-align: top;\n",
              "    }\n",
              "\n",
              "    .dataframe thead th {\n",
              "        text-align: right;\n",
              "    }\n",
              "</style>\n",
              "<table border=\"1\" class=\"dataframe\">\n",
              "  <thead>\n",
              "    <tr style=\"text-align: right;\">\n",
              "      <th></th>\n",
              "      <th>title</th>\n",
              "      <th>text</th>\n",
              "      <th>subject</th>\n",
              "      <th>date</th>\n",
              "      <th>fake?</th>\n",
              "    </tr>\n",
              "  </thead>\n",
              "  <tbody>\n",
              "    <tr>\n",
              "      <th>0</th>\n",
              "      <td>Donald Trump Sends Out Embarrassing New Year’...</td>\n",
              "      <td>Donald Trump just couldn t wish all Americans ...</td>\n",
              "      <td>News</td>\n",
              "      <td>December 31, 2017</td>\n",
              "      <td>1</td>\n",
              "    </tr>\n",
              "    <tr>\n",
              "      <th>1</th>\n",
              "      <td>Drunk Bragging Trump Staffer Started Russian ...</td>\n",
              "      <td>House Intelligence Committee Chairman Devin Nu...</td>\n",
              "      <td>News</td>\n",
              "      <td>December 31, 2017</td>\n",
              "      <td>1</td>\n",
              "    </tr>\n",
              "    <tr>\n",
              "      <th>2</th>\n",
              "      <td>Sheriff David Clarke Becomes An Internet Joke...</td>\n",
              "      <td>On Friday, it was revealed that former Milwauk...</td>\n",
              "      <td>News</td>\n",
              "      <td>December 30, 2017</td>\n",
              "      <td>1</td>\n",
              "    </tr>\n",
              "    <tr>\n",
              "      <th>3</th>\n",
              "      <td>Trump Is So Obsessed He Even Has Obama’s Name...</td>\n",
              "      <td>On Christmas day, Donald Trump announced that ...</td>\n",
              "      <td>News</td>\n",
              "      <td>December 29, 2017</td>\n",
              "      <td>1</td>\n",
              "    </tr>\n",
              "    <tr>\n",
              "      <th>4</th>\n",
              "      <td>Pope Francis Just Called Out Donald Trump Dur...</td>\n",
              "      <td>Pope Francis used his annual Christmas Day mes...</td>\n",
              "      <td>News</td>\n",
              "      <td>December 25, 2017</td>\n",
              "      <td>1</td>\n",
              "    </tr>\n",
              "  </tbody>\n",
              "</table>\n",
              "</div>"
            ],
            "text/plain": [
              "                                               title  ... fake?\n",
              "0   Donald Trump Sends Out Embarrassing New Year’...  ...     1\n",
              "1   Drunk Bragging Trump Staffer Started Russian ...  ...     1\n",
              "2   Sheriff David Clarke Becomes An Internet Joke...  ...     1\n",
              "3   Trump Is So Obsessed He Even Has Obama’s Name...  ...     1\n",
              "4   Pope Francis Just Called Out Donald Trump Dur...  ...     1\n",
              "\n",
              "[5 rows x 5 columns]"
            ]
          },
          "metadata": {
            "tags": []
          },
          "execution_count": 5
        }
      ]
    },
    {
      "cell_type": "code",
      "metadata": {
        "id": "jRfJ_g6-KGVn",
        "outputId": "31c985ba-2336-48f9-bfda-fb9848801c98",
        "colab": {
          "base_uri": "https://localhost:8080/",
          "height": 540
        }
      },
      "source": [
        "# Mezclamos los 2 dataframes y los ramdomisamos el orden\n",
        "from sklearn.utils import shuffle\n",
        "\n",
        "news = real.append(fake, ignore_index=True)\n",
        "news = shuffle(news)\n",
        "news"
      ],
      "execution_count": 6,
      "outputs": [
        {
          "output_type": "execute_result",
          "data": {
            "text/html": [
              "<div>\n",
              "<style scoped>\n",
              "    .dataframe tbody tr th:only-of-type {\n",
              "        vertical-align: middle;\n",
              "    }\n",
              "\n",
              "    .dataframe tbody tr th {\n",
              "        vertical-align: top;\n",
              "    }\n",
              "\n",
              "    .dataframe thead th {\n",
              "        text-align: right;\n",
              "    }\n",
              "</style>\n",
              "<table border=\"1\" class=\"dataframe\">\n",
              "  <thead>\n",
              "    <tr style=\"text-align: right;\">\n",
              "      <th></th>\n",
              "      <th>title</th>\n",
              "      <th>text</th>\n",
              "      <th>subject</th>\n",
              "      <th>date</th>\n",
              "      <th>fake?</th>\n",
              "    </tr>\n",
              "  </thead>\n",
              "  <tbody>\n",
              "    <tr>\n",
              "      <th>35681</th>\n",
              "      <td>IS HILLARY ABOUT TO BE “BERNED?”…Obama Tells D...</td>\n",
              "      <td>Hillary is failing miserably with the young vo...</td>\n",
              "      <td>politics</td>\n",
              "      <td>Mar 18, 2016</td>\n",
              "      <td>1</td>\n",
              "    </tr>\n",
              "    <tr>\n",
              "      <th>8387</th>\n",
              "      <td>Tech firms' encryption foe struggles for U.S. ...</td>\n",
              "      <td>WASHINGTON (Reuters) - A U.S. senator seen by ...</td>\n",
              "      <td>politicsNews</td>\n",
              "      <td>August 25, 2016</td>\n",
              "      <td>0</td>\n",
              "    </tr>\n",
              "    <tr>\n",
              "      <th>9792</th>\n",
              "      <td>U.S. top court backs New Jersey cop's politica...</td>\n",
              "      <td>WASHINGTON (Reuters) - The U.S. Supreme Court ...</td>\n",
              "      <td>politicsNews</td>\n",
              "      <td>April 26, 2016</td>\n",
              "      <td>0</td>\n",
              "    </tr>\n",
              "    <tr>\n",
              "      <th>34044</th>\n",
              "      <td>BIGOT OBAMA EXCLUDED White Christians In List ...</td>\n",
              "      <td>It s difficult to tell what Obama s doing with...</td>\n",
              "      <td>politics</td>\n",
              "      <td>Oct 25, 2016</td>\n",
              "      <td>1</td>\n",
              "    </tr>\n",
              "    <tr>\n",
              "      <th>34856</th>\n",
              "      <td>UNREAL! HERE’S WHY OBAMA SAYS He Stopped Using...</td>\n",
              "      <td>WOW! At About the 14:00 minute mark you ll hea...</td>\n",
              "      <td>politics</td>\n",
              "      <td>Jul 25, 2016</td>\n",
              "      <td>1</td>\n",
              "    </tr>\n",
              "    <tr>\n",
              "      <th>...</th>\n",
              "      <td>...</td>\n",
              "      <td>...</td>\n",
              "      <td>...</td>\n",
              "      <td>...</td>\n",
              "      <td>...</td>\n",
              "    </tr>\n",
              "    <tr>\n",
              "      <th>43021</th>\n",
              "      <td>MACY’S CELEBRATES AMERICA’S INDEPENDENCE BY PU...</td>\n",
              "      <td>Americans need to put American citizens first ...</td>\n",
              "      <td>left-news</td>\n",
              "      <td>Jul 1, 2015</td>\n",
              "      <td>1</td>\n",
              "    </tr>\n",
              "    <tr>\n",
              "      <th>33026</th>\n",
              "      <td>Ignorance Gave GITMO Prisoner FREEDOM…UK Gave ...</td>\n",
              "      <td>Tolerance + trust = human bombs for Islamic te...</td>\n",
              "      <td>politics</td>\n",
              "      <td>Feb 21, 2017</td>\n",
              "      <td>1</td>\n",
              "    </tr>\n",
              "    <tr>\n",
              "      <th>35553</th>\n",
              "      <td>HILARIOUS! SATURDAY NIGHT LIVE Mocks Hillary’s...</td>\n",
              "      <td>Yep, she s just like you and me!</td>\n",
              "      <td>politics</td>\n",
              "      <td>Apr 10, 2016</td>\n",
              "      <td>1</td>\n",
              "    </tr>\n",
              "    <tr>\n",
              "      <th>26267</th>\n",
              "      <td>CNN Guest SMACKS DOWN Trump Supporter For Rac...</td>\n",
              "      <td>Infamous Donald Trump surrogate and supporter ...</td>\n",
              "      <td>News</td>\n",
              "      <td>August 30, 2016</td>\n",
              "      <td>1</td>\n",
              "    </tr>\n",
              "    <tr>\n",
              "      <th>6980</th>\n",
              "      <td>Separation anxiety: Trump’s management style p...</td>\n",
              "      <td>NEW YORK (Reuters) - It has proven one of Dona...</td>\n",
              "      <td>politicsNews</td>\n",
              "      <td>December 1, 2016</td>\n",
              "      <td>0</td>\n",
              "    </tr>\n",
              "  </tbody>\n",
              "</table>\n",
              "<p>44898 rows × 5 columns</p>\n",
              "</div>"
            ],
            "text/plain": [
              "                                                   title  ... fake?\n",
              "35681  IS HILLARY ABOUT TO BE “BERNED?”…Obama Tells D...  ...     1\n",
              "8387   Tech firms' encryption foe struggles for U.S. ...  ...     0\n",
              "9792   U.S. top court backs New Jersey cop's politica...  ...     0\n",
              "34044  BIGOT OBAMA EXCLUDED White Christians In List ...  ...     1\n",
              "34856  UNREAL! HERE’S WHY OBAMA SAYS He Stopped Using...  ...     1\n",
              "...                                                  ...  ...   ...\n",
              "43021  MACY’S CELEBRATES AMERICA’S INDEPENDENCE BY PU...  ...     1\n",
              "33026  Ignorance Gave GITMO Prisoner FREEDOM…UK Gave ...  ...     1\n",
              "35553  HILARIOUS! SATURDAY NIGHT LIVE Mocks Hillary’s...  ...     1\n",
              "26267   CNN Guest SMACKS DOWN Trump Supporter For Rac...  ...     1\n",
              "6980   Separation anxiety: Trump’s management style p...  ...     0\n",
              "\n",
              "[44898 rows x 5 columns]"
            ]
          },
          "metadata": {
            "tags": []
          },
          "execution_count": 6
        }
      ]
    },
    {
      "cell_type": "code",
      "metadata": {
        "id": "G1ENLwivKGVs",
        "outputId": "8557f421-00e1-4281-f629-3d759fd34df1",
        "colab": {
          "base_uri": "https://localhost:8080/",
          "height": 197
        }
      },
      "source": [
        "#Combinamos columnas de texto\n",
        "news['text'] = news['title'] + \" \" + news['text']\n",
        "news.drop(['title', 'subject', 'date'], axis=1, inplace=True)\n",
        "news = news.drop_duplicates(['text', 'fake?'])\n",
        "news.sample(5)"
      ],
      "execution_count": 7,
      "outputs": [
        {
          "output_type": "execute_result",
          "data": {
            "text/html": [
              "<div>\n",
              "<style scoped>\n",
              "    .dataframe tbody tr th:only-of-type {\n",
              "        vertical-align: middle;\n",
              "    }\n",
              "\n",
              "    .dataframe tbody tr th {\n",
              "        vertical-align: top;\n",
              "    }\n",
              "\n",
              "    .dataframe thead th {\n",
              "        text-align: right;\n",
              "    }\n",
              "</style>\n",
              "<table border=\"1\" class=\"dataframe\">\n",
              "  <thead>\n",
              "    <tr style=\"text-align: right;\">\n",
              "      <th></th>\n",
              "      <th>text</th>\n",
              "      <th>fake?</th>\n",
              "    </tr>\n",
              "  </thead>\n",
              "  <tbody>\n",
              "    <tr>\n",
              "      <th>41741</th>\n",
              "      <td>OHIO COLLEGE PROFESSOR Makes Threatening Post ...</td>\n",
              "      <td>1</td>\n",
              "    </tr>\n",
              "    <tr>\n",
              "      <th>19819</th>\n",
              "      <td>Peru's Kuczynski swears in new Cabinet, opposi...</td>\n",
              "      <td>0</td>\n",
              "    </tr>\n",
              "    <tr>\n",
              "      <th>15038</th>\n",
              "      <td>Ireland will not threaten to veto Brexit talks...</td>\n",
              "      <td>0</td>\n",
              "    </tr>\n",
              "    <tr>\n",
              "      <th>14508</th>\n",
              "      <td>EU's Tusk: no deadlock on Brexit, very cautiou...</td>\n",
              "      <td>0</td>\n",
              "    </tr>\n",
              "    <tr>\n",
              "      <th>24569</th>\n",
              "      <td>Republicans Vote To DEFUND The U.N. In Retali...</td>\n",
              "      <td>1</td>\n",
              "    </tr>\n",
              "  </tbody>\n",
              "</table>\n",
              "</div>"
            ],
            "text/plain": [
              "                                                    text  fake?\n",
              "41741  OHIO COLLEGE PROFESSOR Makes Threatening Post ...      1\n",
              "19819  Peru's Kuczynski swears in new Cabinet, opposi...      0\n",
              "15038  Ireland will not threaten to veto Brexit talks...      0\n",
              "14508  EU's Tusk: no deadlock on Brexit, very cautiou...      0\n",
              "24569   Republicans Vote To DEFUND The U.N. In Retali...      1"
            ]
          },
          "metadata": {
            "tags": []
          },
          "execution_count": 7
        }
      ]
    },
    {
      "cell_type": "code",
      "metadata": {
        "id": "N6lbFXAOKGVv",
        "outputId": "cf3b597c-40c5-4240-d5a2-a0061f9ece27",
        "colab": {
          "base_uri": "https://localhost:8080/",
          "height": 34
        }
      },
      "source": [
        "news.shape"
      ],
      "execution_count": 8,
      "outputs": [
        {
          "output_type": "execute_result",
          "data": {
            "text/plain": [
              "(39105, 2)"
            ]
          },
          "metadata": {
            "tags": []
          },
          "execution_count": 8
        }
      ]
    },
    {
      "cell_type": "code",
      "metadata": {
        "id": "ZHMc7dCsKGVx",
        "outputId": "a863fabc-5643-4654-ade2-09bbc44a797d",
        "colab": {
          "base_uri": "https://localhost:8080/",
          "height": 70
        }
      },
      "source": [
        "news['fake?'].value_counts()"
      ],
      "execution_count": 9,
      "outputs": [
        {
          "output_type": "execute_result",
          "data": {
            "text/plain": [
              "0    21197\n",
              "1    17908\n",
              "Name: fake?, dtype: int64"
            ]
          },
          "metadata": {
            "tags": []
          },
          "execution_count": 9
        }
      ]
    },
    {
      "cell_type": "code",
      "metadata": {
        "id": "20ilevSoKGV2",
        "outputId": "e07ebc88-ac86-4256-a05f-1acb4e97b082",
        "colab": {
          "base_uri": "https://localhost:8080/",
          "height": 34
        }
      },
      "source": [
        "# Se separan el dataset en los sets de train (luego el de train en validacion) y el de test\n",
        "# este enfoque se justifica previo a la tokenizacion\n",
        "from sklearn.model_selection import train_test_split\n",
        "\n",
        "train, test = train_test_split(news, test_size=0.3, random_state=42)\n",
        "train, validation = train_test_split(train, test_size = 0.2, random_state=42)\n",
        "print(len(train), len(validation), len(test) )"
      ],
      "execution_count": 10,
      "outputs": [
        {
          "output_type": "stream",
          "text": [
            "21898 5475 11732\n"
          ],
          "name": "stdout"
        }
      ]
    },
    {
      "cell_type": "code",
      "metadata": {
        "id": "Ebqd0LU6KGV5"
      },
      "source": [
        ""
      ],
      "execution_count": 10,
      "outputs": []
    },
    {
      "cell_type": "code",
      "metadata": {
        "id": "MAjbLtk4KGV8"
      },
      "source": [
        "from tensorflow.keras.preprocessing.text import Tokenizer\n",
        "filtrar = '!\"#$%&()*+,-./:;<=>?@[\\\\]^_`{|}~\\t\\n' #Hay un problema con ' quizas se puede resolver en un paso previo\n",
        "\n",
        "tokenizer = Tokenizer(filters=filtrar, lower=True, split=\" \")\n",
        "tokenizer.fit_on_texts(train.text)\n",
        "word_index = tokenizer.word_index"
      ],
      "execution_count": 11,
      "outputs": []
    },
    {
      "cell_type": "code",
      "metadata": {
        "id": "ZFFvpUTuKGWD"
      },
      "source": [
        "train_matrix = tokenizer.texts_to_sequences(np.array(train.text))\n",
        "val_matrix = tokenizer.texts_to_sequences(np.array(validation.text))\n",
        "test_matrix = tokenizer.texts_to_sequences(np.array(test.text))\n"
      ],
      "execution_count": 12,
      "outputs": []
    },
    {
      "cell_type": "code",
      "metadata": {
        "id": "pwXdnzuQKrbx"
      },
      "source": [
        "from tensorflow.keras.preprocessing.sequence import pad_sequences\n",
        "train_matrix = pad_sequences(train_matrix, maxlen=2048, padding=\"post\", truncating=\"post\")\n",
        "val_matrix = pad_sequences(val_matrix, maxlen=2048, padding=\"post\", truncating=\"post\")\n",
        "test_matrix = pad_sequences(test_matrix, maxlen=2048, padding=\"post\", truncating=\"post\")"
      ],
      "execution_count": 13,
      "outputs": []
    },
    {
      "cell_type": "code",
      "metadata": {
        "id": "461-BYJwKGWH",
        "outputId": "8f8bcc02-b790-4b28-d8e4-03f91381e035",
        "colab": {
          "base_uri": "https://localhost:8080/",
          "height": 34
        }
      },
      "source": [
        "type(train_matrix)"
      ],
      "execution_count": 14,
      "outputs": [
        {
          "output_type": "execute_result",
          "data": {
            "text/plain": [
              "numpy.ndarray"
            ]
          },
          "metadata": {
            "tags": []
          },
          "execution_count": 14
        }
      ]
    },
    {
      "cell_type": "code",
      "metadata": {
        "id": "1welQowGKGWK",
        "outputId": "09ad9612-a24d-42a6-daba-ad18530a7fbd",
        "colab": {
          "base_uri": "https://localhost:8080/",
          "height": 34
        }
      },
      "source": [
        "train_matrix.shape"
      ],
      "execution_count": 15,
      "outputs": [
        {
          "output_type": "execute_result",
          "data": {
            "text/plain": [
              "(21898, 2048)"
            ]
          },
          "metadata": {
            "tags": []
          },
          "execution_count": 15
        }
      ]
    },
    {
      "cell_type": "code",
      "metadata": {
        "id": "hh0KgkElKGWM",
        "outputId": "b7ee5b83-a469-4e9a-d333-7563b49ba365",
        "colab": {
          "base_uri": "https://localhost:8080/",
          "height": 34
        }
      },
      "source": [
        "train_matrix[0]"
      ],
      "execution_count": 16,
      "outputs": [
        {
          "output_type": "execute_result",
          "data": {
            "text/plain": [
              "array([84, 65, 38, ...,  0,  0,  0], dtype=int32)"
            ]
          },
          "metadata": {
            "tags": []
          },
          "execution_count": 16
        }
      ]
    },
    {
      "cell_type": "code",
      "metadata": {
        "id": "fGkLNuzoKGWP",
        "outputId": "28ddb13e-6770-4e44-c22f-00de74d51144",
        "colab": {
          "base_uri": "https://localhost:8080/",
          "height": 34
        }
      },
      "source": [
        "val_matrix.shape"
      ],
      "execution_count": 17,
      "outputs": [
        {
          "output_type": "execute_result",
          "data": {
            "text/plain": [
              "(5475, 2048)"
            ]
          },
          "metadata": {
            "tags": []
          },
          "execution_count": 17
        }
      ]
    },
    {
      "cell_type": "code",
      "metadata": {
        "id": "O3YD7DdLKGWS",
        "outputId": "7e12da49-6709-45ca-b867-9bdf4204a008",
        "colab": {
          "base_uri": "https://localhost:8080/",
          "height": 34
        }
      },
      "source": [
        "test_matrix.shape"
      ],
      "execution_count": null,
      "outputs": [
        {
          "output_type": "execute_result",
          "data": {
            "text/plain": [
              "(13470, 2048)"
            ]
          },
          "metadata": {
            "tags": []
          },
          "execution_count": 50
        }
      ]
    },
    {
      "cell_type": "code",
      "metadata": {
        "id": "3vnl0_H3KGWU"
      },
      "source": [
        "x_train = np.copy(train_matrix)\n",
        "x_val = np.copy(val_matrix)\n",
        "x_test = np.copy(test_matrix)\n",
        "y_train = train['fake?'].values\n",
        "y_val = validation['fake?'].values\n",
        "y_test = test['fake?'].values\n"
      ],
      "execution_count": 20,
      "outputs": []
    },
    {
      "cell_type": "markdown",
      "metadata": {
        "id": "RsHfjQQBKGWZ"
      },
      "source": [
        "### Aqui comienza la configuracion y entrenamiento de la red base"
      ]
    },
    {
      "cell_type": "code",
      "metadata": {
        "id": "Jj-2H3XCKGWa",
        "outputId": "32b3dc95-8300-41ac-f9b4-b154b7964841",
        "colab": {
          "base_uri": "https://localhost:8080/",
          "height": 407
        }
      },
      "source": [
        "from tensorflow.keras.models import Sequential\n",
        "from tensorflow.keras.layers import Dense, Embedding, GRU, LSTM, Bidirectional, Dropout, GlobalAveragePooling1D, BatchNormalization\n",
        "\n",
        "EMBEDDINGS_DIMENSION = 20\n",
        "\n",
        "# Creamos un modelo con dos capas ocultas de 16 neuronas cada una\n",
        "model = Sequential(name=\"modelo_base\")\n",
        "model.add(Embedding(trainable=True,\n",
        "    input_length=(x_train.shape[1]),\n",
        "    output_dim=EMBEDDINGS_DIMENSION,\n",
        "    input_dim=(len(tokenizer.word_counts) + 1)))\n",
        "\n",
        "model.add(Bidirectional(GRU(EMBEDDINGS_DIMENSION, return_sequences=True)))\n",
        "model.add(Bidirectional(GRU(EMBEDDINGS_DIMENSION)))\n",
        "\n",
        "model.add(Dropout(0.5))\n",
        "model.add(Dense(32, activation='relu'))\n",
        "\n",
        "model.add(BatchNormalization())\n",
        "model.add(Dense(1, activation='sigmoid'))\n",
        "\n",
        "model.summary()"
      ],
      "execution_count": 25,
      "outputs": [
        {
          "output_type": "stream",
          "text": [
            "Model: \"modelo_base\"\n",
            "_________________________________________________________________\n",
            "Layer (type)                 Output Shape              Param #   \n",
            "=================================================================\n",
            "embedding_1 (Embedding)      (None, 2048, 20)          2177760   \n",
            "_________________________________________________________________\n",
            "bidirectional_2 (Bidirection (None, 2048, 40)          5040      \n",
            "_________________________________________________________________\n",
            "bidirectional_3 (Bidirection (None, 40)                7440      \n",
            "_________________________________________________________________\n",
            "dropout_1 (Dropout)          (None, 40)                0         \n",
            "_________________________________________________________________\n",
            "dense_2 (Dense)              (None, 32)                1312      \n",
            "_________________________________________________________________\n",
            "batch_normalization_1 (Batch (None, 32)                128       \n",
            "_________________________________________________________________\n",
            "dense_3 (Dense)              (None, 1)                 33        \n",
            "=================================================================\n",
            "Total params: 2,191,713\n",
            "Trainable params: 2,191,649\n",
            "Non-trainable params: 64\n",
            "_________________________________________________________________\n"
          ],
          "name": "stdout"
        }
      ]
    },
    {
      "cell_type": "code",
      "metadata": {
        "id": "UdWuceiTKGWd"
      },
      "source": [
        "# Compilamos el modelo\n",
        "model.compile(optimizer='adam',\n",
        "              loss='binary_crossentropy',\n",
        "              metrics=['accuracy'])"
      ],
      "execution_count": 26,
      "outputs": []
    },
    {
      "cell_type": "code",
      "metadata": {
        "id": "56R4kcC7KGWg",
        "outputId": "331bf843-7880-4c79-8a91-f472a1216254",
        "colab": {
          "base_uri": "https://localhost:8080/",
          "height": 178
        }
      },
      "source": [
        "# Entrenamos\n",
        "history = model.fit(x=x_train, y=y_train,\n",
        "                    epochs=4, batch_size=512, validation_data=(x_val, y_val))"
      ],
      "execution_count": 27,
      "outputs": [
        {
          "output_type": "stream",
          "text": [
            "Epoch 1/4\n",
            "43/43 [==============================] - 25s 583ms/step - loss: 0.4401 - accuracy: 0.7758 - val_loss: 0.5460 - val_accuracy: 0.9483\n",
            "Epoch 2/4\n",
            "43/43 [==============================] - 24s 558ms/step - loss: 0.0452 - accuracy: 0.9904 - val_loss: 0.1970 - val_accuracy: 0.9967\n",
            "Epoch 3/4\n",
            "43/43 [==============================] - 24s 557ms/step - loss: 0.0090 - accuracy: 0.9997 - val_loss: 0.0974 - val_accuracy: 0.9987\n",
            "Epoch 4/4\n",
            "43/43 [==============================] - 24s 556ms/step - loss: 0.0043 - accuracy: 1.0000 - val_loss: 0.0481 - val_accuracy: 0.9991\n"
          ],
          "name": "stdout"
        }
      ]
    },
    {
      "cell_type": "code",
      "metadata": {
        "id": "JNgZJBI6KGWj",
        "outputId": "c65668fb-2ae0-4d41-ce1f-6774694205e8",
        "colab": {
          "base_uri": "https://localhost:8080/",
          "height": 978
        }
      },
      "source": [
        "import matplotlib.pyplot as plt\n",
        "# El atributo `history` contiene un diccionario de métricas por epoch\n",
        "acc = history.history['accuracy']\n",
        "val_acc = history.history['val_accuracy']\n",
        "loss = history.history['loss']\n",
        "val_loss = history.history['val_loss']\n",
        "epochs = range(1, len(acc) + 1)\n",
        "\n",
        "plt.figure(figsize=(12,8))\n",
        "plt.title('Modelo de base')\n",
        "plt.plot(epochs, loss)\n",
        "plt.plot(epochs, val_loss)\n",
        "plt.xticks(ticks=epochs)\n",
        "plt.ylabel('Loss')\n",
        "plt.legend(['Training loss', 'Validation loss'])\n",
        "\n",
        "plt.figure(figsize=(12,8))\n",
        "plt.plot(epochs, acc)\n",
        "plt.plot(epochs, val_acc)\n",
        "plt.xticks(ticks=list(epochs))\n",
        "plt.xlabel('Epochs')\n",
        "plt.ylabel('Accuracy')\n",
        "plt.legend(['Training accuracy', 'Validation accuracy']);"
      ],
      "execution_count": 28,
      "outputs": [
        {
          "output_type": "display_data",
          "data": {
            "image/png": "[encoded data removed]",
            "text/plain": [
              "<Figure size 864x576 with 1 Axes>"
            ]
          },
          "metadata": {
            "tags": [],
            "needs_background": "light"
          }
        },
        {
          "output_type": "display_data",
          "data": {
            "image/png": "[encoded data removed]",
            "text/plain": [
              "<Figure size 864x576 with 1 Axes>"
            ]
          },
          "metadata": {
            "tags": [],
            "needs_background": "light"
          }
        }
      ]
    },
    {
      "cell_type": "markdown",
      "metadata": {
        "id": "HJQknMctKGWo"
      },
      "source": [
        "### Testeo"
      ]
    },
    {
      "cell_type": "code",
      "metadata": {
        "id": "uRjhlxFCKGWo",
        "outputId": "bfb1715b-abb5-485c-ce45-2174ca988299",
        "colab": {
          "base_uri": "https://localhost:8080/",
          "height": 90
        }
      },
      "source": [
        "y_pred = model.predict_classes(x_test)"
      ],
      "execution_count": 29,
      "outputs": [
        {
          "output_type": "stream",
          "text": [
            "WARNING:tensorflow:From <ipython-input-29-bae1a118294d>:1: Sequential.predict_classes (from tensorflow.python.keras.engine.sequential) is deprecated and will be removed after 2021-01-01.\n",
            "Instructions for updating:\n",
            "Please use instead:* `np.argmax(model.predict(x), axis=-1)`,   if your model does multi-class classification   (e.g. if it uses a `softmax` last-layer activation).* `(model.predict(x) > 0.5).astype(\"int32\")`,   if your model does binary classification   (e.g. if it uses a `sigmoid` last-layer activation).\n"
          ],
          "name": "stdout"
        }
      ]
    },
    {
      "cell_type": "code",
      "metadata": {
        "id": "GoqXBwSSKGWr",
        "outputId": "b9c17470-f842-498a-aedd-068f8a71ebcd",
        "colab": {
          "base_uri": "https://localhost:8080/",
          "height": 34
        }
      },
      "source": [
        "y_pred.shape"
      ],
      "execution_count": 30,
      "outputs": [
        {
          "output_type": "execute_result",
          "data": {
            "text/plain": [
              "(11732, 1)"
            ]
          },
          "metadata": {
            "tags": []
          },
          "execution_count": 30
        }
      ]
    },
    {
      "cell_type": "code",
      "metadata": {
        "id": "jYXX-rN-KGWt",
        "outputId": "f54dbce1-d38b-4538-faf5-9daffdff655b",
        "colab": {
          "base_uri": "https://localhost:8080/",
          "height": 34
        }
      },
      "source": [
        "np.reshape(y_pred, y_pred.shape[0])"
      ],
      "execution_count": 31,
      "outputs": [
        {
          "output_type": "execute_result",
          "data": {
            "text/plain": [
              "array([0, 1, 1, ..., 0, 0, 0], dtype=int32)"
            ]
          },
          "metadata": {
            "tags": []
          },
          "execution_count": 31
        }
      ]
    },
    {
      "cell_type": "code",
      "metadata": {
        "id": "jzxtlJOaKGWw",
        "outputId": "0b54566b-088e-4ecc-b42f-2cbfa47e7b0d",
        "colab": {
          "base_uri": "https://localhost:8080/",
          "height": 34
        }
      },
      "source": [
        "y_test[0:5]"
      ],
      "execution_count": 32,
      "outputs": [
        {
          "output_type": "execute_result",
          "data": {
            "text/plain": [
              "array([0, 1, 1, 1, 0])"
            ]
          },
          "metadata": {
            "tags": []
          },
          "execution_count": 32
        }
      ]
    },
    {
      "cell_type": "code",
      "metadata": {
        "id": "Gr7axy1oKGWz",
        "outputId": "9569a218-dab9-4af1-e2f8-1db1c44e1792",
        "colab": {
          "base_uri": "https://localhost:8080/",
          "height": 176
        }
      },
      "source": [
        "from sklearn.metrics import classification_report,confusion_matrix,accuracy_score\n",
        "print(classification_report(y_test, y_pred, target_names = ['Fake','Not Fake']))"
      ],
      "execution_count": 33,
      "outputs": [
        {
          "output_type": "stream",
          "text": [
            "              precision    recall  f1-score   support\n",
            "\n",
            "        Fake       1.00      1.00      1.00      6334\n",
            "    Not Fake       1.00      1.00      1.00      5398\n",
            "\n",
            "    accuracy                           1.00     11732\n",
            "   macro avg       1.00      1.00      1.00     11732\n",
            "weighted avg       1.00      1.00      1.00     11732\n",
            "\n"
          ],
          "name": "stdout"
        }
      ]
    },
    {
      "cell_type": "code",
      "metadata": {
        "id": "xzQZiJiAKGW4"
      },
      "source": [
        "cm = confusion_matrix(y_test, y_pred , labels=[0, 1])\n"
      ],
      "execution_count": 34,
      "outputs": []
    },
    {
      "cell_type": "code",
      "metadata": {
        "id": "6w3SN4mvKGW7",
        "outputId": "df114562-7c9d-4b26-a8f1-8a7a85b0f820",
        "colab": {
          "base_uri": "https://localhost:8080/",
          "height": 294
        }
      },
      "source": [
        "import seaborn as sns\n",
        "sns.heatmap(cm, annot=True, fmt='.0f')\n",
        "plt.ylabel('Verdaderos')\n",
        "plt.title('Cofusion Matrix - Base Model')\n",
        "plt.xlabel('Predichos');"
      ],
      "execution_count": 35,
      "outputs": [
        {
          "output_type": "display_data",
          "data": {
            "image/png": "[encoded data removed]",
            "text/plain": [
              "<Figure size 432x288 with 2 Axes>"
            ]
          },
          "metadata": {
            "tags": [],
            "needs_background": "light"
          }
        }
      ]
    }
  ]
}